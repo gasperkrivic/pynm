{
 "cells": [
  {
   "cell_type": "markdown",
   "metadata": {
    "slideshow": {
     "slide_type": "slide"
    }
   },
   "source": [
    "# Numerično reševanje diferencialnih enačb - začetni problem"
   ]
  },
  {
   "cell_type": "code",
   "execution_count": 1,
   "metadata": {
    "slideshow": {
     "slide_type": "subslide"
    }
   },
   "outputs": [],
   "source": [
    "import numpy as np\n",
    "from ipywidgets import interact\n",
    "import matplotlib.pyplot as plt\n",
    "%matplotlib inline\n",
    "import sympy as sym\n",
    "sym.init_printing()"
   ]
  },
  {
   "cell_type": "markdown",
   "metadata": {
    "slideshow": {
     "slide_type": "slide"
    }
   },
   "source": [
    "## Uvod"
   ]
  },
  {
   "cell_type": "markdown",
   "metadata": {
    "slideshow": {
     "slide_type": "subslide"
    }
   },
   "source": [
    "\n",
    "### Zapis (ene) diferencialne enačbe"
   ]
  },
  {
   "cell_type": "markdown",
   "metadata": {},
   "source": [
    "Predpostavimo, da je mogoče diferencialno enačbo prvega reda zapisati v *eksplicitni* obliki:\n",
    "\n",
    "$$y'=f(t, y),$$\n",
    "\n",
    "kjer je $f(t, y)$ podana funkcija in velja $y'=dy/dx$.\n",
    "\n",
    "Dodatno je podan začetni pogoj:\n",
    "\n",
    "$$y(t_0)=y_0.$$"
   ]
  },
  {
   "cell_type": "markdown",
   "metadata": {
    "slideshow": {
     "slide_type": "subslide"
    }
   },
   "source": [
    "Cilj reševanja diferencialne enačbe je izračunati funkcijo $y(t)$, ki reši zgoraj definiran začetni problem. Ob določenih pogojih funkcije $f(t, y)$ ima začetni problem enolično rešitev na intevalu, ki vsebuje $t_0$."
   ]
  },
  {
   "cell_type": "markdown",
   "metadata": {
    "slideshow": {
     "slide_type": "subslide"
    }
   },
   "source": [
    "Pri numeričnem reševanju vedno računamo tabelo funkcije $y(t_i)$, ki reši dan začetni problem. Pri tem so vozlišča $t_i$ običajno ekvidistantna:\n",
    "\n",
    "$$t_0, t_0+h, t_0+2h,\\dots$$\n",
    "\n",
    "in $h$ imenujemo (časovni) korak (integracije).\n",
    "\n",
    "Tukaj si bomo pogledali nekatere numerične metode za reševanje diferencialnih enačb pri začetnem pogoju."
   ]
  },
  {
   "cell_type": "markdown",
   "metadata": {
    "slideshow": {
     "slide_type": "slide"
    }
   },
   "source": [
    "## Eulerjeva metoda"
   ]
  },
  {
   "cell_type": "markdown",
   "metadata": {},
   "source": [
    "**Eksplicitna Eulerjeva metoda** temelji na razvoju funkcije $y$ v Taylorjevo vrsto:\n",
    "\n",
    "$$y(t+h)=y(t)+y'(t, y(t))\\,h + \n",
    "\\mathcal{O}(h^2).$$"
   ]
  },
  {
   "cell_type": "markdown",
   "metadata": {},
   "source": [
    "Naredimo napako metode $\\mathcal{O}(h^2)$, ker zanemarimo odvode drugega in višjih redov; sedaj lahko ob znani vrednosti $y(t)$ in odvodu $y'(t)=f(t,y)$ ocenimo vrednosti pri naslednjem časovnem koraku $t+h$. Ko imamo enkrat znane vrednosti pri $t+h$, ponovimo postopek!"
   ]
  },
  {
   "cell_type": "markdown",
   "metadata": {
    "slideshow": {
     "slide_type": "subslide"
    }
   },
   "source": [
    "Koraki Eulerjeve metode:\n",
    "\n",
    "1. Postavimo $i=0$, $t_0$, $y_0=y(t_0)$.\n",
    "2. Izračun vrednosti funkcije pri $t_{i+1}=t_i+h$: $y_{i+1}= y_i + f(t_i, y_i)\\,h.$\n",
    "3. $i=i+1$ in nadaljevanje v koraku 2."
   ]
  },
  {
   "cell_type": "markdown",
   "metadata": {
    "slideshow": {
     "slide_type": "subslide"
    }
   },
   "source": [
    "Diferencialno enačbo rešujemo na intervalu $[t_0,t_n]$ in velja $h=(t_n-t_0)/n$. $n$ je število integracijskih korakov (kolikokrat izvedemo korak 2 v zgornjem algoritmu). \n",
    "\n",
    "Numerična rešitev začetnega problema:\n",
    "\n",
    "$$y_0, y_1, y_2,\\dots, y_{n}$$\n",
    "\n",
    "pri vrednostih neodvisne spremenljivke:\n",
    "\n",
    "$$t_0, t_1, t_2\\, \\dots \\, t_n.$$"
   ]
  },
  {
   "cell_type": "code",
   "execution_count": 2,
   "metadata": {},
   "outputs": [
    {
     "data": {
      "image/jpeg": "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",
      "text/html": [
       "\n",
       "        <iframe\n",
       "            width=\"800\"\n",
       "            height=\"300\"\n",
       "            src=\"https://www.youtube.com/embed/cfZ8v0b-R8o\"\n",
       "            frameborder=\"0\"\n",
       "            allowfullscreen\n",
       "            \n",
       "        ></iframe>\n",
       "        "
      ],
      "text/plain": [
       "<IPython.lib.display.YouTubeVideo at 0x1f9d0468550>"
      ]
     },
     "execution_count": 2,
     "metadata": {},
     "output_type": "execute_result"
    }
   ],
   "source": [
    "from IPython.display import YouTubeVideo\n",
    "YouTubeVideo('cfZ8v0b-R8o', width=800, height=300)"
   ]
  },
  {
   "cell_type": "markdown",
   "metadata": {
    "slideshow": {
     "slide_type": "subslide"
    }
   },
   "source": [
    "### Napaka Eulerjeve metode\n",
    "\n",
    "Napaka Eulerjeve metode na vsakem koraku je reda $\\mathcal{O}(h^2)$. \n",
    "\n",
    "Ker na intervalu od $t_0$ do $t_n$ tako napako naredimo $n$-krat, je kumulativna napaka $n\\,\\mathcal{O}(h^2)=\\frac{t_n-t_0}{h}\\,\\mathcal{O}(h^2)=\\mathcal{O}(h)$.\n",
    "\n",
    "Lokalno je napaka drugega reda, globalno pa je napaka prvega reda in ker je Eulerjeva metoda tako nenatančna jo redko uporabljamo v praksi!"
   ]
  },
  {
   "cell_type": "markdown",
   "metadata": {
    "slideshow": {
     "slide_type": "subslide"
    }
   },
   "source": [
    "#### Ocena napake\n",
    "\n",
    "Točna rešitev $y(t_n)$ pri velikosti koraka $h$ je:\n",
    "\n",
    "$$y(t_n)=y_{n,h}+E_h,$$\n",
    "\n",
    "kjer je $y_{n,h}$ numerični približek in $E_h$ napaka metode. Ker je globalna napaka prvega reda, lahko napako zapišemo kot:\n",
    "\n",
    "$$E_h=k\\,h.$$"
   ]
  },
  {
   "cell_type": "markdown",
   "metadata": {
    "slideshow": {
     "slide_type": "subslide"
    }
   },
   "source": [
    "Podobno lahko za velikost koraka $2h$ zapišemo:\n",
    "\n",
    "$$y(t_n)=y_{n,2h}+E_{2h},$$\n",
    "\n",
    "kjer je $y_{n,2h}$ numerični približek in $E_{2h}$ napaka metode:\n",
    "\n",
    "$$E_{2h}=k\\,2\\,h.$$"
   ]
  },
  {
   "cell_type": "markdown",
   "metadata": {
    "slideshow": {
     "slide_type": "subslide"
    }
   },
   "source": [
    "Ob predpostavki, da je konstanta $k$ pri koraku $h$ in koraku $2h$ enaka, lahko določimo oceno napake pri boljšem približku $E_h$. Očitno velja:\n",
    "\n",
    "$$y_{n,h}+k\\,h=y_{n,2h}+2\\,k\\,h$$\n",
    "\n",
    "nato določimo *oceno napake*:\n",
    "\n",
    "$$E_h=k\\,h=y_{n,h}-y_{n,2h}.$$"
   ]
  },
  {
   "cell_type": "markdown",
   "metadata": {
    "slideshow": {
     "slide_type": "subslide"
    }
   },
   "source": [
    "### Komentar na implicitno Eulerjevo metodo\n",
    "\n",
    "Pri eksplicitni Eulerjevi metodi računamo rešitev pri $t_{i+1}$ iz izračunane vrednosti pri $t_i$.\n",
    "\n",
    "V kolikor bi nastopala neznana vrednost rešitve pri $t_{i+1}$, to je $y_{i+1}$, tudi na desni strani, bi govorili o **implicitni Eulerjevi metodi** (ali *povratni Eulerjevi metodi*):\n",
    "\n",
    "$$y_{i+1}=y_i+f(t_{i+1}, y_{i+1})\\,h.$$"
   ]
  },
  {
   "cell_type": "markdown",
   "metadata": {
    "slideshow": {
     "slide_type": "subslide"
    }
   },
   "source": [
    "Ker se iskana vrednost $y_{i+1}$ nahaja na obeh straneh enačbe, moramo za določitev $y_{i+1}$ rešiti (nelinearno) enačbo. Prednost implicitne Eulerjeve metode je, da je bolj stabilna (npr. v primeru togih sistemov, ki jih bomo spoznali pozneje) kakor eksplicitna oblika, vendar pa je numerično bolj zahtevna (zaradi računanja rešitve enačbe)."
   ]
  },
  {
   "cell_type": "markdown",
   "metadata": {
    "slideshow": {
     "slide_type": "subslide"
    }
   },
   "source": [
    "### Numerična implementacija\n",
    "\n",
    "Najprej uvozimo potrebne knjižnice:"
   ]
  },
  {
   "cell_type": "code",
   "execution_count": 3,
   "metadata": {},
   "outputs": [],
   "source": [
    "import numpy as np\n",
    "import matplotlib.pylab as plt\n",
    "%matplotlib inline"
   ]
  },
  {
   "cell_type": "markdown",
   "metadata": {},
   "source": [
    "Nato definirajmo Eulerjevo metodo:"
   ]
  },
  {
   "cell_type": "code",
   "execution_count": 4,
   "metadata": {
    "slideshow": {
     "slide_type": "subslide"
    }
   },
   "outputs": [],
   "source": [
    "def euler(f, t, y0, *args, **kwargs):\n",
    "    \"\"\"\n",
    "    Eulerjeva metoda za reševanje sistema diferencialnih enačb: y' = f(t, y)\n",
    "    \n",
    "    :param f:  funkcija, ki vrne prvi odvod - f(t, y)\n",
    "    :param t:  časovni vektor kjer računamo rešitev\n",
    "    :param y0: začetna vrednosti\n",
    "    :param args: dodatni argumenti funkcije f (brezimenski)\n",
    "    :param kwargs: dodatni argumenti funkcije f (poimenovani)\n",
    "    :return y: vrne np.array ``y`` vrednosti funkcije.\n",
    "    \"\"\"\n",
    "    y = np.zeros_like(t)\n",
    "    y[0] = y0        \n",
    "    h = t[1]-t[0]\n",
    "    for i in range(len(t)-1):\n",
    "        y[i+1] = y[i] + f(t[i], y[i], *args, **kwargs) * h\n",
    "    return y"
   ]
  },
  {
   "cell_type": "markdown",
   "metadata": {
    "slideshow": {
     "slide_type": "subslide"
    }
   },
   "source": [
    "Pripravimo funkcijo za oceno napake (v numeričnem smislu bi bilo bolje oceno napake vključiti v funkcijo `euler`, vendar jo zaradi jasnosti predstavimo ločeno):"
   ]
  },
  {
   "cell_type": "code",
   "execution_count": 5,
   "metadata": {},
   "outputs": [],
   "source": [
    "def euler_napaka(f, t, y0, *args, **kwargs):\n",
    "    \"\"\" Ocena napake Eulerjeve metode; argumenti so isti kakor za funkcijo `euler`\n",
    "    \"\"\"\n",
    "    n = len(t)\n",
    "    if n < 5:\n",
    "        raise Exception('Vozlišč mora biti vsaj 5.')\n",
    "    if n%2==0: # sodo vozlišč; odstrani eno točko in spremeni na liho (da je sodo odsekov)\n",
    "        n = n - 1\n",
    "    y_h = euler(f, t[:n], y0, *args, **kwargs)\n",
    "    y_2h = euler(f, t[:n:2], y0, *args, **kwargs)\n",
    "    E_h = y_h[-1] - y_2h[-1]\n",
    "    return E_h"
   ]
  },
  {
   "cell_type": "markdown",
   "metadata": {
    "slideshow": {
     "slide_type": "subslide"
    }
   },
   "source": [
    "### Numerični zgled\n",
    "\n",
    "\n",
    "Kot primer rešimo diferencialno enačbo, ki opisuje padanje telesa, ki je izpostavljeno sili teže in zračnemu uporu:\n",
    "<img width=150 src=\"fig/padanje_telesa.png\">"
   ]
  },
  {
   "cell_type": "markdown",
   "metadata": {
    "slideshow": {
     "slide_type": "subslide"
    }
   },
   "source": [
    "Glede na II. Newtonov zakon, lahko zapišemo diferencialno enačbo:\n",
    "\n",
    "$$m\\,g-c\\,v=m\\,v',$$\n",
    "kjer je $m$ masa, $g$ gravitacijski pospešek, $c$ koeficient zračnega upora in $v$ hitrost. Diferencialno enačbo bi hoteli rešiti glede na začetni pogoj:\n",
    "\n",
    "$$v(0)=0\\,\\textrm{m/s}.$$"
   ]
  },
  {
   "cell_type": "markdown",
   "metadata": {
    "slideshow": {
     "slide_type": "subslide"
    }
   },
   "source": [
    "Funkcija desne strani / prvega odvoda $f(t,y)$ je:\n",
    "\n",
    "$$f(t,y)=g-c\\,\n",
    "\\frac{y}{m}$$\n",
    "\n",
    "in začetni pogoj:\n",
    "\n",
    "$$y_0=0.$$"
   ]
  },
  {
   "cell_type": "markdown",
   "metadata": {
    "slideshow": {
     "slide_type": "subslide"
    }
   },
   "source": [
    "Definirajmo funkcijo desnih strani:"
   ]
  },
  {
   "cell_type": "code",
   "execution_count": 6,
   "metadata": {},
   "outputs": [],
   "source": [
    "def f_zračni_upor(t, y, g=9.81, m=1., c=0.5):\n",
    "    return g-c*y/m"
   ]
  },
  {
   "cell_type": "markdown",
   "metadata": {
    "slideshow": {
     "slide_type": "subslide"
    }
   },
   "source": [
    "Definirajmo začetni pogoj in časovni vektor, kjer nas zanima rezultat:"
   ]
  },
  {
   "cell_type": "code",
   "execution_count": 7,
   "metadata": {},
   "outputs": [
    {
     "data": {
      "text/plain": [
       "array([ 0.,  1.,  2.,  3.,  4.,  5.,  6.,  7.,  8.,  9., 10.])"
      ]
     },
     "execution_count": 7,
     "metadata": {},
     "output_type": "execute_result"
    }
   ],
   "source": [
    "v0 = 0\n",
    "t = np.linspace(0, 10, 11)\n",
    "t"
   ]
  },
  {
   "cell_type": "markdown",
   "metadata": {
    "slideshow": {
     "slide_type": "subslide"
    }
   },
   "source": [
    "Kličemo funkcijo `euler` za izračun vrednosti $y$ (hitrost $v$):"
   ]
  },
  {
   "cell_type": "code",
   "execution_count": 8,
   "metadata": {},
   "outputs": [
    {
     "data": {
      "text/plain": [
       "array([ 0.        ,  9.81      , 14.715     , 17.1675    , 18.39375   ,\n",
       "       19.006875  , 19.3134375 , 19.46671875, 19.54335938, 19.58167969,\n",
       "       19.60083984])"
      ]
     },
     "execution_count": 8,
     "metadata": {},
     "output_type": "execute_result"
    }
   ],
   "source": [
    "y = euler(f_zračni_upor, t, y0=v0)\n",
    "y"
   ]
  },
  {
   "cell_type": "markdown",
   "metadata": {
    "slideshow": {
     "slide_type": "subslide"
    }
   },
   "source": [
    "Prikažemo rezultat:"
   ]
  },
  {
   "cell_type": "code",
   "execution_count": 9,
   "metadata": {},
   "outputs": [
    {
     "data": {
      "image/png": "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",
      "text/plain": [
       "<Figure size 640x480 with 1 Axes>"
      ]
     },
     "metadata": {},
     "output_type": "display_data"
    }
   ],
   "source": [
    "plt.plot(t, y)\n",
    "plt.title('Hitrost mase v odvisnosti od časa')\n",
    "plt.xlabel('Čas $t$ [s]')\n",
    "plt.ylabel('Hitrost $v$ [m/s]')\n",
    "plt.show()"
   ]
  },
  {
   "cell_type": "markdown",
   "metadata": {
    "slideshow": {
     "slide_type": "subslide"
    }
   },
   "source": [
    "Preverimo sedaj vpliv časovnega koraka:"
   ]
  },
  {
   "cell_type": "code",
   "execution_count": 10,
   "metadata": {},
   "outputs": [
    {
     "data": {
      "image/png": "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",
      "text/plain": [
       "<Figure size 640x480 with 1 Axes>"
      ]
     },
     "metadata": {},
     "output_type": "display_data"
    }
   ],
   "source": [
    "for n in [11, 101, 1001]:\n",
    "    t = np.linspace(0, 10, n)\n",
    "    y = euler(f_zračni_upor, t, y0=v0, c=0.7)\n",
    "    plt.plot(t, y, label=f'Časovni korak: {t[1]:1.0e}')\n",
    "plt.title('Hitrost mase v odvisnosti od časa')\n",
    "plt.xlabel('Čas $t$ [s]')\n",
    "plt.ylabel('Hitrost $v$ [m/s]')\n",
    "plt.legend()\n",
    "plt.show()"
   ]
  },
  {
   "cell_type": "markdown",
   "metadata": {
    "slideshow": {
     "slide_type": "subslide"
    }
   },
   "source": [
    "Opazimo, da se numerična napaka pri spremembi koraka iz 1 na 0,1 bistveno zmanjša!\n",
    "\n",
    "Ocenimo še napako pri 100 in 1000 odsekih:"
   ]
  },
  {
   "cell_type": "code",
   "execution_count": 11,
   "metadata": {},
   "outputs": [
    {
     "data": {
      "image/png": "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",
      "text/latex": [
       "$\\displaystyle -0.015043713735345$"
      ],
      "text/plain": [
       "-0.015043713735344966"
      ]
     },
     "execution_count": 11,
     "metadata": {},
     "output_type": "execute_result"
    }
   ],
   "source": [
    "n=101\n",
    "t = np.linspace(0, 10, n)\n",
    "euler_napaka(f_zračni_upor, t, y0=v0)"
   ]
  },
  {
   "cell_type": "code",
   "execution_count": 12,
   "metadata": {},
   "outputs": [
    {
     "data": {
      "image/png": "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",
      "text/latex": [
       "$\\displaystyle -0.00163798622449463$"
      ],
      "text/plain": [
       "-0.0016379862244946253"
      ]
     },
     "execution_count": 12,
     "metadata": {},
     "output_type": "execute_result"
    }
   ],
   "source": [
    "n=1001\n",
    "t = np.linspace(0, 10, n)\n",
    "euler_napaka(f_zračni_upor, t, y0=v0)"
   ]
  },
  {
   "cell_type": "markdown",
   "metadata": {},
   "source": [
    "Ko smo korak zmanjšali na desetino, se je proporcionalno zmanjšala tudi napaka (prvi red napake)."
   ]
  },
  {
   "cell_type": "markdown",
   "metadata": {
    "slideshow": {
     "slide_type": "subslide"
    }
   },
   "source": [
    "Poglejmo še primer, ko je zračni upor `c` argument funkcije `euler` in je prek `**kwargs` posredovan v funkcijo `f_zračni_upor()`:"
   ]
  },
  {
   "cell_type": "code",
   "execution_count": 13,
   "metadata": {},
   "outputs": [
    {
     "data": {
      "image/png": "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",
      "text/plain": [
       "<Figure size 640x480 with 1 Axes>"
      ]
     },
     "metadata": {},
     "output_type": "display_data"
    }
   ],
   "source": [
    "for c in np.linspace(0, 1, 5):\n",
    "    t = np.linspace(0, 5, 1001)\n",
    "    y = euler(f_zračni_upor, t, y0=v0, c=c)\n",
    "    plt.plot(t, y, label=f'$c={c}$')\n",
    "plt.title('Hitrost mase v odvisnosti od časa pri različnem koef. zračnega upora')\n",
    "plt.xlabel('Čas $t$ [s]')\n",
    "plt.ylabel('Hitrost $v$ [m/s]')\n",
    "plt.legend()\n",
    "plt.show()"
   ]
  },
  {
   "cell_type": "markdown",
   "metadata": {
    "slideshow": {
     "slide_type": "slide"
    }
   },
   "source": [
    "## Metoda Runge-Kutta drugega reda"
   ]
  },
  {
   "cell_type": "markdown",
   "metadata": {},
   "source": [
    "Eulerjeva metoda je prvega reda (prvega reda je namreč globalna napaka $\\mathcal{O}(h)$). Če bi želeli izpeljati metodo drugega reda napake, bi si morali pomagati z razvojem $y(t+h)$ v Taylorjevo vrsto, kjer bomo zanemarili tretji in višje odvode:\n",
    "\n",
    "$$y(t+h)=y(t)+y'(t)\\,h + \\frac{1}{2}y''(t)\\,h^2+\\mathcal{O}(h^3).$$\n",
    "\n",
    "Lokalna napaka metode bo tako tretjega reda, globalna pa drugega reda."
   ]
  },
  {
   "cell_type": "markdown",
   "metadata": {
    "slideshow": {
     "slide_type": "subslide"
    }
   },
   "source": [
    "Uporabimo zamenjavi $y'(t)=f(t,y)$ in $y''(t)=f'(t,y)$:\n",
    "\n",
    "$$y(t+h)=y(t)+f(t,y)\\,h + \\frac{1}{2}f'(t,y)\\,h^2+\\mathcal{O}(h^3).$$"
   ]
  },
  {
   "cell_type": "markdown",
   "metadata": {
    "slideshow": {
     "slide_type": "subslide"
    }
   },
   "source": [
    "Ker je desna stran $f(t,y)$ odvisna od neodvisne $t$ in odvisne spremenljivke $y$, moramo uporabiti implicitno odvajanje:\n",
    "\n",
    "$$f'(t,y)=\\frac{\\partial f(t,y)}{\\partial t}+\\frac{\\partial f(t,y)}{\\partial y}\\,\\underbrace{\\frac{\\textrm{d} y}{\\textrm{d} t}}_{y'=f(t,y)}\n",
    "=\\frac{\\partial f(t,y)}{\\partial t}+\\frac{\\partial f(t,y)}{\\partial y}\\,{f(t, y)}.$$"
   ]
  },
  {
   "cell_type": "markdown",
   "metadata": {
    "slideshow": {
     "slide_type": "subslide"
    }
   },
   "source": [
    "Vstavimo v izraz za Taylorjevo vrsto:\n",
    "\n",
    "$$y(t+h)_{\\textrm{Taylor}}=y(t+h)=y(t)+f(t,y)\\,h + \\frac{1}{2}\\,{\\LARGE(}\n",
    "\\frac{\\partial f(t,y)}{\\partial t}+\\frac{\\partial f(t,y)}{\\partial y}\\,{f(t, y)}\n",
    "{\\LARGE)}\\,h^2.$$\n",
    "\n",
    "Kot je razvidno iz zgornjega izraza, potrebujemo dodatne odvode. To predstavlja določeno težavo, ki se ji lahko izognemo na različne načine; v nadaljevanju si bomo pogledali pristop *Runge-Kutta*. Ker bomo zgornji izraz pozneje še potrebovali, smo ga tukaj poimenovali $y(t+h)_{\\textrm{Taylor}}$."
   ]
  },
  {
   "cell_type": "markdown",
   "metadata": {
    "slideshow": {
     "slide_type": "subslide"
    }
   },
   "source": [
    "### Ideja pristopa Runge-Kutta"
   ]
  },
  {
   "cell_type": "markdown",
   "metadata": {},
   "source": [
    "Zgornjo dilemo metoda *Runge-Kutta* (razvita leta 1901) rešuje z idejo, ki smo jo sicer že srečali pri Gaussovi integraciji: točnejšo rešitev poskuša najti z uteženo dodatno vrednostjo funkcije $f$:\n",
    "\n",
    "$$y(t+h)_{\\textrm{Runge-Kutta}}=y(t)+c_0\\,f\\left(t,y\\right)\\,h +c_1\n",
    "\\underbrace{f{\\large(}t+p\\,h,y+q\\,h\\,f(t,y){\\large)}}_{A}\\,h.$$"
   ]
  },
  {
   "cell_type": "markdown",
   "metadata": {
    "slideshow": {
     "slide_type": "subslide"
    }
   },
   "source": [
    "kjer so $c_0$, $c_1$, $p$ in $q$ neznane konstante (načeloma od 0 do vključno 1). Če bi v zgornjem izrazu uporabili $c_1=0$, bi izpeljali metodo prvega reda; z dodatno funkcijsko vrednostjo ($A$) pa se bo izkazalo, da  bomo izpeljali metodo drugega reda. "
   ]
  },
  {
   "cell_type": "markdown",
   "metadata": {
    "slideshow": {
     "slide_type": "subslide"
    }
   },
   "source": [
    "Iskanje neznanih konstant $c_0$, $c_1$, $p$, $q$ nadaljujemo z zapisom $A$ v obliki Taylorjeve vrste prvega reda:\n",
    "\n",
    "$$f{\\large(}t+p\\,h,y+q\\,h\\,f(t,y){\\large)}=\n",
    "\\underbrace{\n",
    "f{\\large(}t,y{\\large)}+\n",
    "\\frac{\\partial f(t,y)}{\\partial t}\\,\\left(p\\,h\\right)+\n",
    "\\frac{\\partial f(t,y)}{\\partial y}\\,\\left(q\\,h\\,f(t, y)\\right)\n",
    "}_{B}.$$"
   ]
  },
  {
   "cell_type": "markdown",
   "metadata": {
    "slideshow": {
     "slide_type": "subslide"
    }
   },
   "source": [
    "Vstavimo sedaj izpeljani $B$ nazaj v izraz za $y(t+h)_{\\textrm{Runge-Kutta}}$:\n",
    "\n",
    "$$y(t+h)_{\\textrm{Runge-Kutta}}=y(t)+c_0\\,f\\left(t,y\\right)\\,h +c_1\n",
    "{\\LARGE(}\n",
    "f{\\large(}t,y{\\large)}+\n",
    "\\frac{\\partial f(t,y)}{\\partial t}\\,\\left(p\\,h\\right)+\n",
    "\\frac{\\partial f(t,y)}{\\partial y}\\,\\left(q\\,h\\,f(t, y)\\right)\n",
    "{\\LARGE)}\n",
    "\\,h.$$"
   ]
  },
  {
   "cell_type": "markdown",
   "metadata": {
    "slideshow": {
     "slide_type": "subslide"
    }
   },
   "source": [
    "Nadaljujemo z izpeljevanjem in enačbo preoblikujemo, da bo podobna zgoraj izpeljani s Taylorjevo vrsto $y(t+h)_{\\textrm{Taylor}}$:"
   ]
  },
  {
   "cell_type": "markdown",
   "metadata": {},
   "source": [
    "$$y(t+h)_{\\textrm{Runge-Kutta}}=y(t)+(c_0+c_1)\\,f\\left(t,y\\right)\\,h +\\frac{1}{2}\n",
    "{\\LARGE(}\n",
    "\\frac{\\partial f(t,y)}{\\partial t}\\,2\\,c_1\\,p+\n",
    "2\\,c_1\\,q\\,\\frac{\\partial f(t,y)}{\\partial y}\\,f(t, y)\n",
    "{\\LARGE)}\n",
    "\\,h^2.$$"
   ]
  },
  {
   "cell_type": "markdown",
   "metadata": {
    "slideshow": {
     "slide_type": "subslide"
    }
   },
   "source": [
    "Primerjajmo sedaj z zgoraj izpeljanim izrazom:\n",
    "\n",
    "$$y(t+h)_{\\textrm{Taylor}}=y(t)+f(t,y)\\,h + \\frac{1}{2}\\,{\\LARGE(}\n",
    "\\frac{\\partial f(t,y)}{\\partial t}+\\frac{\\partial f(t,y)}{\\partial y}\\,{f(t, y)}\n",
    "{\\LARGE)}\\,h^2.$$"
   ]
  },
  {
   "cell_type": "markdown",
   "metadata": {
    "slideshow": {
     "slide_type": "subslide"
    }
   },
   "source": [
    "Ugotovimo, da za enakost mora veljati:\n",
    "\n",
    "$$c_0+c_1=1,\\qquad 2\\,c_1\\,p=1,\\qquad 2\\,c_1\\,q=1.$$\n",
    "\n",
    "Imamo torej tri enačbe in štiri neznanke. Eno od konstant si tako lahko poljubno izberemo, ostale tri pa izračunamo. Če na primer izberemo $c_0=0$, bi to imenovali *spremenjena Eulerjeva metoda* in bi ostali parametri bili: $c_1=1$, $p=q=1/2$. Izbira parametrov nima bistvenega vpliva na rešitev. Sicer pa velja omeniti, da tudi metodo Runge-Kutta drugega reda redko uporabljamo, saj obstajajo boljše metode."
   ]
  },
  {
   "cell_type": "markdown",
   "metadata": {
    "slideshow": {
     "slide_type": "subslide"
    }
   },
   "source": [
    "Parametre $c_0$, $c_1$, $p$ in $q$ vstavimo v prvo enačbo tega poglavja. Ko je definiran začetni čas $t_0$ in začetni pogoj $y_0$, uporabimo metodo Runge-Kutta drugega reda:\n",
    "\n",
    "$$y_{i+1} = y_i + f\\left(t_i+\\frac{1}{2}\\,h, y_i+\\frac{1}{2}\\,h\\,f(t_i,y_i)\\right)\\,h.$$"
   ]
  },
  {
   "cell_type": "markdown",
   "metadata": {
    "slideshow": {
     "slide_type": "slide"
    }
   },
   "source": [
    "## Metoda Runge-Kutta četrtega reda"
   ]
  },
  {
   "cell_type": "markdown",
   "metadata": {},
   "source": [
    "Podobno kot smo izpeljali metodo Runge-Kutta drugea reda, se izpelje metodo Runge Kutta četrtega reda. Tudi pri metodi četrtega reda obstaja več različic in kot metoda Runge-Kutta četrtega reda razumemo naslednjo metodo:"
   ]
  },
  {
   "cell_type": "markdown",
   "metadata": {
    "slideshow": {
     "slide_type": "subslide"
    }
   },
   "source": [
    "$$y_{i+1}=y_i+\\frac{1}{6}(k_0+2\\,k_1+2\\,k_2+k_3),$$\n",
    "\n",
    "kjer so:\n",
    "\n",
    "$$\\begin{align}\n",
    "k_0&=h\\,f(t_i,y_i)\\\\\n",
    "k_1&=h\\,f\\left(t_i+\\frac{h}{2},y_i+\\frac{k_0}{2}\\right)\\\\\n",
    "k_2&=h\\,f\\left(t_i+\\frac{h}{2},y_i+\\frac{k_1}{2}\\right)\\\\\n",
    "k_3&=h\\,f\\left(t_i+h,y_i+k_2\\right).\n",
    "\\end{align}\n",
    "$$"
   ]
  },
  {
   "cell_type": "markdown",
   "metadata": {
    "slideshow": {
     "slide_type": "subslide"
    }
   },
   "source": [
    "Koraki metode Runge-Kutta četrtega reda so:\n",
    "\n",
    "1. Določitev $i=0$ in $t_0$, $y_0=y(t_0)$,\n",
    "2. Izračun koeficintov: $k_0$, $k_1$, $k_2$, $k_3$,\n",
    "3. Izračun vrednosti rešitve diferencialne enačbe pri $t_{i+1}=t_i+h$:   $\\quad y_{i+1}=y_i+\\frac{1}{6}(k_0+2\\,k_1+2\\,k_2+k_3),$\n",
    "4. $i=i+1$ in nadaljevanje v koraku 2."
   ]
  },
  {
   "cell_type": "markdown",
   "metadata": {
    "slideshow": {
     "slide_type": "subslide"
    }
   },
   "source": [
    "### Napaka metode Runge-Kutta četrtega reda"
   ]
  },
  {
   "cell_type": "markdown",
   "metadata": {
    "slideshow": {
     "slide_type": "subslide"
    }
   },
   "source": [
    "Metodo Runge-Kutta četrtega reda imenujemo tako zato, ker ima lokalno napako petega reda $\\mathcal{O}(h^5)$, vendar pa to napako naredimo $n$-krat, zato je globalna napaka četrtega reda $\\mathcal{O}(h^4)$. "
   ]
  },
  {
   "cell_type": "markdown",
   "metadata": {
    "slideshow": {
     "slide_type": "subslide"
    }
   },
   "source": [
    "#### Ocena napake\n",
    "\n",
    "Točen rezultat $y(t_n)$ pri velikosti koraka $h$ je:\n",
    "\n",
    "$$y(t_n)=y_{n,h}+E_h,$$\n",
    "\n",
    "kjer je $y_{n,h}$ numerični približek rešitve in $E_h$ napaka metode. Ker je globalna napaka četrtega reda, lahko napako zapišemo tako:\n",
    "\n",
    "$$E_h=k\\,h^4.$$"
   ]
  },
  {
   "cell_type": "markdown",
   "metadata": {
    "slideshow": {
     "slide_type": "subslide"
    }
   },
   "source": [
    "Podobno lahko za velikost koraka $2h$ zapišemo:\n",
    "\n",
    "$$y(t_n)=y_{n,2h}+E_{2h},$$\n",
    "\n",
    "kjer je $y_{n,2h}$ numerični približek rešitve in $E_{2h}$ napaka metode:\n",
    "\n",
    "$$E_{2h}=k\\,(2\\,h)^4=16\\,k\\,h^4.$$"
   ]
  },
  {
   "cell_type": "markdown",
   "metadata": {
    "slideshow": {
     "slide_type": "subslide"
    }
   },
   "source": [
    "Ob predpostavki, da je konstanta $k$ pri koraku $h$ in koraku $2h$ enaka, lahko izračunamo oceno napake pri boljšem približku $E_h$. \n",
    "\n",
    "Najprej je res:\n",
    "\n",
    "$$y_{n,h}+k\\,h^4=y_{n,2h}+16\\,k\\,h^4,$$"
   ]
  },
  {
   "cell_type": "markdown",
   "metadata": {
    "slideshow": {
     "slide_type": "subslide"
    }
   },
   "source": [
    "sledi:\n",
    "\n",
    "$$15\\,k\\,h^4=y_{n,h}-y_{n,2h}$$\n",
    "\n",
    "in nato določimo *oceno napake* natančnejše rešitve:\n",
    "\n",
    "$$E_h=\\frac{y_{n,h}-y_{n,2h}}{15}.$$"
   ]
  },
  {
   "cell_type": "markdown",
   "metadata": {
    "slideshow": {
     "slide_type": "subslide"
    }
   },
   "source": [
    "### Numerična implementacija"
   ]
  },
  {
   "cell_type": "code",
   "execution_count": 14,
   "metadata": {},
   "outputs": [],
   "source": [
    "def runge_kutta_4(f, t, y0, *args, **kwargs):\n",
    "    \"\"\"\n",
    "    Metoda Runge-Kutta 4. reda za reševanje diferencialne enačbe: y' = f(t, y)\n",
    "    \n",
    "    :param f: funkcija, ki jo kličemo s parametroma t in y in vrne \n",
    "              vrednost prvega odvoda\n",
    "    :param t: ekvidistanten časovni vektor oz. neodvisna spremenljivka\n",
    "    :param y0: začetna vrednost\n",
    "    :param args: dodatni argumenti funkcije f (brezimenski)\n",
    "    :param kwargs: dodatni argumenti funkcije f (poimenovani)\n",
    "    :return y: funkcijske vrednosti.\n",
    "    \"\"\"\n",
    "    def RK4(f, t, y, *args, **kwargs):\n",
    "        k0 = h*f(t, y, *args, **kwargs)\n",
    "        k1 = h*f(t + h/2.0, y + k0/2.0, *args, **kwargs)\n",
    "        k2 = h*f(t + h/2.0, y + k1/2.0, *args, **kwargs)\n",
    "        k3 = h*f(t + h, y + k2, *args, **kwargs)\n",
    "        return (k0 + 2.0*k1 + 2.0*k2 + k3)/6.0\n",
    "    \n",
    "    y = np.zeros_like(t)\n",
    "    y[0] = y0\n",
    "    h = t[1]-t[0]\n",
    "\n",
    "    for i, ti in enumerate(t[1:]):\n",
    "        y[i+1] = y[i] + RK4(f, ti, y[i], *args, **kwargs)\n",
    "        \n",
    "    return y"
   ]
  },
  {
   "cell_type": "markdown",
   "metadata": {
    "slideshow": {
     "slide_type": "subslide"
    }
   },
   "source": [
    "Funkcija za oceno napake:"
   ]
  },
  {
   "cell_type": "code",
   "execution_count": 15,
   "metadata": {},
   "outputs": [],
   "source": [
    "def runge_kutta_4_napaka(f, t, y0, *args, **kwargs):\n",
    "    \"\"\" Ocena napake metode Runge Kutta 4; argumenti isti kakor za `runge_kutta_4`\n",
    "    \"\"\"\n",
    "    n = len(t)\n",
    "    if n < 5:\n",
    "        raise Exception('Vozlišč mora biti vsaj 5.')\n",
    "    if n%2==0: # sodo vozlišč; odstrani eno točko in spremeni na liho (da je sodo odsekov)\n",
    "        n = n - 1\n",
    "    y_h = runge_kutta_4(f, t[:n], y0, *args, **kwargs)\n",
    "    y_2h = runge_kutta_4(f, t[:n:2], y0, *args, **kwargs)\n",
    "    E_h = (y_h[-1] - y_2h[-1])/15\n",
    "    return E_h"
   ]
  },
  {
   "cell_type": "markdown",
   "metadata": {
    "slideshow": {
     "slide_type": "subslide"
    }
   },
   "source": [
    "### Numerični zgled"
   ]
  },
  {
   "cell_type": "markdown",
   "metadata": {},
   "source": [
    "Poglejmo sedaj primer izračuna hitrosti padajoče mase:"
   ]
  },
  {
   "cell_type": "code",
   "execution_count": 16,
   "metadata": {},
   "outputs": [],
   "source": [
    "def f_zračni_upor(t, y, g=9.81, m=1., c=0.5):\n",
    "    return g-c*y/m"
   ]
  },
  {
   "cell_type": "markdown",
   "metadata": {
    "slideshow": {
     "slide_type": "subslide"
    }
   },
   "source": [
    "Podajmo začetni pogoj in časovni vektor, kjer nas zanima rezultat:"
   ]
  },
  {
   "cell_type": "code",
   "execution_count": 17,
   "metadata": {},
   "outputs": [
    {
     "data": {
      "text/plain": [
       "array([ 0.,  1.,  2.,  3.,  4.,  5.,  6.,  7.,  8.,  9., 10.])"
      ]
     },
     "execution_count": 17,
     "metadata": {},
     "output_type": "execute_result"
    }
   ],
   "source": [
    "v0 = 0\n",
    "t = np.linspace(0, 10, 11)\n",
    "t"
   ]
  },
  {
   "cell_type": "markdown",
   "metadata": {
    "slideshow": {
     "slide_type": "subslide"
    }
   },
   "source": [
    "Za primerjavo izračunajmo rešitev s funkcijo `euler` ter `runge_kutta_4`:"
   ]
  },
  {
   "cell_type": "code",
   "execution_count": 18,
   "metadata": {},
   "outputs": [],
   "source": [
    "y_euler = euler(f_zračni_upor, t, y0=v0, c=0.4)\n",
    "y_rk4 = runge_kutta_4(f_zračni_upor, t, y0=v0, c=0.4)"
   ]
  },
  {
   "cell_type": "markdown",
   "metadata": {
    "slideshow": {
     "slide_type": "subslide"
    }
   },
   "source": [
    "Prikažemo rezultat:"
   ]
  },
  {
   "cell_type": "code",
   "execution_count": 19,
   "metadata": {},
   "outputs": [
    {
     "data": {
      "image/png": "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",
      "text/plain": [
       "<Figure size 640x480 with 1 Axes>"
      ]
     },
     "metadata": {},
     "output_type": "display_data"
    }
   ],
   "source": [
    "plt.plot(t, y_euler, label='Euler')\n",
    "plt.plot(t, y_rk4, label='RK4')\n",
    "plt.title('Hitrost mase v odvisnosti od časa')\n",
    "plt.xlabel('Čas $t$ [s]')\n",
    "plt.ylabel('Hitrost $v$ [m/s]')\n",
    "plt.legend()\n",
    "plt.show()"
   ]
  },
  {
   "cell_type": "markdown",
   "metadata": {
    "slideshow": {
     "slide_type": "subslide"
    }
   },
   "source": [
    "Poglejmo še numerično napako:"
   ]
  },
  {
   "cell_type": "code",
   "execution_count": 20,
   "metadata": {},
   "outputs": [
    {
     "data": {
      "image/png": "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",
      "text/latex": [
       "$\\displaystyle 4.10657750175384 \\cdot 10^{-8}$"
      ],
      "text/plain": [
       "4.106577501753842e-08"
      ]
     },
     "execution_count": 20,
     "metadata": {},
     "output_type": "execute_result"
    }
   ],
   "source": [
    "n=101\n",
    "t = np.linspace(0, 10, n)\n",
    "runge_kutta_4_napaka(f_zračni_upor, t, y0=v0, c=0.4)"
   ]
  },
  {
   "cell_type": "code",
   "execution_count": 21,
   "metadata": {},
   "outputs": [
    {
     "data": {
      "image/png": "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",
      "text/latex": [
       "$\\displaystyle 3.85990498822745 \\cdot 10^{-12}$"
      ],
      "text/plain": [
       "3.859904988227451e-12"
      ]
     },
     "execution_count": 21,
     "metadata": {},
     "output_type": "execute_result"
    }
   ],
   "source": [
    "n=1001\n",
    "t = np.linspace(0, 10, n)\n",
    "runge_kutta_4_napaka(f_zračni_upor, t, y0=v0, c=0.4)"
   ]
  },
  {
   "cell_type": "markdown",
   "metadata": {},
   "source": [
    "Pri zmanjšanju koraka na desetino, se je napaka zmanjšala za približno $10^4$-krat (kar ustreza pričakovanjem za metodo četrtega reda)."
   ]
  },
  {
   "cell_type": "markdown",
   "metadata": {
    "slideshow": {
     "slide_type": "slide"
    }
   },
   "source": [
    "## Uporaba ``scipy`` za reševanje navadnih diferencialnih enačb"
   ]
  },
  {
   "cell_type": "markdown",
   "metadata": {},
   "source": [
    "Paket `scipy` ima implementiranih [veliko numeričnih metod](https://docs.scipy.org/doc/scipy/reference/integrate.html#solving-initial-value-problems-for-ode-systems) za reševanje začetnih problemov navadnih diferencialnih enačb. Tukaj si bomo ogledali funkcijo `scipy.integrate.solve_ivp`, ki je primerna za večino začetnih problemov."
   ]
  },
  {
   "cell_type": "markdown",
   "metadata": {
    "slideshow": {
     "slide_type": "subslide"
    }
   },
   "source": [
    "### `scipy.integrate.solve_ivp`"
   ]
  },
  {
   "cell_type": "markdown",
   "metadata": {
    "slideshow": {
     "slide_type": "-"
    }
   },
   "source": [
    "Sintaksa za uporabo (IVP - *angl.* Initial Value Problem):\n",
    "```python\n",
    "scipy.integrate.solve_ivp(fun, t_span, y0, method='RK45', \n",
    "                          t_eval=None, dense_output=False, \n",
    "                          events=None, vectorized=False, **options)\n",
    "```\n"
   ]
  },
  {
   "cell_type": "markdown",
   "metadata": {
    "slideshow": {
     "slide_type": "subslide"
    }
   },
   "source": [
    "Pojasnilo vseh argumentov je v [dokumentaciji](https://docs.scipy.org/doc/scipy/reference/generated/scipy.integrate.solve_ivp.html#scipy-integrate-solve-ivp), tukaj bomo izpostavili nekatere:\n",
    "\n",
    "* `fun` je desna stran (`func(t, y...)`),\n",
    "* `t_span` terka (`t0`, `tf`), ki definira začetni `t0` in končni čas `tf`,\n",
    "* `y0` **seznam** začetne(ih) vrednosti,\n",
    "* `method` definira numerično metodo (privzeta je eksplicitna 'RK45', za toge sisteme pa so boljše: 'Radau', 'BDF', 'LSODA'),\n",
    "* `t_eval` uporabimo, če želimo rešitve ob določenih vrednosti neodvisne spremenljivke, \n",
    "* `dense_output` ali se pripravi tudi zvezna rešitev, privzeto `False`,\n",
    "* `events` za sledenje dogodkov, ki ustavijo reševanje začetnega problema."
   ]
  },
  {
   "cell_type": "markdown",
   "metadata": {
    "slideshow": {
     "slide_type": "subslide"
    }
   },
   "source": [
    "Rezultat klicanja `solve_ivp` je objekt z atributi (izbrani):\n",
    "\n",
    "* `t` vrednosti neodvisne spremenljivke pri katerih je izračunan rezultat,\n",
    "* `y` rezultat,\n",
    "* `sol` funkcija zvezne rešitve (samo v primeru `dense_output=True`)\n",
    "* `success` je `True`, če je bila rešitev uspešno izračunana ali prekinjena zaradi dogodka (`events`)."
   ]
  },
  {
   "cell_type": "markdown",
   "metadata": {
    "slideshow": {
     "slide_type": "subslide"
    }
   },
   "source": [
    "#### Numerični zgled"
   ]
  },
  {
   "cell_type": "markdown",
   "metadata": {
    "slideshow": {
     "slide_type": "-"
    }
   },
   "source": [
    "Definirajmo začetni pogoj in časovni vektor, kjer nas zanima rezultat (prikažemo samo prvih deset elementov):"
   ]
  },
  {
   "cell_type": "code",
   "execution_count": 22,
   "metadata": {},
   "outputs": [
    {
     "data": {
      "text/plain": [
       "array([0. , 0.1, 0.2, 0.3, 0.4, 0.5, 0.6, 0.7, 0.8, 0.9])"
      ]
     },
     "execution_count": 22,
     "metadata": {},
     "output_type": "execute_result"
    }
   ],
   "source": [
    "v0 = 0\n",
    "t = np.linspace(0, 10, 101)\n",
    "t[:10]"
   ]
  },
  {
   "cell_type": "markdown",
   "metadata": {
    "slideshow": {
     "slide_type": "subslide"
    }
   },
   "source": [
    "Argumente (npr.: `c=0.4`) v funkcijo `fun` vpeljemo prek `lambda` izraza ([dokumentacija](https://docs.python.org/tutorial/controlflow.html#lambda-expressions)):"
   ]
  },
  {
   "cell_type": "code",
   "execution_count": 23,
   "metadata": {},
   "outputs": [],
   "source": [
    "from scipy.integrate import solve_ivp\n",
    "y_ivp = solve_ivp(lambda t,y: f_zračni_upor(t, y, c=0.4), t_span=(t[0], t[-1]), y0=[v0])"
   ]
  },
  {
   "cell_type": "markdown",
   "metadata": {},
   "source": [
    "Zgoraj uporabljen `lambda` izraz `lambda t, y: f_zračni_upor(t, y, c=0.4)` je ekvivalenten:\n",
    "\n",
    "```python\n",
    "def ime_funkcije(t, y):\n",
    "    return f_zračni_upor(t, y, c=0.4)\n",
    "```"
   ]
  },
  {
   "cell_type": "markdown",
   "metadata": {
    "slideshow": {
     "slide_type": "subslide"
    }
   },
   "source": [
    "Poglejmo rezultat:"
   ]
  },
  {
   "cell_type": "code",
   "execution_count": 24,
   "metadata": {},
   "outputs": [
    {
     "data": {
      "text/plain": [
       "  message: The solver successfully reached the end of the integration interval.\n",
       "  success: True\n",
       "   status: 0\n",
       "        t: [ 0.000e+00  1.000e-04  1.100e-03  1.110e-02  1.111e-01\n",
       "             1.111e+00  2.982e+00  5.236e+00  7.948e+00  1.000e+01]\n",
       "        y: [[ 0.000e+00  9.810e-04  1.079e-02  1.086e-01  1.066e+00\n",
       "              8.800e+00  1.708e+01  2.150e+01  2.350e+01  2.407e+01]]\n",
       "      sol: None\n",
       " t_events: None\n",
       " y_events: None\n",
       "     nfev: 56\n",
       "     njev: 0\n",
       "      nlu: 0"
      ]
     },
     "execution_count": 24,
     "metadata": {},
     "output_type": "execute_result"
    }
   ],
   "source": [
    "y_ivp"
   ]
  },
  {
   "cell_type": "markdown",
   "metadata": {},
   "source": [
    "Ker je `solve_ivp` že pripravljen za sistem navadnih diferencialnih enačb prvega reda, je rezultat podan v dveh dimenzijah. Iskan rezultat je torej: `y_ivp.y[0]`."
   ]
  },
  {
   "cell_type": "markdown",
   "metadata": {
    "slideshow": {
     "slide_type": "subslide"
    }
   },
   "source": [
    "Za primerjavo še rezultat z lastno implementacijo Runge-Kutta 4. reda:"
   ]
  },
  {
   "cell_type": "code",
   "execution_count": 25,
   "metadata": {},
   "outputs": [],
   "source": [
    "y_rk4 = runge_kutta_4(f_zračni_upor, t, y0=v0, c=0.4)"
   ]
  },
  {
   "cell_type": "code",
   "execution_count": 26,
   "metadata": {},
   "outputs": [
    {
     "data": {
      "text/plain": [
       "array([0.        , 0.96163898, 1.88557156, 2.77327623, 3.6261735 ,\n",
       "       4.44562819, 5.23295161, 5.98940363, 6.71619474, 7.41448797])"
      ]
     },
     "execution_count": 26,
     "metadata": {},
     "output_type": "execute_result"
    }
   ],
   "source": [
    "y_rk4[:10]"
   ]
  },
  {
   "cell_type": "markdown",
   "metadata": {
    "slideshow": {
     "slide_type": "subslide"
    }
   },
   "source": [
    "Prikažemo rezultat:"
   ]
  },
  {
   "cell_type": "code",
   "execution_count": 27,
   "metadata": {},
   "outputs": [
    {
     "data": {
      "image/png": "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",
      "text/plain": [
       "<Figure size 640x480 with 1 Axes>"
      ]
     },
     "metadata": {},
     "output_type": "display_data"
    }
   ],
   "source": [
    "plt.plot(y_ivp.t, y_ivp.y[0], '.', label='solve_ivp')\n",
    "plt.plot(t, y_rk4, label='RK4')\n",
    "plt.title('Hitrost mase v odvisnosti od časa')\n",
    "plt.xlabel('Čas $t$ [s]')\n",
    "plt.ylabel('Hitrost $v$ [m/s]')\n",
    "plt.legend()\n",
    "plt.show()"
   ]
  },
  {
   "cell_type": "markdown",
   "metadata": {
    "slideshow": {
     "slide_type": "slide"
    }
   },
   "source": [
    "## Sistem navadnih diferencialnih enačb"
   ]
  },
  {
   "cell_type": "markdown",
   "metadata": {},
   "source": [
    "Zgoraj smo si pogledali reševanje začetnega problema ene navadne diferencialne enačbe; sedaj bomo reševanje posplošili na *začetni problem za sistem $m$ navadnih diferencialnih enačb prvega reda*. \n",
    "\n",
    "Takšen sistem zapišemo:\n",
    "\n",
    "$$\\mathbf{y}'=\\mathbf{f}(t, \\mathbf{y}),$$\n",
    "\n",
    "kjer so podani dodatni (začetni) pogoji:\n",
    "\n",
    "$$\\mathbf{y}(t_0)=\\mathbf{y}_0.$$\n",
    "\n",
    "S $t$ smo označili neodvisno spremenljivko (ni nujno, da je to vedno čas) in $\\mathbf{f}$ vektor desnih strani."
   ]
  },
  {
   "cell_type": "markdown",
   "metadata": {
    "slideshow": {
     "slide_type": "subslide"
    }
   },
   "source": [
    "Računamo rešitev sistema $m$ diferencialnih enačb $\\mathbf{y}'=\\mathbf{f}(t, \\mathbf{y})$ pri $a=t_0, t_1,\\dots,t_{n-1}=b$, to je $m$ funkcijskih vrednosti na vsakem koraku $y_k(t_i)$, $k=0,1,\\dots,m-1$ in $i=0,1,\\dots,n-1$. Lahko se dokaže, da lahko uporabimo vsako metodo, ki smo jo izpeljali za diferencialne enačbe prvega reda tudi za sistem navadnih diferencialnih enačb prvega reda, če zamenjamo skalarne veličine z ustreznimi vektorskimi."
   ]
  },
  {
   "cell_type": "markdown",
   "metadata": {
    "slideshow": {
     "slide_type": "subslide"
    }
   },
   "source": [
    "### Numerična implementacija\n",
    "\n",
    "Metodi Euler in Runge-Kutta četrtega reda potrebujeta zgolj malenkostne popravke (`y0` je numerično polje `f` vrne seznam vrednosti odvodov):"
   ]
  },
  {
   "cell_type": "code",
   "execution_count": 28,
   "metadata": {},
   "outputs": [],
   "source": [
    "def euler_sistem(f, t, y0, *args, **kwargs):\n",
    "    \"\"\"\n",
    "    Eulerjeva metoda za reševanje sistema navadnih diferencialnih enačb prvega reda : y' = f(t, y)\n",
    "    \n",
    "    :param f:  funkcija, ki jo kličemo s parametroma t in y in vrne seznam \n",
    "               funkcij desnih strani\n",
    "    :param t:  ekvidistantni (časovni) vektor neodvisne spremenljivke\n",
    "    :param y0: seznam začetnih vrednosti\n",
    "    :param args: dodatni argumenti funkcije f (brezimenski)\n",
    "    :param kwargs: dodatni argumenti funkcije f (poimenovani)\n",
    "    :return y: vrne np.array ``y`` funkcijskih vrednosti.\n",
    "    \"\"\"\n",
    "    y = np.zeros((t.shape[0], len(y0)))\n",
    "    y[0] = np.copy(y0)\n",
    "    h = t[1]-t[0]\n",
    "    for i, ti in enumerate(t[:-1]):\n",
    "        # tukaj je bistvo Eulerjeve metode\n",
    "        y[i+1] = y[i]+f(ti, y[i], *args, **kwargs)*h\n",
    "    return y"
   ]
  },
  {
   "cell_type": "code",
   "execution_count": 29,
   "metadata": {
    "slideshow": {
     "slide_type": "subslide"
    }
   },
   "outputs": [],
   "source": [
    "def runge_kutta_4_sistem(f, t, y0, *args, **kwargs):\n",
    "    \"\"\"\n",
    "    Metoda Runge-Kutta 4. reda za reševanje sistema navadnih diferencialnih enačb prvega reda: y' = f(t, y)\n",
    "    \n",
    "    :param f:  funkcija, ki jo kličemo s parametroma t in y in vrne seznam \n",
    "               funkcij desnih strani\n",
    "    :param t:  ekvidistantni (časovni) vektor neodvisne spremenljivke\n",
    "    :param y0: seznam začetnih vrednosti\n",
    "    :param args: dodatni argumenti funkcije f (brezimenski)\n",
    "    :param kwargs: dodatni argumenti funkcije f (poimenovani)\n",
    "    :return y: vrne np.array ``y`` funkcijskih vrednosti.\n",
    "    \"\"\"\n",
    "    def RK4(g, t, y, *args, **kwargs):\n",
    "        k0 = h*f(t, y, *args, **kwargs)\n",
    "        k1 = h*f(t + h/2.0, y + k0/2.0, *args, **kwargs)\n",
    "        k2 = h*f(t + h/2.0, y + k1/2.0, *args, **kwargs)\n",
    "        k3 = h*f(t + h, y + k2, *args, **kwargs)\n",
    "        return (k0 + 2.0*k1 + 2.0*k2 + k3)/6.0\n",
    "    \n",
    "    y = np.zeros((t.shape[0], len(y0)))\n",
    "    y[0] = np.copy(y0)\n",
    "    h = t[1]-t[0]\n",
    "\n",
    "    for i, ti in enumerate(t[1:]):\n",
    "        y[i+1] = y[i] + RK4(f, ti, y[i], *args, **kwargs)\n",
    "        \n",
    "    return y"
   ]
  },
  {
   "cell_type": "markdown",
   "metadata": {
    "slideshow": {
     "slide_type": "subslide"
    }
   },
   "source": [
    "#### Numerični zgled\n",
    "\n",
    "Padanje mase nadgradimo v ravninsko gibanje; velikost sile upora zraka naj bo definirana kot:\n",
    "$$|\\mathbf{F}(\\mathbf{v})|=c\\,|\\mathbf{v}|^2.$$\n",
    "Sila upora zraka deluje v nasprotno stran kot kaže vektor hitrosti.\n",
    "<img width=250 src=\"fig/padanje_telesa_vezano.png\">"
   ]
  },
  {
   "cell_type": "markdown",
   "metadata": {
    "slideshow": {
     "slide_type": "subslide"
    }
   },
   "source": [
    "Ob pomoči slike, definiramo silo v $x$ smeri:\n",
    "\n",
    "$$F_x=-c\\,\\left(v_x^2+v_y^2\\right)\\,\\cos(\\alpha)=-c\\,\\left(v_x^2+v_y^2\\right)\\,\\frac{v_x}{\\sqrt{v_x^2+v_y^2}}=-c\\,v_x\\,\\sqrt{v_x^2+v_y^2}.$$\n",
    "\n",
    "Podobno je sila v $y$ smeri:\n",
    "\n",
    "$$F_y=-c\\,v_y\\,\\sqrt{v_x^2+v_y^2}.$$"
   ]
  },
  {
   "cell_type": "markdown",
   "metadata": {
    "slideshow": {
     "slide_type": "subslide"
    }
   },
   "source": [
    "Glede na drugi Newtonov zakon zapišemo sistem dveh (vezanih) diferencialnih enačb prvega reda:\n",
    "\n",
    "$$F_x=m\\,v_x',$$\n",
    "\n",
    "$$m\\,g+F_y=m\\,v_y',$$\n",
    "\n",
    "$m$ je masa, $g$ gravitacijski pospešek, $c$ koeficient zračnega upora ter $v_x$ in $v_y$ hitrost v $x$ oz $y$ smeri. Diferencialno enačbo bi želeli rešiti glede na začetni pogoj:\n",
    "\n",
    "$$v_x(0)=v_y(0)=5\\,\\textrm{m/s}.$$"
   ]
  },
  {
   "cell_type": "markdown",
   "metadata": {
    "slideshow": {
     "slide_type": "subslide"
    }
   },
   "source": [
    "Definirajmo seznam desnih strani:"
   ]
  },
  {
   "cell_type": "code",
   "execution_count": 30,
   "metadata": {},
   "outputs": [],
   "source": [
    "def f_zračni_upor_sila(t, y,  g=9.81, m=1., c=0.5):\n",
    "    vx, vy = y\n",
    "    return np.array([-c*vx*np.sqrt(vx**2+vy**2)/m, g-c*vy*np.sqrt(vx**2+vy**2)/m])"
   ]
  },
  {
   "cell_type": "markdown",
   "metadata": {
    "slideshow": {
     "slide_type": "subslide"
    }
   },
   "source": [
    "Definirajmo začetni pogoj in časovni vektor, kjer nas zanima rezultat:"
   ]
  },
  {
   "cell_type": "code",
   "execution_count": 31,
   "metadata": {},
   "outputs": [
    {
     "data": {
      "text/plain": [
       "array([0.  , 0.05, 0.1 , 0.15, 0.2 ])"
      ]
     },
     "execution_count": 31,
     "metadata": {},
     "output_type": "execute_result"
    }
   ],
   "source": [
    "y0 = np.array([5., 5.])\n",
    "t = np.linspace(0, 5, 101)\n",
    "t[:5]"
   ]
  },
  {
   "cell_type": "markdown",
   "metadata": {
    "slideshow": {
     "slide_type": "subslide"
    }
   },
   "source": [
    "Za primerjavo izračunajmo rešitev s funkcijo `runge_kutta_4` ter `solve_ivp`:"
   ]
  },
  {
   "cell_type": "code",
   "execution_count": 32,
   "metadata": {},
   "outputs": [],
   "source": [
    "y_RK4 = runge_kutta_4_sistem(f_zračni_upor_sila, t=t, y0=y0)\n",
    "y_ivp = solve_ivp(f_zračni_upor_sila, t_span=(t[0], t[-1]), y0=y0, t_eval=t)"
   ]
  },
  {
   "cell_type": "markdown",
   "metadata": {
    "slideshow": {
     "slide_type": "subslide"
    }
   },
   "source": [
    "Poglejmo rezultat:"
   ]
  },
  {
   "cell_type": "code",
   "execution_count": 33,
   "metadata": {},
   "outputs": [
    {
     "data": {
      "text/plain": [
       "array([[5.        , 4.23209907, 3.63858619, 3.16619484, 2.78087608],\n",
       "       [5.        , 4.68459713, 4.48359747, 4.35932897, 4.28742151]])"
      ]
     },
     "execution_count": 33,
     "metadata": {},
     "output_type": "execute_result"
    }
   ],
   "source": [
    "y_ivp.y[:,:5]"
   ]
  },
  {
   "cell_type": "code",
   "execution_count": 34,
   "metadata": {},
   "outputs": [
    {
     "data": {
      "text/plain": [
       "array([[5.        , 4.23211316, 3.6399137 , 3.16660748, 2.77780226],\n",
       "       [5.        , 4.68462761, 4.48494405, 4.35999931, 4.28466858]])"
      ]
     },
     "execution_count": 34,
     "metadata": {},
     "output_type": "execute_result"
    }
   ],
   "source": [
    "y_RK4[:5].T"
   ]
  },
  {
   "cell_type": "markdown",
   "metadata": {
    "slideshow": {
     "slide_type": "subslide"
    }
   },
   "source": [
    "Prikažemo rezultat:"
   ]
  },
  {
   "cell_type": "code",
   "execution_count": 35,
   "metadata": {},
   "outputs": [
    {
     "data": {
      "image/png": "iVBORw0KGgoAAAANSUhEUgAAAXwAAAEcCAYAAADEEw+QAAAABHNCSVQICAgIfAhkiAAAAAlwSFlzAAALEgAACxIB0t1+/AAAADh0RVh0U29mdHdhcmUAbWF0cGxvdGxpYiB2ZXJzaW9uMy4yLjEsIGh0dHA6Ly9tYXRwbG90bGliLm9yZy+j8jraAAAgAElEQVR4nO3deZxcZZ3v8c+v93S6O51OOmsn6RACZAMCCYsBWUQJ66COIkoExMFlvOiVkauiGRTG5TrjFUZHQBBRRARZRERAhChbQjpsSUggkIXs6WzdnaXX+t0/zqmk0nSnl1TV6a76vl+vetWpsz2/OlX1q6ee89R5zN0REZHMlxN1ACIikh5K+CIiWUIJX0QkSyjhi4hkCSV8EZEsoYQvIpIllPC7ycyWmtnpUcfRl5nZ983sK1HHAal5vczsFjP7djh9upmt6+Z2F5rZvcmMpbvM7HIze66b6/aZ97iZjTWzXWaWm4R9HfQYmNlwM3vKzCrN7AkzG3moZfZVSviAma02s7PazTvgTeLuU9x9XrjsejO7O0WxdPsD2peYWSXwaeDWqGOBA1+vJO7z8+5+Qy+2ewSYamZHJzOeZEvFMeuu9p9Bd3/X3UvcvS3VZbv7ZuC/gGXA/7j7xlSXGRUl/BSwQLYd28uBx9x9bzoL7UfH+nfAVVEHIR1z97+4+1B3/2PUsaRSf/ig9AnxGoiZzQa+CVwc/uR8LVw+z8z+w8yeB/YAh5nZ+8xsoZnVhffvS9jf5Wa20swazGyVmX3KzCYBtwAnh/ve2Uks88zsRjN7IVzvT2Y2xMx+a2b1YVnVCevfZGZrw2WLzOzUhGUnmFlNuGyzmf04YdlJYRk7zey1Ln7unwP8vd3zO+CXipm5mR0eTv8qbCL5a3gM/m5m4xLWPdixe8+x7uz1CqevN7P7zOzXYVlLzWxGJ8fWzOz/mdmWsOzXzWxqQsw3drLd183snXD/b5jZh9utMg847yDb/qHdvJvM7OZO1p8UHoOd4XO5MGHZEDN7JHw9XwImJCy7xcz+s92+/mhmX+3gmHX4vjCz6vB1vMzM3jWzrWZ2XcL+Cs3sJ2a2Ibz9xMwKw2VDzezRMO7tZvasmeWY2W+AscCfwvfztQnl5CXzGHSyr1MS3udrzezycP55ZvZKuJ+1ZnZ9wjZFZna3mW0Lt1toZsPDZVeY2bLwvbDSzD53sPLTyt2z/gasBs5qN+9y4LmO1gGuB+5ut/484F1gCpAHDAd2AHPCx5eEj4cAA4F64Mhw25HAlI7K7STeecDbBG/kQcAbwFvAWWFZvwbuTFj/0rDcPOAaYBNQFC57EZgTTpcAJ4XTo4FtwLkEFYMPho8rO4mpFpjZ2fEL5zlweDj9K6ABeD9QCNwUXx+o6OzYdXKs8w/2moavV2P4XHKB7wPzO3keZwOLgHLAgEnAyISYbwynTwfWJWz3MWBUeKwuBnbHt0t4Tg6UdVDmOIIvrrLwcS6wMf5atFs3P3ztvwkUAGeGxzH+XroXuI/gPTYVWJ9wXN8PrAUsfDwY2AuM6uCYdfa+qA6fxy+AAcAxQBMwKVz+XWA+MAyoBF4AbgiXfZ+gQpMf3k5NiGVf2e3KyUvmMehgX2PDbS8J9zsEODbhNZ4WvqZHA5uBi8JlnwP+BBSHr9fxCa/feQSfTQNOC1/b46LOc+6uGn6Ch8Nv6p0W1Kz/pxf7+JW7L3X3VuBDwAp3/427t7r774DlwAXhujGCdt0B7r7R3Zf2sKw73f0dd68D/gK84+5PhWXfD0yPr+jud7v7tjCO/yJIsEeGi1uAw81sqLvvcvf54fxLCZpoHnP3mLv/FaghSJodKSf44PTEn939H+7eBFxH8MtmDMEH5mDHDhKOtbu3dKOs58Ln0gb8hiBRdaQFKAWOIkhGy7wbbbrufr+7bwiP1e+BFcAJCavEj015B9uuAV4GLgpnnQnsSXgtEp1EkIB/4O7N7v408ChwiQUnOD8KzHX33e6+BLgrYdtnCZJo/BfePwMvuvuGDsrp7H0R9x133+vurwGvsf94fgr4rrtvcfda4DsEX9zxfY4Exrl7i7s/62GG7KFDOQbtfQp4yt1/F8a0zd1fBXD3ee6+OHxNXydoljst4bkMIajAtLn7InevD7f7c/jZdHf/O/Ak+495pJTw97vI3cvjN+CLvdjH2oTpUcCadsvXAKPdfTdBLfDzwEYz+7OZHdXDsjYnTO/t4HFJ/IGZXRP+xKwLv8wGAUPDxVcCRwDLw5+l54fzxwEfa/cleArBB7YjOwgSZU/sO17uvgvYTnDcOj12HW3bTZsSpvcARR01F4TJ46fAz4DNZnabmZV1tXMz+7SZvZpwrKay/xjD/mPTYTMdcA9BLRPgk+HjjowC1rp7LGFe/NhUEvziWdtuWfy5OUHtN7Gc33ZSTmfvi7j2xzP+fmv/2q0J5wH8iKBm/mTY1PH1TsruSq+PQQfGAO90tMDMTjSzZ8ys1szqCD6v8df0N8ATwL1h09X/NbP8cLtzzGx+2Gy1k6CSNLSjMtJNCb93OquVJM7fQJA0E40l+HmJuz/h7h8kSKDLCX4iH2zfvWJBe/3/AT4ODA6/zOoIfm7i7ivc/RKCn+A/BP5gZgMJPjC/SfwSdPeB7v6DTop6nSBBxO0m+Lkbj2NEB9uMSVheQtDssYEujl0oZZd5dfeb3f14giajI4CvHWx9C849/AL4EkGzUzmwhPAYhyYBq+O1wA7cD5xuZlXAh+k84W8AxtiBJ6rjx6YWaCXhuIbLEv0O+Ocw5hOBBzoq5CDvi660f+3GhvNw9wZ3v8bdDyP4tfZVM/tAvMhu7DuxjEM5BonW0nkb/z3AI8AYdx9E0BwV/9y0uPt33H0y8D7gfODT4fmKB4D/BIaH74XHOPC9EBkl/N7ZDFTbwXuHPAYcYWafNLM8M7sYmAw8akG/3wvDD1ATsAuIdz/bDFSZWUGSYi0l+ADUAnlmNhfYV2M1s0vNrDKsLcVrn23A3cAFZna2meWGJ6niCamz53tawuPXgClmdqyZFRG0o7d3bnjCrAC4AVjg7ms5yLHr5THoNjObGdbs8gm+tBrZ/9p0ZiBBwqoN93EFQQ0/0WkETW8dCps/5gF3AqvcfVknqy4I47rWzPItOJF+AXBv2Fz1IHC9mRWb2WTgsnblvBLGeTvwhLt31jGgs/dFV34HfMuCPu1DgbkE7yXM7HwzO9zMjOAcVhsHvu/fc/K9E4d0DNr5LXCWmX08fK8NMbNjw2WlwHZ3bzSzEwh+ERE+lzPMbFrYhFRP0MTTRnBOoZDwi8fMziFo3u0TlPB75/7wfpuZvdzRCu6+jeBb/xqCk53XAue7+1aC434NQU1lO0EyiDchPQ0sBTaZ2dYkxPoEQaJ5i+CnbSMH/tydDSw1s10EJ04/4e6NYeL9J4ITY7XhNl+j8/fMrwkS+AAAd3+L4ATeUwTt2R39t+Ae4N8JjsHxBO2pXR27VCsjqK3vIDhe2whqa51y9zcI+nG/SJC4pgHPt1vtErr+j8I9BCfeO6vd4+7NwIUEvaK2Epxr+rS7Lw9X+RJB88omgpPMd3awm991VQ6dvC+6iB/gRoJzPa8DiwnOTcR7Nk0keD/sIjhW/+P7+/1/n+CLYqeZ/dvBCkjSMYjv612CJpdrCN6Hr7L/fMQXge+aWQPBF9d9CZuOAP5AkOyXEfRQu9vdG4Crw3V3EHxJPHKw55NO8TPkIofMzL4HbHH3n3Rj3V8R9HL5VsoDi5iZXUDQ4+XjUcci2U0JXyKRTQlfpK9Qk46ISJZQDV9EJEuohi8ikiWU8EVEskSHFybqC4YOHerV1dVRhyEi0q8sWrRoq7tXdrSszyb86upqampqog5DRKRfMbNOLyWhJh0RkSyhhC8ikiWU8EVEsoQSvohIlkjrSVszW00wEEQb0OruHQ4zJyIiyRdFL50z0nTVQxERSZBxTToN9Tt45Ylfs2ndqqhDERHpU9Kd8J1geLNFZnZV+4VmdpWZ1ZhZTW1tba8KqNv8LtNf/F+sf+nhQ41VRCSjpDvhz3L34wgGLvhXM3t/4kJ3v83dZ7j7jMrKDv8o1qXBYyZT64Mo2fxSEsIVEckcaU347h4f23IL8BBwQrLLGFiUz8tMYsT2RaArgYqI7JO2hG9mA82sND5NMM7jklSUtbzoaAa1bIad76Zi9yIi/VI6a/jDgefM7DXgJeDP7v54KgpaX3ZcMLGm/bCiIiLZK23dMt19JfsHB06ploojqKstYdCa5+HYT3a9gYhIFsi4bpkAlYOKWRg7Cl+tGr6ISFxGJvxhpYW82HYUtmMV1G+IOhwRkT4hIxP+8LIiFsSOCh6seSHaYERE+oiMTPjDSgt5w6tpzRuoE7ciIqGMTPjDy4qIkcPWiuNA7fgiIkCGJvxhZYUArCo5Fra+Cbt6d5kGEZFMkpEJv7ggj9LCPJbmTQ1mrHku2oBERPqAjEz4ENTyX42Nh4GVsPgPUYcjIhK5zE34pUVsbGiDYz4Bbz2uZh0RyXoZm/CHlxWypaERjr0UYq3w+u+jDklEJFIZnPCL2FzfhFceCVUz4ZXf6OqZIpLVMjbhV5YW0twao25vC0y/FGqXw/qXow5LRCQyGZvwh5cVAbCloQmmfATyBgS1fBGRLJXxCX9zfSMUlcGUi2DJA9C8J+LIRESikbEJf1hp8OerzfVNwYzpl0JTPSy+P8KoRESik7kJP/y37ZaGxmDGuFkwegb87buwd0eEkYmIRCNtA6CkW3FBHqVFeWyJ1/DN4IKfwK2nwVPXwwU3RRpfnxKLQcseaNkb3Lc2BtOtTcF0Wwu0NUFbM7S1BvexlnB+SzAdaw2WxRJvbeBtB057LOgt5bEObuF8fH+PKveEx92437dNXMJ0Z720Ou291dP1e0M9x6QDo4+Hs/8j6bvN2IQPQbPO5vrG/TNGTIOTvgAv/hSO+SSMPTG64JLNHZoaYNcW2F0Le7btv+3dEdwad0JjHTTWB81bTbugeTe07E5uLDn5kJMLlgu5ecF9/HFOLmCQkwOWE06H88z2zzNrd08n8zu6D9eNs4Tp7sxPnGcdzO9o1UPRURmS3XJSk5ozOuEPLysKeukkOv0bsPQhePR/w+f+Drn50QTXUy2NsHMN7FgdDM5etxbq1kH9RmjYAA2boXVvx9vmFsKAwTCgHIoGBZebGDIBCkqgsDS4LyiG/GLIHwB5ReF9YTCdWxAcp9zCcDovSOqJ0zl5wTo5uWk9LCLSfRmd8IeVFlKzpl17fWEJnPN/4fefgieug3N+2HdqWO7QsAlql0Htm7B1BWxbAdveCUfuSvj5n1sAZaOgbHRwbqJ0BJQMD2+VUDwkuA2oCJK5iGS9jE74w8uK2FLfhLtjiUl90vlw0hdh/v8ETRoX3BTUVNOprTVI7Btfg02LYdMS2LwkaHaJKxoEQyZC9alQcRhUjIfycVA+NkjsORl7zl1EUiCjE/6wsiKa24J/25YXFxy48OzvQWEZ/P0H0FQHH70jaMJIBXeoXw9rX4J1NbC+Bja+vr8JJr8Yhk8J/iswbAoMOwoqjwqaXvrKrw8R6fcyO+En9MV/T8I3gzO+EbRrP/51+Pn74ANzYdKFh55km3YFNff1NbBuYZDkGzYGy/KKYOQxcPzlMPo4GDU9qL2r7VtEUiyjE37iv22PHFHa8UonfQEqJsCT34L7Ph20h5/4eTjs9KAt/GDcg14xtcvCJpmlsPHV4Lo9HgvWGVwdNMlUzQgu4jZ8KuQVHHS3IiKpkOEJP17Dbzz4ikd8CCacCa/dA898Hx78bLiDaVB5ZNCWXjQo6G++dwfs2RH0ktm+Cpob9u+nZDiMOBomXRD0ox11XNdfGiIiaZLRCX/EoCLMYP3OTrorJsrNg+M+Dcd+Kqilr5wHK/8OG17Z3389Jy/o9TJgMJSNhLEnB90bh04MvhyU3EWkD8vohF+Yl8vw0iLe3d6DC6bl5Aa189HHw6nX7J/vrhOoItKvZXy/vjEVA1i3vRs1/K4o2YtIP5f5CX9wMWt36JLIIiKZn/AritlU30hTa1vUoYiIRCorEr47bNjZRU8dEZEMl9aEb2a5ZvaKmT2arjLHDB4AwNqenLgVEclA6a7hfxlYls4Cx1QEFw7rUU8dEZEMlLaEb2ZVwHnA7ekqE4J/2xbk5ujErYhkvXTW8H8CXAvEOlvBzK4ysxozq6mtrU1Kobk5xujBSeqaKSLSj6Ul4ZvZ+cAWd190sPXc/TZ3n+HuMyork/ev1arBA1TDF5Gsl64a/izgQjNbDdwLnGlmd6epbMZUFOukrYhkvbQkfHf/hrtXuXs18AngaXe/NB1lQ/Dnqx17WmhobElXkSIifU7G98MHGBv21FmrdnwRyWJpT/juPs/dz09nmWMqwr74ascXkSyWFTX8MYPjNXwlfBHJXlmR8MuL8ykpzGPdDjXpiEj2yoqEb2ZUDR6gf9uKSFbLioQPwYlbNemISDbLmoQ/pqKYdTv24u5RhyIiEonsSfiDB7C3pY2tu5qjDkVEJBLZk/DjffHVNVNEslT2JXy144tIlsqehD+4GDNYvVUJX0SyU9Yk/AEFuVQNHsDbtbuiDkVEJBJZk/ABJg4rZcXmhqjDEBGJRFYl/MOHlbBy625a2zodg0VEJGNlXcJvbo2xVpdYEJEslFUJf+KwEgDe3qJ2fBHJPlmV8A8PE/6KLWrHF5Hsk1UJv7QonxFlRby9WTV8Eck+WZXwASYOL2GFmnREJAtlXcI/fFgJ79TuIhbTRdREJLvkdbWCmVV0Yz8xd9+ZhHhSbuKwUvY0t7Ghbi9V4UhYIiLZoMuED2wIb3aQdXKBsUmJKMX2n7jdpYQvIlmlOwl/mbtPP9gKZvZKkuJJuX1dMzfv4owjh0UcjYhI+nSnDf/kJK3TJwweWMDQkgL1xReRrNNlwnf3xmSs05ccPqxEffFFJOt0u5eOmX3MzErD6W+Z2YNmdlzqQkudIOHv0nCHIpJVetIt89vu3mBmpwBnA3cBP09NWKk1cVgpDY2tbGloijoUEZG06UnCbwvvzwN+7u5/BAqSH1Lq6Zo6IpKNepLw15vZrcDHgcfMrLCH2/cZhw8PEv5buja+iGSRLhO2mZ1sZkaQ6J8AZod/sqoAvpbi+FKisqSQioEFvLGhPupQRETSpjs19MuARcAvgTKgAcDdN7r7kymMLWXMjKmjB7F4fV3UoYiIpE2Xf7xy988DmNlRwDnAr8xsEPAM8DjwvLu3HWQXfdK00WXc8vZWGlvaKMrPjTocEZGU63YbvLsvd/f/5+6zgTOB54CPAQu6s72ZFZnZS2b2mpktNbPv9C7k5Jg2upy2mLNso5p1RCQ7dOfSCu/h7nuBx8JbdzUBZ7r7LjPLB54zs7+4+/zexHCoplUNAmDJ+jqmjx0cRQgiImnV7YRvZjOA64Bxidu5+9Hd2d6DfznF+0Hmh7fI/vk0alARFQML1I4vIlmjJzX83xL0ylkMxHpTmJnlEpwAPhz4mbt3qzkoFfafuFWTjohkh570o69190fcfZW7r4nfelKYu7e5+7FAFXCCmU1NXG5mV5lZjZnV1NbW9mTXvTJtdBlvbW6gsaXfnXMWEemxniT8fzez283sEjP7SPzWm0LDfvzzgNnt5t/m7jPcfUZlZWVvdt0j00YP0olbEckaPWnSuQI4iqDtPd6k48CD3dnYzCqBFnffaWYDgLOAH/ag/KSbOlonbkUke/Qk4R/j7tMOoayRwF1hO34OcJ+7P3oI+ztko8sHMLg4XyduRSQr9CThzzezye7+Rm8KcvfXgYOOnJVuZsa0qnKduBWRrNCTNvxTgFfN7E0ze93MFpvZ66kKLF2mjS5jhU7cikgW6EkNf3bXq/Q/00YPojXmLN/UwLFjyqMOR0QkZbqd8HvaBbO/iJ+4Xby+TglfRDJady6P/HIy1umrRpcPYGhJAa+8uyPqUEREUqo7NfxJXbTVGzAoSfGknZlx/LjB1KxWwheRzNadhH9UN9bp12c8Z1ZX8MTSzWyub2R4WVHU4YiIpER3roefkW33iWZWVwCwcPV2zj96VMTRiIikRr8ckzbZpowqo7ggl4WrtkcdiohIyijhA3m5OUwfW85CteOLSAbrdsI3sxfM7IxUBhOlmdUVLNtUT31jS9ShiIikRE9q+FcBXzKzv5nZyakKKCozqytwh5fXqJYvIpmpJ2PaLnH3jxIMgnKdmT1qZsemLrT0mj62nNwcY+FqteOLSGbqTRv+28ANwDqgJrnhRKe4II+po8rUji8iGasnbfhPm9lagiEKvwnsAC5PUVyRmFldwatrd9LU2q//ViAi0qGeXDzt34Bl7r43VcFEbUZ1Bbc/t4ol6+s4flxF1OGIiCRVT9rwX87kZA8wszoY9eqlVWrWEZHMo374CYaUFDJxWAkvvLM16lBERJJOCb+d9x9RyYJV2zUgiohknJ6ctH3PgOMdzevvTp04lObWGAt0mQURyTA9qeF/sIN55yQrkL7ixPFDKMjL4dm3aqMORUQkqbrspWNmXwC+CExod138UuCFVAUWlQEFuZxQXcE/Vijhi0hm6U4N/x7gAuCP4X38dry7fyqFsUXm/UcM5a3Nu9hYl9GdkkQky3SZ8N29zt1XAw8C28Pr488Bbjez6SmOLxKnTqwE4NkV6q0jIpmjJ23433b3BjM7BTgbuAu4JTVhReuoEaUMKy3kH2rHF5EM0pOEH++neB7wc3f/I1CQ/JCiZ2acOrGS597eSlvMow5HRCQpepLw15vZrcDHgcfMrLCH2/cr7z9iKDv3tLBkfV3UoYiIJEVPEvbHgSeA2e6+E6gguFRyRjrl8KEAatYRkYzRk2vp7AHeAc42sy8Bw9z9yZRFFrEhJYUcUzWIp5ZviToUEZGk6Mk/bb8M/BYYFt7uNrP/larA+oKzp47gtbU72bBT3TNFpP/rSZPOlcCJ7j7X3ecCJwH/kpqw+obZU0YA8OTSTRFHIiJy6HqS8I39PXUIpy254fQth1WWcMTwEh5XwheRDNCThH8nsMDMrjez64H5wB3d3djMxpjZM2a2zMyWhk1Efd7ZU0bw0qrtbN/dHHUoIiKHpFsJ38wMuB+4AthOMLzhFe7+kx6U1Qpc4+6TCJqD/tXMJvcw3rQ7e8oIYg5PvbE56lBERA5Jt4Y4dHc3s4fd/Xjg5d4U5O4bgY3hdIOZLQNGA2/0Zn/pMmVUGVWDB/D40k18fOaYqMMREem1njTpzDezmcko1MyqgenAgnbzrzKzGjOrqa3tG/3fzYzZU0bw3IqtNDS2RB2OiEiv9SThnwG8aGbvmNnrZra43eWSu8XMSoAHgK+4e33iMne/zd1nuPuMysrKnu46ZWZPHUFzW4xn3uwbX0IiIr3RrSad0CEPdmJm+QTJ/rfu/uCh7i9djhs7mMrSQh57fSMXHjMq6nBERHqlJzX8L7r7msQbwcAo3RKe+L0DWObuP+5poFHKyTEuOHoUTy/fws496q0jIv1TOoc4nEVwHf0zzezV8HZuD7aP1EeOG01zW4xHX98YdSgiIr3SkyEOD+tgiMPnu1uQuz9HP/6j1pRRZRw5vJQHX17HpSeNizocEZEe68kQh4/w3iEOL01hbH2KmfGR40bz8rs7Wb11d9ThiIj0WLeHOHT3S9q14W9PR4B9yUXTR5Nj8OAr66MORUSkx7pM+Gb2XHjfYGb14X38Vt/V9plkeFkRsw4fyoMvryOmkbBEpJ/pTg3/lPC+1N3Lwvv4rSz1IfYtHz2uinU79lKzZkfUoYiI9Eh3TtrefLDl7n518sLp+z40ZTgDC3L5w6K1nDC+IupwRES6rTsnbRcl3C5s93hR6kLrm4oL8rjgmFH86bWN1O3VpRZEpP/osobv7nfFp83sK4mPs9WlJ43j3oVreWDROj5zyviowxER6Zae/PEKQGcqgamjB3Hc2HLunr9GJ29FpN/oacKX0JyTx7Fy626ef2dr1KGIiHRLd7plxrtj1gNHx6ezsVtmonOnjWTIwAJ+8+KaqEMREemW7nTLjHfHLHP3vITprOyWGVeYl8vFM8fw1LLNrN+5N+pwRES6pCadQ/DJE8cCcM8C1fJFpO9Twj8EVYOLOWvScH674F12N7VGHY6IyEEp4R+iz502gZ17Wrh34dqoQxEROSgl/EN0/LjBnDi+gtufXUlzayzqcEREOqWEnwRfOH0CG+saefhVXUVTRPouJfwkOO2ISiaPLOOWv79Dm/6IJSJ9lBJ+EpgZXzh9Aitrd/PXNzZFHY6ISIeU8JPk3GkjGTekmP9++m1dbkFE+iQl/CTJzTGuPnMiSzfU85clquWLSN+jhJ9EF00fzRHDS/ivJ9+ktU09dkSkb1HCT6LcHOPfPnQkK7fu5g+L1kUdjojIAZTwk+yDk4czfWw5N/1tBY0tbVGHIyKyjxJ+kpkZ/2f2UWysa9SVNEWkT1HCT4GTDhvCaUdU8t9Pr2DbrqaowxERAZTwU+bb509iT3MbP3rizahDEREBlPBT5vBhpXzmlPH8vmYtr67dGXU4IiJK+Kl09QcmUllSyNw/LtElF0Qkckr4KVRSmMd1503i9XV1/F6XTxaRiCnhp9iFx4zixPEV/PDx5Wypb4w6HBHJYmlL+Gb2SzPbYmZL0lVmX2BmfO8j02hsaeObDy3GXU07IhKNdNbwfwXMTmN5fcaEyhK+dvaRPLVsCw+9omvmi0g00pbw3f0fwPZ0ldfXXDFrPDPGDeb6R5ayWU07IhIBteGnSW6O8aOPHUNzW4xvPKimHRFJvz6V8M3sKjOrMbOa2traqMNJuvFDB/L12Ufx9PIt/PL51VGHIyJZpk8lfHe/zd1nuPuMysrKqMNJicveV82HJg/nB39Zpj9kiUha9amEnw3MjB/98zEMKy3iS/e8TN3elqhDEpEskc5umb8DXgSONLN1ZnZlusruawYV5/PTT05nU10jX7v/NQ2JKCJpkc5eOpe4+0h3z3f3Kne/I11l90XTxw7mG+dO4sk3NnPT31ZEHY6IZIG8qAPIZp+ZVc3yjfXc9LcVTBhWwoXHjIo6JBHJYP0q4be0tLBu3ToaG/tnP/aioiKqqqrIz88Hgvb8Gz88ldXbdghyREAAAA7iSURBVPO1+19jbEUxx44pjzhKEclU1lf7g8+YMcNramoOmLdq1SpKS0sZMmQIZhZRZL3j7mzbto2GhgbGjx9/wLJtu5r4p589T1NrjAc+/z7GDimOKEoR6e/MbJG7z+hoWb/qpdPY2Ngvkz0EtfkhQ4Z0+OtkSEkhd14+k5a2GJfesUAXWRORlOhXCR/ol8k+7mCxTxxeyq+uOIGtu5qYc8dL7NzTnMbIRCQb9LuEn8mOHVPOLz49g1Vbd3P5nQupb1QffRFJHiX8PmbW4UP56Sens2R9HXNuX6CavogkjRJ+H/ShKSO4dc7xLNvYwCdum8/WXU1RhyQiGUAJv4cWLVrEGWecse/xkiVLOPnkk5NezgcmDeeOy2ewettuLr71Rdbt2JP0MkQku/SrfviJvvOnpbyxoT6p+5w8qox/v2DKQdeZNGkSb7311r7Hc+fO5YYbbkhqHHGnTqzk1585kSvvWshFP3uBOy6bwTHqpy8ivaQafg8VFxdTVFTEzp07efnll9mxYwdnnXVWyso7YXwFD33xfRTl53DxbS/yxNJNKStLRDJbv63hd1UTT6XJkyezfPlybrjhBm688UZqa2u59tprueGGG5g7dy633nrrvn/TJsPhw0p5+F9n8dm7avj83Yu4+syJXP2BieTm9N8uqiKSfqrh98KUKVO48847cXdmzZpFZWUlY8eO5ZprruHmm29OarKPG1pSyL1XncRHpldx099WcPmdL7F9t3rwiEj3KeH3wpQpU/jFL36xr+1+165drFy5kry8PEpKSlJWblF+Lv/5saP5/kemsWDVds6/+Vnmr9yWsvJEJLMo4ffCnDlziMViHH/88bS2tnL11Vdz4403cuyxxzJv3ryUlm1mXHLCWB74/PsoyMvhkl/M58ZH36CxpS2l5YpI/9evLp62bNkyJk2aFFFEyZHM57CnuZXvPbaMu+e/y8RhJfzgo0dz/LjBSdm3iPRPGXPxNDlQcUEeN140jbs+cwK7mlr56M9f4BsPLqZujy7JICLvpYSfAU47opK/fvU0PnvKeO6rWcsHfjyPexa8S2tbLOrQRKQPUcLPECWFeXzr/Mk88qVZVA8ZyDcfWsy5Nz/LM29uoa8224lIeinhZ5gpowZx/+dP5pZLj6O5NcYVdy7kY7e8yHMrtirxi2Q5JfwMZGbMnjqSJ//3adzwT1NYt2Mvl96xgI/d8iJ/W7aZWEyJXyQb9dt/2krXCvJymHNyNR+fOYb7atbx82fe5sq7ajhs6EA+c8p4PnLcaIoL9BYQyRaq4WeBwrxc5pw0jr9fewY3XzKdkqI8vvXwEk78j7/xrYcXs3RDXdQhikgaqHqXRfJzc7jwmFFccPRIFq3ZwT0L3uW+mnXcPf9dJo8s48PTR3PhsaMYXlYUdagikgJK+FnIzJhRXcGM6grmXjCZh15Zz8OvrOc/HlvG9/6yjJnVFcyeMoKzp45gdPmAqMMVkSRRk04PpWsAlHQpLy7gilnj+eOXTuHpa07jyx+YSP3eFr776BvM+sHTnHPTs/zw8eUsWLmNFvXrF+nX+m8N/y9fh02Lk7vPEdPgnB8cdJV0DoCSbodVlvCVs47gK2cdweqtu3li6SaeeXMLv/jHSn4+7x2KC3KZWV3ByROGcOL4CqaMGkRBnuoMIv1F/034EUkcAGXlypUpHwAlKtVDB/K50ybwudMm0NDYwvNvb+X5t7fx4spt/OAvywEozMvhmKpypo8r5+jR5RxdNYiqwQMw03X6Rfqi/pvwu6iJp1L7AVDuvPNORowYwezZs7nyyiv52c9+xoABmdP2XVqUz+ypI5k9dSQAW+obqVmzg5rVO1i0Zju/fG4VLW1B3/7y4nwmjyxj0sgyjhpRysThpRw+rISSwv77VhPJFPoU9kL7AVBGjBjBL3/5S9avX8/FF1+cUcm+I8PKijh32kjOnRZ8ATS1trF8YwOvr9vJGxvreWNDPXfPX0NT6/42/5GDihg/dOC+25iKYsZWFDOmolhfBiJpok9aL0yZMoXLLruMhQsXAjBhwgReeeUV6urq+OxnPxtxdOlXmJfLMWPKDxhgvbUtxtode3lrcwMrNjewsnY3K7fu5k+vbaC+sfWA7cuK8hhVPoBR5QMYXlbEiLIiRgwqZFhpEZWlhVSWFlIxsID8XJ0vEDkUaU34ZjYbuAnIBW539+jaZQ7BnDlzmDNnzgHz8vLymDt3bkQR9T15uTn7avNnTxmxb767U7e3hXe372Ht9r2s3bGHDTv3hrdGXlu7k22dDN04aEA+QwYWUF6cT8XAAsqLCxg0IJ/yAfkMKs6nrCifsgF5lBblU1qUR0lhHqWF+QwszCVPXxYi6Uv4ZpYL/Az4ILAOWGhmj7j7G+mKIRXq6uq47rrruOyyyxg2bFjU4fR5ZkZ5cZCsj64q73CdptY2ttQ3UburidqG4LZ9dzPbdjWxdXczO/c0s2FnI0s31FO3t4U9zV2P9lWQl8PAglyKC/IoLsiluCCXovxcBhTkMiA/mC7Kz6EwL5fC8L4oP4eC3BwK83IoiN9yc8nPNfLzgmV5OcF0fk4OeblGfq6Rl5NDbo6Rnxvc5+UYublGrtn+xzmmk9uSdums4Z8AvO3uKwHM7F7gn4B+nfAHDRrET3/606jDyCiFebmMCdv3u6O5NcbOvc00NLbS0NhK/d4Wdje10tAUPN7T1Mru5jZ2N7Wyp7mNvS2t7G5qo7Glje27m9nb3EZjaxuNLTEaW9poao3R3Jr6/xyYQa4ZOTn7vwxyjH2PzYzcHMgxC24J02bBtMG+xxZ/nANGsC/CeWYcuC7BjP3LbF9M8ceJ30fxfZOwr/bz48sSHr1n/fbrHLh1++27t0274ro7u93+e/blm4qv6sQQjhpRxhdOn5D0MtKZ8EcDaxMerwNOTFzBzK4CrgIYO3Zs+iKTfq0gL4dhpUUMK03ePmMxp7ktti/5N7fFaAnvm1tjtLTFaGnz8D6Ybm2L0RJz2mLB47aY0xoL5rfF9j+OT8c8nHYnFnPaYhDz/fNjHjSBHTDtjvv+9dzZ99gJ1omv67BvGoL1HCcWC+6Dx+AxCOfsnxduv3+7/Q8OnL//yquJV9+OT8f31ZH2sxP31dl6nV3ntdMyOlm/5yv1evXu7bNd/AUpaoJMZ8Lv6EvxgGfp7rcBt0Ewpm06ghLpSE6OUZQTNPWIZIp0nslaB4xJeFwFbEhj+SIiWS2dCX8hMNHMxptZAfAJ4JGe7qQ/j9rUn2MXkf4vbQnf3VuBLwFPAMuA+9x9aU/2UVRUxLZt2/pl4nR3tm3bRlGRLj0sItFIaz98d38MeKy321dVVbFu3Tpqa2uTGFX6FBUVUVVVFXUYIpKl+tU/bfPz8xk/fnzUYYiI9Ev6+6GISJZQwhcRyRJK+CIiWcL6ao8XM6sF1hzCLoYCW5MUTn+Qbc8X9JyzhZ5zz4xz98qOFvTZhH+ozKzG3WdEHUe6ZNvzBT3nbKHnnDxq0hERyRJK+CIiWSKTE/5tUQeQZtn2fEHPOVvoOSdJxrbhi4jIgTK5hi8iIgmU8EVEskTGJXwzm21mb5rZ22b29ajjSTUz+6WZbTGzJVHHki5mNsbMnjGzZWa21My+HHVMqWZmRWb2kpm9Fj7n70QdUzqYWa6ZvWJmj0YdS7qY2WozW2xmr5pZTVL3nUlt+OFA6W+RMFA6cEl/Hyj9YMzs/cAu4NfuPjXqeNLBzEYCI939ZTMrBRYBF2X462zAQHffZWb5wHPAl919fsShpZSZfRWYAZS5+/lRx5MOZrYamOHuSf+zWabV8PcNlO7uzUB8oPSM5e7/ALZHHUc6uftGd385nG4gGF9hdLRRpZYHdoUP88Nb5tTWOmBmVcB5wO1Rx5IpMi3hdzRQekYngmxnZtXAdGBBtJGkXti88SqwBfiru2f6c/4JcC0QizqQNHPgSTNbZGZXJXPHmZbwuxwoXTKHmZUADwBfcff6qONJNXdvc/djCcaDPsHMMrYJz8zOB7a4+6KoY4nALHc/DjgH+New2TYpMi3ha6D0LBG2Yz8A/NbdH4w6nnRy953APGB2xKGk0izgwrA9+17gTDO7O9qQ0sPdN4T3W4CHCJqqkyLTEn5SBkqXvi08gXkHsMzdfxx1POlgZpVmVh5ODwDOApZHG1XquPs33L3K3asJPsdPu/ulEYeVcmY2MOyIgJkNBD4EJK0HXkYl/GQMlN7fmNnvgBeBI81snZldGXVMaTALmENQ63s1vJ0bdVApNhJ4xsxeJ6jY/NXds6arYhYZDjxnZq8BLwF/dvfHk7XzjOqWKSIincuoGr6IiHROCV9EJEso4YuIZAklfBGRLKGELyKSJZTwRUSyRF7UAYiki5l9EJgJHAl8093XRxySSFop4UvWcPe/mtloYL6SvWQjNelIVjCzEWZ2L/Bt4Kdm9piZHXGI+6wys4s7mF9tZnvDK1t2tu2A8B/CzWY29FDiEOkuJXzJeOG1dx4C5rn7BHefDHyT4G/sh+IDwHGdLHsnvLJlh9x9b7hcF/eTtFHCl2xwBtDi7rfEZ7j7q+7+rJk9HF53fGnitcfDi1j9ORxScEn7mryZnQL8GPjnsKY+vrPCu9qXSLqoDV+ywVSCYRA78hl33x5egXKhmT3g7tsILj28wd3PAzCzQYkbuftzZrYQ+Dd37+pqhgfdl0i6qIYv2e7q8MqE8wnGUpgYzl8MnGVmPzSzU929roNtjwTe7EYZ3dmXSMop4Us2WAoc336mmZ1OcF35k939GOAVoAjA3d8Kt1kMfN/M5rbbdghQ5+4tXRXe1b5E0kUJX7LB00Chmf1LfIaZzQROA3a4+x4zOwo4KWH5KGCPu98N/CfvPTk7nm6ecO3GvkTSQm34kvHc3c3sw8BPzOzrQCOwGvgqcFI4qMibBM06cdOAH5lZDGgBvtBut8uBoWa2BLjK3V84SAhd7UskLTQAikiSmVk18Ki7dznIeDhm6wx335risETUpCOSAm3AoO788QrIB2Jpi0yymmr4IiJZQjV8EZEsoYQvIpIllPBFRLKEEr6ISJZQwhcRyRJK+CIiWUIJX0QkSyjhi4hkif8PaBnWQEcSfEMAAAAASUVORK5CYII=",
      "text/plain": [
       "<Figure size 640x480 with 1 Axes>"
      ]
     },
     "metadata": {},
     "output_type": "display_data"
    }
   ],
   "source": [
    "plt.plot(t, y_ivp.y[0], label='$v_x$')\n",
    "plt.plot(t, y_ivp.y[1], label='$v_y$')\n",
    "plt.title('Hitrost mase (upor in sila) v odvisnosti od časa')\n",
    "plt.xlabel('Čas $t$ [s]')\n",
    "plt.ylabel('Hitrost $v$ [m/s]')\n",
    "plt.legend()\n",
    "plt.show()"
   ]
  },
  {
   "cell_type": "markdown",
   "metadata": {
    "slideshow": {
     "slide_type": "subslide"
    }
   },
   "source": [
    "### Preoblikovanje diferencialne enačbe višjega reda v sistem diferencialnih enačb prvega reda"
   ]
  },
  {
   "cell_type": "markdown",
   "metadata": {},
   "source": [
    "Pogledali si bomo, kako navadno diferencialno enačbo poljubnega reda $n$:\n",
    "\n",
    "$$y^{(n)}=f(t, y, y', y'',\\dots,y^{(n-1)}),$$\n",
    "\n",
    "pri začetnih pogojih:\n",
    "\n",
    "$$y(t_0)=k_0,\\quad y'(t_0)=k_1,\\quad\\dots\\quad y^{(n-1)}(t_0)=k_{n-1}$$\n",
    "\n",
    "preoblikujemo v sistem diferencialnih enačb prvega reda."
   ]
  },
  {
   "cell_type": "markdown",
   "metadata": {
    "slideshow": {
     "slide_type": "subslide"
    }
   },
   "source": [
    "Najprej namesto odvodov vpeljemo nove spremenljivke: \n",
    "\n",
    "$$y_i=y^{(i)}, \\qquad i=0,1,\\dots,n-1.$$\n",
    "\n",
    "Diferencialna enačba $n$-tega reda zapisana z novimi spremenljivkami je:\n",
    "\n",
    "$$y_{n-1}'=f(t, y_0, y_1, y_2,\\dots,y_{n-1}).$$"
   ]
  },
  {
   "cell_type": "markdown",
   "metadata": {
    "slideshow": {
     "slide_type": "subslide"
    }
   },
   "source": [
    "Nove funkcije odvajamo po neodvisni spremenljivki:\n",
    "\n",
    "$$y_i'=y^{(i+1)}=y_{i+1}, \\qquad i=0,1,\\dots,n-2$$\n",
    "in\n",
    "$$y_{n-1}'=f(t, y_0, y_1, y_2,\\dots,y_{n-1}).$$"
   ]
  },
  {
   "cell_type": "markdown",
   "metadata": {
    "slideshow": {
     "slide_type": "subslide"
    }
   },
   "source": [
    "Dobili smo sistem navadnih diferencialnih enačb prvega reda:\n",
    "\n",
    "$$\n",
    "\\begin{array}{rcl}\n",
    "y_0'&=&y_1\\\\\n",
    "y_1'&=&y_2\\\\\n",
    "&\\dots\\\\\n",
    "y_{n-1}'&=&f(t, y_0, y_1, y_2,\\dots,y_{n-1})\\\\\n",
    "\\end{array}\n",
    "$$\n",
    "\n",
    "pri začetenih pogojih:\n",
    "\n",
    "$$y_0(t_0)=k_0,\\quad y_1(t_0)=k_1,\\quad\\dots\\quad y_{(n-1)}(t_0)=k_{n-1}.$$"
   ]
  },
  {
   "cell_type": "markdown",
   "metadata": {
    "slideshow": {
     "slide_type": "subslide"
    }
   },
   "source": [
    "#### Numerični zgled"
   ]
  },
  {
   "cell_type": "markdown",
   "metadata": {
    "slideshow": {
     "slide_type": "subslide"
    }
   },
   "source": [
    "Vrnemo se  k padajoči masi:\n",
    "<img width=250 src=\"fig/padanje_telesa_vezano.png\">"
   ]
  },
  {
   "cell_type": "markdown",
   "metadata": {
    "slideshow": {
     "slide_type": "subslide"
    }
   },
   "source": [
    "Vendar tokrat drugi Newtonov zakon zapišimo glede na pomik (diferencialna enačba drugega reda):\n",
    "\n",
    "$$F_x=m\\,x'',$$\n",
    "\n",
    "$$m\\,g+F_y=m\\,y'',$$\n",
    "\n",
    "$m$ je masa, $g$ gravitacijski pospešek, $c$ koeficient zračnega upora ter $x''$ in $y''$ pospešek v izbranem koordinatnem sistemu. Začetni pogoji:\n",
    "\n",
    "$$x(0)=y(0)=0\\,\\textrm{m}\\qquad\\textrm{in}\\qquad x'(0)= y'(0)=5\\,\\textrm{m/s}.$$"
   ]
  },
  {
   "cell_type": "markdown",
   "metadata": {
    "slideshow": {
     "slide_type": "subslide"
    }
   },
   "source": [
    "Imamo sistem dveh diferencialnih enačb drugega reda. Z uvedbo novih spremenljivk $y_i$: \n",
    "\n",
    "$$y_0= x,\\quad y_1= x',\\quad y_2= y,\\quad y_3= y'.$$"
   ]
  },
  {
   "cell_type": "markdown",
   "metadata": {
    "slideshow": {
     "slide_type": "subslide"
    }
   },
   "source": [
    "Pripravimo sistem diferencialnih enačb prvega reda:\n",
    "\n",
    "$$\n",
    "\\begin{array}{rcl}\n",
    "y_0'&=&y_1\\\\\n",
    "y_1'&=&F_x/m\\\\\n",
    "y_2'&=&y_3\\\\\n",
    "y_3'&=&g+F_y/m\n",
    "\\end{array}\n",
    "$$"
   ]
  },
  {
   "cell_type": "markdown",
   "metadata": {
    "slideshow": {
     "slide_type": "subslide"
    }
   },
   "source": [
    "Definirajmo Pythonovo funkcijo desnih strani / prvih odvodov:"
   ]
  },
  {
   "cell_type": "code",
   "execution_count": 36,
   "metadata": {},
   "outputs": [],
   "source": [
    "def f_zračni_upor_vezana(t, y, g=9.81, m=1., c=0.5):\n",
    "    x, vx, y, vy = y\n",
    "    return np.array([vx, -c*vx*np.sqrt(vx**2+vy**2)/m, vy, g-c*vy*np.sqrt(vx**2+vy**2)/m])"
   ]
  },
  {
   "cell_type": "markdown",
   "metadata": {
    "slideshow": {
     "slide_type": "subslide"
    }
   },
   "source": [
    "Definirajmo začetni pogoj in časovni vektor, kjer nas zanima rezultat:"
   ]
  },
  {
   "cell_type": "code",
   "execution_count": 37,
   "metadata": {},
   "outputs": [
    {
     "data": {
      "text/plain": [
       "array([0.  , 0.05, 0.1 , 0.15, 0.2 ])"
      ]
     },
     "execution_count": 37,
     "metadata": {},
     "output_type": "execute_result"
    }
   ],
   "source": [
    "y0 = np.array([0., 5., 0., 5.])\n",
    "t = np.linspace(0, 5, 101)\n",
    "t[:5]"
   ]
  },
  {
   "cell_type": "markdown",
   "metadata": {
    "slideshow": {
     "slide_type": "subslide"
    }
   },
   "source": [
    "Izračunamo rešitev:"
   ]
  },
  {
   "cell_type": "code",
   "execution_count": 38,
   "metadata": {},
   "outputs": [],
   "source": [
    "y_ivp = solve_ivp(f_zračni_upor_vezana, t_span=(t[0], t[-1]), y0=y0, t_eval=t)"
   ]
  },
  {
   "cell_type": "markdown",
   "metadata": {
    "slideshow": {
     "slide_type": "subslide"
    }
   },
   "source": [
    "Poglejmo rezultat ($[x, x', y, y']$):"
   ]
  },
  {
   "cell_type": "code",
   "execution_count": 39,
   "metadata": {},
   "outputs": [
    {
     "data": {
      "text/plain": [
       "array([[0.        , 0.22992477, 0.42611996, 0.59587483, 0.74424286],\n",
       "       [5.        , 4.23183658, 3.64002431, 3.16703014, 2.77775353],\n",
       "       [0.        , 0.24153615, 0.47038377, 0.69124852, 0.9072755 ],\n",
       "       [5.        , 4.68435696, 4.48497294, 4.36034218, 4.28444004]])"
      ]
     },
     "execution_count": 39,
     "metadata": {},
     "output_type": "execute_result"
    }
   ],
   "source": [
    "y_ivp.y[:,:5]"
   ]
  },
  {
   "cell_type": "markdown",
   "metadata": {
    "slideshow": {
     "slide_type": "subslide"
    }
   },
   "source": [
    "Prikažemo rezultate; najprej hitrost, nato lego ($y$ koordinata je pozitivna navzdol)!"
   ]
  },
  {
   "cell_type": "code",
   "execution_count": 40,
   "metadata": {},
   "outputs": [
    {
     "data": {
      "image/png": "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",
      "text/plain": [
       "<Figure size 640x480 with 1 Axes>"
      ]
     },
     "metadata": {},
     "output_type": "display_data"
    }
   ],
   "source": [
    "plt.plot(t, y_ivp.y[1], label='$v_x$')\n",
    "plt.plot(t, y_ivp.y[3], label='$v_y$')\n",
    "plt.title('Hitrost mase v odvisnosti od časa')\n",
    "plt.xlabel('Čas $t$ [s]')\n",
    "plt.ylabel('Hitrost [m/s]')\n",
    "plt.legend()\n",
    "plt.show()"
   ]
  },
  {
   "cell_type": "code",
   "execution_count": 41,
   "metadata": {
    "slideshow": {
     "slide_type": "subslide"
    }
   },
   "outputs": [
    {
     "data": {
      "image/png": "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",
      "text/plain": [
       "<Figure size 640x480 with 1 Axes>"
      ]
     },
     "metadata": {},
     "output_type": "display_data"
    }
   ],
   "source": [
    "plt.scatter(y_ivp.y[0], y_ivp.y[2], marker='.')\n",
    "plt.xlabel('$x$ [m]')\n",
    "plt.ylabel('$y$ [m]')\n",
    "plt.title('Lega mase')\n",
    "plt.show()"
   ]
  },
  {
   "cell_type": "markdown",
   "metadata": {
    "slideshow": {
     "slide_type": "slide"
    }
   },
   "source": [
    "## Stabilnost reševanja diferencialnih enačb*"
   ]
  },
  {
   "cell_type": "markdown",
   "metadata": {},
   "source": [
    "Numerično reševane diferencialnih enačb je izpostavljeno *napaki metode* in *zaokrožitveni napaki*. Te napake so pri različnih numeričnih metodah različne. \n",
    "\n",
    "Reševanje diferencialne enačbe je **stabilno**, če majhna sprememba začetnega pogoja vodi v majhno spremembo izračunane rešitve; sicer govorimo o **nestabilnosti reševanja**.\n",
    "\n",
    "Stabilnost je odvisna od diferencialne enačbe, od uporabljene numerične metode in od koraka integracije $h$."
   ]
  },
  {
   "cell_type": "markdown",
   "metadata": {
    "slideshow": {
     "slide_type": "subslide"
    }
   },
   "source": [
    "### Primer preprostega nihala"
   ]
  },
  {
   "cell_type": "markdown",
   "metadata": {},
   "source": [
    "Poglejmo si najprej primer reševanja diferencialne enačbe preprostega nihala.\n",
    "<img src=\"./fig/Slavic-slika-3.6.png\" width=150>\n",
    "\n",
    "Slika (vir: Slavič, Dinamika, mehanska nihanja in mehanika tekočin, 2017) prikazuje dinamski sistem (masa $m$, togost $k$), katerega diferencialna enačba je\n",
    "\n",
    "$$m\\, x'' + k\\,x=0.$$"
   ]
  },
  {
   "cell_type": "markdown",
   "metadata": {
    "slideshow": {
     "slide_type": "subslide"
    }
   },
   "source": [
    "Tako diferencialno enačbo preoblikujemo v standardno obliko lastnega nihanja:\n",
    "\n",
    "$$x'' + \\omega_0^2\\,x=0,$$\n",
    "\n",
    "kjer je lastna krožna frekvenca:\n",
    "\n",
    "$$\\omega_0=\\sqrt{\\frac{k}{m}}$$\n",
    "\n",
    "in pričakujemo odziv oblike:\n",
    "\n",
    "$$x(t)=A\\,\\cos(\\omega_0\\,t)+B\\,\\sin(\\omega_0\\,t).$$"
   ]
  },
  {
   "cell_type": "markdown",
   "metadata": {
    "slideshow": {
     "slide_type": "subslide"
    }
   },
   "source": [
    "Če so začetni pogoji:\n",
    "\n",
    "$$x(0\\,\\textrm{s})=x_0\\qquad\\textrm{in}\\qquad x'(0\\,\\textrm{s})=0\\,\\textrm{m/s},$$\n",
    "\n",
    "je rešitev začetnega problema:\n",
    "\n",
    "$$x(t)=x_0\\,\\cos(\\omega_0\\,t).$$"
   ]
  },
  {
   "cell_type": "markdown",
   "metadata": {
    "slideshow": {
     "slide_type": "subslide"
    }
   },
   "source": [
    "#### Numerični zgled"
   ]
  },
  {
   "cell_type": "markdown",
   "metadata": {},
   "source": [
    "Najprej definirajmo vektor začetnih pogojev in funkcijo desnih strani / prvih odvodov (diferencialno enačbo drugega reda pretvorimo v sistem diferencialnih enačb prvega reda $\\mathbf{y}'=\\mathbf{f}(t, \\mathbf{y})$), kjer velja $y_0=x, y_1=x'$:"
   ]
  },
  {
   "cell_type": "code",
   "execution_count": 42,
   "metadata": {},
   "outputs": [],
   "source": [
    "def f_nihalo(t, y, omega0=2*np.pi):\n",
    "    \"\"\"\n",
    "    Funkcija desnih strani za nihalo z eno prostostno stopnjo\n",
    "    \n",
    "    :param t: čas\n",
    "    :param y: seznam začetnih vrednosti\n",
    "    :param omega: lastna krožna frekvenca\n",
    "    :return y': seznam vrednosti odvodov\n",
    "    \"\"\"\n",
    "    return np.array([y[1], -omega0**2*y[0]])"
   ]
  },
  {
   "cell_type": "markdown",
   "metadata": {
    "slideshow": {
     "slide_type": "subslide"
    }
   },
   "source": [
    "Definirajmo podatke in analitično rešitev:"
   ]
  },
  {
   "cell_type": "code",
   "execution_count": 43,
   "metadata": {
    "slideshow": {
     "slide_type": "-"
    }
   },
   "outputs": [],
   "source": [
    "x0 = 1.\n",
    "omega0 = 2*np.pi\n",
    "x_zacetni_pogoji = np.array([x0, 0.])\n",
    "t1 = 4.\n",
    "cas = np.linspace(0, t1, 500)\n",
    "pomik = x0*np.cos(omega0*cas) # analitična rešitev\n",
    "hitrost = -x0*omega0*np.sin(omega0*cas) # analitična rešitev"
   ]
  },
  {
   "cell_type": "markdown",
   "metadata": {},
   "source": [
    "Rešitev s pomočjo metod Euler in Runge-Kutta četrtega reda:"
   ]
  },
  {
   "cell_type": "code",
   "execution_count": 44,
   "metadata": {},
   "outputs": [],
   "source": [
    "t_Eu = np.linspace(0, t1, 101)\n",
    "t_RK4 = t_Eu\n",
    "dt = t_Eu[1]\n",
    "\n",
    "x_Eu = euler_sistem(f_nihalo, t_Eu, x_zacetni_pogoji)\n",
    "x_RK4 = solve_ivp(f_nihalo, t_span=(t_RK4[0], t_RK4[-1]), y0=x_zacetni_pogoji, t_eval=t_RK4).y"
   ]
  },
  {
   "cell_type": "markdown",
   "metadata": {
    "slideshow": {
     "slide_type": "subslide"
    }
   },
   "source": [
    "Prikažimo rezultate:"
   ]
  },
  {
   "cell_type": "code",
   "execution_count": 45,
   "metadata": {},
   "outputs": [
    {
     "data": {
      "image/png": "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",
      "text/plain": [
       "<Figure size 640x480 with 1 Axes>"
      ]
     },
     "metadata": {},
     "output_type": "display_data"
    }
   ],
   "source": [
    "plt.plot(cas, pomik, label='Analitična rešitev')\n",
    "plt.plot(t_Eu, x_Eu[:,0], '.', label='Euler')\n",
    "plt.plot(t_RK4, x_RK4[0], '.', label='Runge-Kutta 4')\n",
    "plt.legend()\n",
    "plt.title('Stabilnost različnih metod')\n",
    "plt.ylabel('Pomik [m]')\n",
    "plt.xlabel('Čas [s]')\n",
    "plt.show()"
   ]
  },
  {
   "cell_type": "markdown",
   "metadata": {
    "slideshow": {
     "slide_type": "subslide"
    }
   },
   "source": [
    "Opazimo, da je Eulerjeva metoda nestabilna in če bi povečali korak, bi postala nestabilna tudi metoda Runge-Kutta četrtega reda."
   ]
  },
  {
   "cell_type": "markdown",
   "metadata": {
    "slideshow": {
     "slide_type": "subslide"
    }
   },
   "source": [
    "#### Zakaj je Eulerjeva metoda tako nestabilna?"
   ]
  },
  {
   "cell_type": "code",
   "execution_count": 46,
   "metadata": {},
   "outputs": [
    {
     "data": {
      "text/plain": [
       "array([ 1.        ,  1.        ,  0.93683453,  0.8105036 ,  0.62499707,\n",
       "        0.3882947 ,  0.1121141 , -0.18859332, -0.49638247, -0.79225904])"
      ]
     },
     "execution_count": 46,
     "metadata": {},
     "output_type": "execute_result"
    }
   ],
   "source": [
    "x_Eu[:10,0]"
   ]
  },
  {
   "cell_type": "markdown",
   "metadata": {
    "slideshow": {
     "slide_type": "subslide"
    }
   },
   "source": [
    "Spomnimo se Eulerjeve metode:\n",
    "\n",
    "$$x(t+h)=x(t)+x'(t)\\,h,$$\n",
    "\n",
    "ki nam pove, da pomik $x(t+h)$ določimo glede na lego $x(t)$ in hitrost $x'(t)$. Začetni pogoji izhajajo iz skrajnega odmika $x(t=0)=1$ in takrat je hitrost $x'(t=0)=0$, kar pomeni, da bo $x(t+h)=1$. Že v prvem koraku torej naredimo razmeroma veliko napako. Vendar zakaj potem začne vrednost alternirajoče naraščati?"
   ]
  },
  {
   "cell_type": "markdown",
   "metadata": {
    "slideshow": {
     "slide_type": "subslide"
    }
   },
   "source": [
    "Spomnimo se, da je analitična rešitev $x(t)=x_0\\,\\cos(\\omega_0\\,t)$ in je torej $x'(t)=-\\omega_0\\,x_0\\,\\sin(\\omega_0\\,t)$. \n",
    "\n",
    "Vstavimo pripravljena izraza v Eulerjevo metodo in uredimo:\n",
    "\n",
    "$$x(t+h)=x(t)+x'(t)\\,h=x_0\\,\\left(\\cos(\\omega_0\\,t)-\\omega_0\\,h\\,\\sin(\\omega_0\\,t)\\right).$$"
   ]
  },
  {
   "cell_type": "markdown",
   "metadata": {
    "slideshow": {
     "slide_type": "subslide"
    }
   },
   "source": [
    "Predpostavimo, da gledamo stanje ob takem času $t=\\pi/(2\\omega_0)$, ko velja $\\cos(\\omega_0\\,t)=0$ in $\\sin(\\omega_0\\,t)=1$:\n",
    "\n",
    "$$x(t+h)=x_0\\,\\underbrace{\\left(-\\omega_0\\,h\\right)}_{A}.$$"
   ]
  },
  {
   "cell_type": "markdown",
   "metadata": {
    "slideshow": {
     "slide_type": "subslide"
    }
   },
   "source": [
    "V kolikor bo absolutna vrednost izraza $A$ večja kot 1, bo pri času $t+h$ vrednost večja kot v predhodnem koraku in v sledečem verjetno spet. Sledi, da lahko pride do nestabilnosti. Da se je izognemo, mora veljati:\n",
    "\n",
    "$$|A|<1\\qquad\\rightarrow\\qquad h<\\frac{1}{\\omega_0}.$$"
   ]
  },
  {
   "cell_type": "markdown",
   "metadata": {
    "slideshow": {
     "slide_type": "subslide"
    }
   },
   "source": [
    "Opomba: v nekaterih knjigah boste videli tudi vrednost $h<2/\\omega_0$; enoliče meje za vse diferencialne enačbe ni mogoče definirati; v splošnem pa velja, da je korak definiran relativno glede na najkrajšo periodo $T$ v diferencialni enačbi (npr.: $h<2/\\omega_0$ je v bistvu enako $h<2/(2\\pi/T)$ oziroma $h<T/\\pi$). Perioda $T$ je definirana glede na najvišjo lastno frekvenco sistema $T=1/f_{\\textrm{max}}$, ki jo izračunamo iz lastne vrednosti sistema."
   ]
  },
  {
   "cell_type": "markdown",
   "metadata": {
    "slideshow": {
     "slide_type": "slide"
    }
   },
   "source": [
    "## Nekaj vprašanj za razmislek!"
   ]
  },
  {
   "cell_type": "markdown",
   "metadata": {},
   "source": [
    "1. Na sliki (vir: Numerical Methods in Engineering With Python 3, 3rd Ed, Jaan Kiusalaas) je prikazan izstrelek mase $m$, ki ga izstrelimo s hitrosjo $v_0$ pod kotom $\\alpha$. Če je sila upora zraka: $F=c\\,v^{3/2}$, potem sta gibalni enačbi:\n",
    "\n",
    "$$\\ddot x(t)=-F\\,\\cos(\\alpha)/m\\qquad\\ddot y(t)=-F\\,\\sin(\\alpha)/m-g.$$\n",
    "\n",
    "Opomba: $v=\\sqrt{\\dot x^2+\\dot y^2}.$ Ustrezne parametre si izmislite.\n",
    "<img src=\"./fig/Jaan_Kiusalaas_stran_265_n13.png\" width=300>\n",
    "Sistem dveh diferencialnih enačb drugega reda zapišite v sistem diferencialnih enačb prvega reda.\n",
    "2. Določite vektor začetnih pogojev, ki smo ga zgoraj označili z $\\mathbf{y}$.\n",
    "3. Določite funkcijo desnih strani, ``c`` naj bo parameter.\n",
    "4. Definirajte začetne pogoje in rešite nalogo s poljubnimi podatki.\n",
    "5. Prikažite $(x, y)$ lego masne točke, spreminjajte koeficient upora $c$.\n",
    "6. Prikažite hitrost v odvisnosti od časa. Določite minimum hitrosti in čas, pri katerem nastane."
   ]
  },
  {
   "cell_type": "markdown",
   "metadata": {
    "slideshow": {
     "slide_type": "subslide"
    }
   },
   "source": [
    "### Primer Van der Polovega nihala\n",
    "\n",
    "Namen tega primera je pokazati, kako lahko izbira integratorja vpliva na hitrost reševanja problema! Van der Polovo nihalo je opisano [tukaj](http://en.wikipedia.org/wiki/Van_der_Pol_oscillator). "
   ]
  },
  {
   "cell_type": "markdown",
   "metadata": {},
   "source": [
    "Definirajmo seznam odvodov:"
   ]
  },
  {
   "cell_type": "code",
   "execution_count": 47,
   "metadata": {},
   "outputs": [],
   "source": [
    "def f_van_der_pol(t, y, mu=1000):\n",
    "    \"\"\"\n",
    "    Funkcija desnih strani za Van der Pol nihalo\n",
    "    \n",
    "    :param t: čas\n",
    "    :param y: seznam začetnih vrednosti\n",
    "    :param mu: parameter dušenja in nelinearnosti\n",
    "    :return y': seznam vrednosti odvodov\n",
    "    \"\"\"\n",
    "    return np.array([y[1], mu*(1-y[0]**2)*y[1]-y[0]])"
   ]
  },
  {
   "cell_type": "code",
   "execution_count": 48,
   "metadata": {
    "slideshow": {
     "slide_type": "subslide"
    }
   },
   "outputs": [],
   "source": [
    "x_zacetni_pogoji = np.array([1.5, 0.])\n",
    "dt = 0.1\n",
    "t1 = 3000"
   ]
  },
  {
   "cell_type": "markdown",
   "metadata": {},
   "source": [
    "Rešitev po metodi RK45 (gre za eksplicitno shemo, ki ni primerna za toge sisteme diferencialnih enačb; reševanje je zelo počasno, zato rešitev računamo samo do `t1/100`):"
   ]
  },
  {
   "cell_type": "code",
   "execution_count": 49,
   "metadata": {},
   "outputs": [],
   "source": [
    "vp_RK45 = solve_ivp(f_van_der_pol, t_span=(0., t1/100), y0=x_zacetni_pogoji, method='RK45')"
   ]
  },
  {
   "cell_type": "markdown",
   "metadata": {},
   "source": [
    "Implicitna shema BDF (*angl.* Backward Differentiation Formulas) se tukaj izkaže kot bistveno bolj primerna. Zaradi stabilnosti, so koraki lahko bistveno večji in zato je reševanje bistveno hitrejše:"
   ]
  },
  {
   "cell_type": "code",
   "execution_count": 50,
   "metadata": {},
   "outputs": [],
   "source": [
    "vp_BDF = solve_ivp(f_van_der_pol, t_span=(0., t1), y0=x_zacetni_pogoji, method='BDF')"
   ]
  },
  {
   "cell_type": "code",
   "execution_count": 51,
   "metadata": {},
   "outputs": [
    {
     "data": {
      "image/png": "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",
      "text/plain": [
       "<Figure size 640x480 with 1 Axes>"
      ]
     },
     "metadata": {},
     "output_type": "display_data"
    }
   ],
   "source": [
    "plt.plot(vp_BDF.t, vp_BDF.y[0], 'C1.', label='Pomik - BDF [m]')\n",
    "plt.plot(vp_RK45.t, vp_RK45.y[0], 'C0.', label='Pomik - RK4 [m]')\n",
    "plt.xlabel('Čas [s]')\n",
    "plt.legend(loc=(1.01, 0));"
   ]
  },
  {
   "cell_type": "markdown",
   "metadata": {
    "slideshow": {
     "slide_type": "subslide"
    }
   },
   "source": [
    "### Simbolno reševanje diferencialne enačbe drugega reda"
   ]
  },
  {
   "cell_type": "markdown",
   "metadata": {},
   "source": [
    "Pogledali si bomo primer, prikazan na sliki, kjer je masa $m$ na klancu naklona $\\alpha$. Koeficient trenja je $\\mu$, težnostni pospešek pa $g$. Začetna hitrost je $\\dot y(0\\,\\textrm{s})=v_0$, pomik $y(0\\,\\textrm{s})=0\\,\\textrm{m}$.\n",
    "<img src=\"./fig/masa_na_klancu.png\" width=350>\n",
    "Gibalna enačba (samo za smer $y$) je definirana glede na II. Newtonov zakon (glejte diagram sil na prosto telo)."
   ]
  },
  {
   "cell_type": "markdown",
   "metadata": {
    "slideshow": {
     "slide_type": "subslide"
    }
   },
   "source": [
    "#### Izpeljava gibalne enačbe"
   ]
  },
  {
   "cell_type": "code",
   "execution_count": 52,
   "metadata": {},
   "outputs": [
    {
     "data": {
      "image/png": "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",
      "text/latex": [
       "$\\displaystyle m \\frac{d^{2}}{d t^{2}} y{\\left(t \\right)} = - g m \\mu \\cos{\\left(\\alpha \\right)} + g m \\sin{\\left(\\alpha \\right)}$"
      ],
      "text/plain": [
       "    2                                   \n",
       "   d                                    \n",
       "m⋅───(y(t)) = -g⋅m⋅μ⋅cos(α) + g⋅m⋅sin(α)\n",
       "    2                                   \n",
       "  dt                                    "
      ]
     },
     "execution_count": 52,
     "metadata": {},
     "output_type": "execute_result"
    }
   ],
   "source": [
    "y = sym.Function('y')\n",
    "m, mu, g, alpha, t, v0 = sym.symbols('m, mu, g, alpha, t, v0')\n",
    "eq = sym.Eq(m*y(t).diff(t,2),  m*g*sym.sin(alpha)-m*g*sym.cos(alpha)*mu)\n",
    "eq"
   ]
  },
  {
   "cell_type": "markdown",
   "metadata": {
    "slideshow": {
     "slide_type": "subslide"
    }
   },
   "source": [
    "Rešitev enačbe je:"
   ]
  },
  {
   "cell_type": "code",
   "execution_count": 53,
   "metadata": {},
   "outputs": [
    {
     "data": {
      "image/png": "iVBORw0KGgoAAAANSUhEUgAAAYsAAAAuCAYAAADZRjViAAAACXBIWXMAAA7EAAAOxAGVKw4bAAAP90lEQVR4Ae2d7ZUctRKGx3s2gMVEAM4A7AiuycBwI8BkcDn+538+kAE4AyADuBFgnAHcCLA3A9/30XY1arVa6s+Z6dmqc3qk1mfVK6lKH909Dz58+HBwcgTuGwIvX768kcwvGrk/bdyvFX5737BweR2BMQhcj0nkaRyBC0TgOxmGb0wu+X+Q/w9djyzMXUfAEfgHgat/vO5zBO4VAs9lIJ5GEn8n/6cK+ywKq3qV3lYl1bT3McFSfJbmvyTM18CiVkYp3o3FJfUml2UKAqwq3kzJkKbVwPqPwiYZl7SMS75fCR8MODjfa1oJSzCs4TkY/8DPLO51H3ThGwQ0GFlZPJM7ahtK6Z4p/RO53zqIfQTWxEdlYSz+kvtLv6bTh4gvVpdsYX4r/49rc6QyV+1rKq+I51C8ryzWblkv7+wQUOe/0fWnruyWkcJZHTAgPx/DPOUp3Qu5bigygK2Nj8r7vsEb3M+R6FfwNqr/TBFgbSypu4bnULwbiykt52n3igBnEyyv/0oFUBgDnVXF5/KPfRKK9ByIO+UR2AIf8Kbc2aT2farr+ewCBjKqzN8U9ZHc9oGJgaRzgrfAEj5qePbi3VjMaT7PszcEvhDDb1OmNbiDoZD7ha5bXZ81YWnS9P4rpVt9uyGtZMf3q+PT4E25S1YX5F2Sf7BJxNfYicZgGQMRq2NJPTU8c/H+6OxAC3nwRSHAyqKz363BgKFg9sQ+sx1SMzMsbi0pLWX1VigKcxICG+MD7l/puheGemMs6a81PDvxbiyAzGmXCGgwcc7AquHPRgAMAlsNPzYDDeXPTBLDwKrhZ7m/y2UPnANJ4nBbUlxtK+FLJWbbYTMSD/D7h9yP4kp0j6FCDvjPkuKQia2LeKaLzK2xjNIYbhzq/6zwVi75MaDURzmUCf1b4bV9+VH4qBzbUvpb5VL/Dwrrrf6oNCL4o72PaixKWCiOtqJf4f6me+Q/NHkIf6jrJ13IS3+FnuiyfhgCBn62xJIqa3h24t1YDLSSB583AhqMDD4MQ1BecoOCVdgbXRgLOjqDlwFKOpRMS7rvKOI2ou55rCSsSLYkDNa7TAXIjHxZkkyGAW+iB+MgF4WPIeBpore6MAIoMbbe2hWS/L8Sp+t7XcHgyE0xqxlS+CriozLh8Vdd38hPGx3kUt//5HJuBJ+kgZfWwJFOhHFDnqOReChiAb9iBr7N8AbedI/heyT3vVwMBk/aBSMvlzZgMvCLrrYNFJbSllhSVw3PTvxVyp3fOwLnjoAGGAaAx//+Zbw2g46BjSKKCYVXm7HG6Wt+6sgp8lq+KfEoxKBILZPko16UTCqfJcHFCKSPmJIPur1zQpqckmL7jbfaqQMl9bips8kWnFR5x3Hmr+HDSo76W/nkhzeMoG0B0r5tvPxG4G7yWNjW7lgshpQ+cjFZaVeD8lt/rBm+LbEEtxqenfjrrZH28h2BDRB4rTJZNaBkAsmPkoNShcaATMNCwpk/D5WvrTcuQzwwuP+rC3csfRkpD8uDLK/spnFNseSU6KGpm3ytUiKfwpE9yC8/8czaf9fVIcWx6iCMrSbOcVAU7+VSHwYKBW/KXLeDVMKHFRnYpLJRGMoWxQx9rLpyGJMG/oukvNRjeMVp4e2g+NwKCfnDFlKcQWH0s7lYWFFvzJO4tX6yJZawUsOzE3+dMO+3jsBZI6CBi8JjkKVbQSgHnmiigweSn3Qol9Js/C7xCr+qDwVX29Mv1qQyTMmlRoEVEqsG6siRKVHOAIbI0gyVQT7whZDjhS74YfuLVQfbezlFq+hRxOF0x8hHueCJx5upK2dMSDqoPIk0GuJR4axYqKNjUC1fwd0Ci0J1o6KWYkklNTw78Vej2PJEjsD5IGCzz7cJSyjTVMGGtFIObbj8N0m+qbcYo6VllOocMgoobVsh5Oo3I1l6A93S5PIbT3ZmcBBWrDBQlJzvYCSe696MiaVP3Sw+ykedXGm7xfmJ5+D3Ng6M/MQzyz8aiZdgYOXOwWIpn1tiCW81PDvxbiyWNqfnPwkCGrym+A7y06lRpukKonNeoXTMLJktLSGUlc3Ql5QzlBc5OgpVfFMfl20fMePvkNLcKoB8ZkzTeA5YiScduHRIcdQLsWLDILQvr1G2Lp5Awlhly1e4URYfymgSdA6CLVPjUk8wiEm43dJ2bbtb4MbuEiyWsrYllvBWw7MTv4qxUAOPGjxj0y1F2PNfNAI/IV3SlzjDgELcnTf80i+DclF6DEr2Le4o/RgvCpdHH1enhkeUE1dMdlbAvnpsNOI0+NlzR8ZW0ROoe7Z24BvioQBe9ErrIA1PQlk6PmcCZjFx367S4ojIX8IHg5MzVMZvqC/DmxXPKiedEFjclu5YLFK84AmFO5e2xBKeanh24q/nSmH51LA8lcKAHGPx6cjtI2RWhruOwFgE1H+YfaJw2ENnpv2xrne6cvv5KFme3w/KSO7UvWpl7xHKKj0v6SWaGWCzdvb1Ud7h/EF+HjNlRs5W0N9DcigcDD5RmtdyGei3uiAwMKOJwSGObRWLxwBxb4aAcBR7/MY0OIN5bZwP4qO8yEEZJluoX/fhvQm5N1GcGS1V2xKrH/Iek4pYiF+MLjyFttM98gej3YQTT58lnP5IOjtIBw8+Rmn3iurQllhSUQ3PTvyir85KyGeqcNKXN5UnGBe5peVmB7Fj3oivG9WHckEhhc7c1M9z6BzwMbBoZJvtNdHn5VyKHGNQlawoUhTsksPXMVWFNE19uaeYRpeRS6hyMUI8sooy3y1tgY/KZNwxBktnMkXMlBd9NeeAu1julpFbYAm/KreIZy5+9spChaFUWZ5lO3YTzzPV6cs/LHV5IWXoqQhkOQmJJwwZ+8E8jYEyaI2F/KyImEHQ4Y49u1GV42krOVQubd5r0/GcLUup+pml0T68dBbapgmj4281288xTftjmNY2TszkznISlQOhELYFPkzOlo47+kw7pgv8n1PUFlgiXw3PXvzVAlQQojRA6fhDe8TkW9rwC1jvZkUJ6mLJx+D/RH4MWqdT6Z5BfKMLxWTLdXnXIZX/VJft3c4qVPm3lqPUplWeV5ARQwEPgZBXnte62ELJbVvcJVz5V3WxbULfpi+sQo0slEc/3DWtjU+DM3iH7aq54Cg/E9RFZcyte26+ht+1+xr9bBBP1ZmNv5orhPLVvobINk52ADcAxPuhC9hYJSsvUrGXWPtMNW/Isv9Y27edwxSKj2sJbS3HYJuOZHqpjEwyOMSm7zDZ4MJQrHEWoaImEfvMpcnSpMKUmP53kCyrT0SmMrJS+jXxAeehff2V2D3rYtbEEkFreGbjZxkLdWhmdzWFSZpSxyc/L5aclCQLCoftjXZro8AQB6npEzeF5MeLOpIctTbdVGAUqS7Oizg7wkjgL/WxzfhRvbcqnPoXrQYjBt/IjzG+CFoLnwZfcAbve0lrYQl4NTxL8ddNAcz46PQcHvGPYu1MTX7ieLoituz4e4NUaVAmbOWQh6VM+qVPBbVEfgbHyZaF4hcepxy4Y+DWnE2quOW0pRwT23S5MDsqQdjQH1bpvyoLZdgbUzuCo8fqGviojFXw7TG3s4A1sETkGp6l+GAsVAYH1czUOLxlD7g1FvIz+yc8JpbMPaWp/HR2Zn+kZw++NFPiCRaMS5VUDnWNShsVlv3WSxSP1w4oe7Ik6cKt+GBAZ7fWcumPGLaZHJJ5SpseUWSvyhFwBI6JwLWUAbNrezMU5Z5uLxGWznhYObAlM0TkqSlV8lNOlcSjKcNq2okJzAim8o0qRnzBP8aUZXL2qbBRBS1PNFuORoYXDQv0BSi3JTemTe9y+68j4AhcHAKsLN5JYdjjeii+V4mUzOjTsIcKY5Y9ROSxMofSYJRMOQ2l2TocOaDUQN6FJr8oVl1Bbrmcc9hqZ5TRozjlG1olBV4UnzOMtVXSbDnEEi9JtXU2/PF4bPo8+5g2RcRDU4ZhE8KanyUyUu6HuDD3OwKOwPEQYGVhyo/BjdJr9wgVh0IkbPTMW3lIjxGoPQKI4gh1yz0VhdWNYVBiQmmYvWNUwopJ97gocZvVl7K3cUrfKuY2UJ6mHB5ni7cA4yQl/2w5VOhz1Rn/SxoH/oRx3mSyjm3TwKPybSHjQeU+KIHgcY6AI7AdAtdR0Rxao/xiBY4B4VHRoDSitChNFEiOHhOoPK2Bkb+dkUcZyI+Sq5LyD83GS3lrs3HywiOKESVdW13wpnpttVTiZ8u4JXKg2HkSp0Rj27RUhsc5Ao7AjhGIjQWrgVRh5s4rEBclP7SF1NnbloJl5o2xiY2QbqtfPCRNIJWRnala/AI3zKKVHx4HZ/Sqn3SvFtSzddbZcki2diXZMAnWfGMoniCMbdOt5fTyHQFH4EQIXEX1dgyFlAWrCq7cdhKK5EmUN/a2RkdlsHoYmrVzIJwrOy5rU7/4Q2ZWVOzb956XV5h94uOV/Kmx25S3KYWvJYfKYdsRw5ke1o9t0ylse1pHwBHYEQLxyoJvgfA+BbNUvnZpB5ztdlIkF0p+6HFTyhnzpU8MEXWdlCQvfxfJn7tgMJDLjAKrJ/bykefsaakcyo9BoD1yb7GPbdOzx8kZdAQcgXkIDH51VsoDxfFUbjrLDDUpnPckZn15s1FMi74gOU/c9XNJFmbiGBozrrMqacqZe8A9q07L1LQHMrDKOshlhbH6Z01ULlidREbkcjo+AmpzJiE24XosP5Owo37L6/hSX2aNYWWhBmWV0H4aWfdsH7Et83VBbIwJ+9tzzhPoPCdfVRRkO0UUKxpb1Ryt/mYw0/4MYIwERJvaAA8BK/2cRMaVePdiJiLQ9K12EkJ2hTHu+eo0X6PO7VpMrMWTHwuBsLJQo7FKYOsoHPLK5YN5HHIWFYbi2bbhhbTOeUeJeaVlpkFdHJrulho5UKpsp6FkOSjufCpF92dPkuO9mGRy0CGF+2OqHUT8ZioC6kPokd4Lnk2fO8hl+9dpJwjYmQVGge0BvpPEdgrKfIzVZ9uCDjFF8TOLDdsdcndLwgcDWTSmexDOB+weWmm3PDKRek8f0xWvmtEtPDwy9PDLbgW+ZMZtG2rW+wN0AF2sLHhXIX0Es4cb6RRI+rjj9NJ5gCPgCFwEAhgFXu4cGu+9Fe1FSH2hQgwecF+ovC6WI+AInBgBGQ+2vVlV+FbnidtiSvVXUxJ7WkfAEXAEliAgA8H5XvyE1JLiPO8REXBjcUSwvSpHwBEIZ5z8edXgFxMco/NEwLehzrNdnCtH4OIQkIEIL/LKnfO4/cXhsTeBfGWxtxZzfh2BHSIgAxE+p+OGYoeN17DsxmK/beecOwK7QEAGgjf3H8WGQn4OuDm7cNoJAm4sdtJQzqYjsEcEZBA40Obz/uk7SRgQPv3htBME/MxiJw3lbDoCe0OgWTnwlYf0Bd+HCuP9i0XfU9sbHnvn197g3rsczr8j4AicHwJ83YGtpt7n/xXG3xw47QiB/wMMdK2UPEqvpAAAAABJRU5ErkJggg==",
      "text/latex": [
       "$\\displaystyle y{\\left(t \\right)} = C_{1} + C_{2} t + \\frac{g t^{2} \\left(- \\mu \\cos{\\left(\\alpha \\right)} + \\sin{\\left(\\alpha \\right)}\\right)}{2}$"
      ],
      "text/plain": [
       "                      2                     \n",
       "                   g⋅t ⋅(-μ⋅cos(α) + sin(α))\n",
       "y(t) = C₁ + C₂⋅t + ─────────────────────────\n",
       "                               2            "
      ]
     },
     "execution_count": 53,
     "metadata": {},
     "output_type": "execute_result"
    }
   ],
   "source": [
    "dsol = sym.dsolve(eq, y(t))\n",
    "dsol"
   ]
  },
  {
   "cell_type": "markdown",
   "metadata": {
    "slideshow": {
     "slide_type": "subslide"
    }
   },
   "source": [
    "Da določimo $C_1$ in $C_2$, vstavimo $t=0\\,\\textrm{s}$:"
   ]
  },
  {
   "cell_type": "code",
   "execution_count": 54,
   "metadata": {},
   "outputs": [
    {
     "data": {
      "image/png": "iVBORw0KGgoAAAANSUhEUgAAABUAAAARCAYAAAAyhueAAAAACXBIWXMAAA7EAAAOxAGVKw4bAAABfElEQVQ4Ea2Uz1HCQBjFA1qA2oGWIHrPQTsASxAr0PGWG4MdSAlgB8BMKqADuXpzcvMYf2+T/Qcb4eA385Lvz9uX3W9306vrOtu1oijOyD2Ce1AF9SW1GbgiN+b9EtSce+q81oH4jPsKJmBE7ETxh2BKfgj0TpoThazZLYBmcRmK2ZHkPoBmL87K5nff/SCxxr8Bg5RgwNOHKzjbIBe5ZqYQtJRrEC03YvrgG3fuw33vhJSWItIW8ad9Spwpy/JH3DzPv+KKjzTTcRu++3S317Zm083IMolqJ2WdjW/K6Scf0QY/AB2xgVjaqAs5WGfjm3LzbEVMgK990HmWsGBMomp8BqEymT8ecLQq7YEx4g14I4gmJFGzbIqO3AxJPm8llKwESYnam2F7G5S9i5h4umUHrQ9ZUx+BKb76Exk5ezUn+AdbpMH28Ov6nRNLeMnbDla/F+SSPw5qSTOiqjBQQvbMJsnHJtXTf7de6n967FdYnU6MVncHdGZn4PMX+f96ceyFc/0AAAAASUVORK5CYII=",
      "text/latex": [
       "$\\displaystyle C_{1}$"
      ],
      "text/plain": [
       "C₁"
      ]
     },
     "execution_count": 54,
     "metadata": {},
     "output_type": "execute_result"
    }
   ],
   "source": [
    "dsol.args[1].subs(t, 0)"
   ]
  },
  {
   "cell_type": "markdown",
   "metadata": {},
   "source": [
    "Nato odvajamo po času in ponovno vstavimo $t=0\\,\\textrm{s}$:"
   ]
  },
  {
   "cell_type": "code",
   "execution_count": 55,
   "metadata": {},
   "outputs": [
    {
     "data": {
<<<<<<< HEAD
      "image/png": "iVBORw0KGgoAAAANSUhEUgAAABYAAAARCAYAAADZsVyDAAAACXBIWXMAAA7EAAAOxAGVKw4bAAABo0lEQVQ4EaWUP1LCUBCHRTyA4w3EG4D2FHoDqK0ETyBjl47BG8gRxBuoMxxA6Wxp6ZROO/y+kJd5gYRCdmaz/37Zt293k9pqtTrYpCRJjvH14Ct4GcVfiI3hBr4+chDFCupRwcIAfIe4h4dwFztPjN6BR/g7sLKS8sS8YJUT2GpO44ThbXzPsLcQ8xr8ZfIwcr6hn8OtsqQRzsOXYOaRb0tNKwbktZpw4epb6LXjC/FUEcvddTSvJXDOAbd5pEKZTqc/Ytvt9qICkrqtuJ8BHncBQyxr0yzYVdLETljaOYw1pPjkEAfuBkneXLrxcBOfpCbXy+ROYbKsanEj9HDjA3Rv/QGfuRUOQ2e+r9plBMbbhcqE9PBdRliXoIGvaeK0BRjxCxG2oF6Ai/trte8FRGbYCk/x87WaB7iUSChuGAfxjWMb3YPcrlmd9fmGP3GMkQvWyB7lBKiD/xrHEL2yXcT8DhK4RY7fWvgJEXDCaY+QIYH9nxDbuTHEbaODyz+wPDHOf1GW1O3omgBp5cu9EmdJrTT+fdrngcPbh5yHLdycS/8P+RChViyqodwAAAAASUVORK5CYII=",
=======
      "image/png": "iVBORw0KGgoAAAANSUhEUgAAABYAAAARCAYAAADZsVyDAAAACXBIWXMAAA7EAAAOxAGVKw4bAAABo0lEQVQ4EaWUTVLCQBCFQTwA5RHwBqB7qow3wCMInsCUu+xSeAM5gnADtSoHUHZu2bJTdrqL34uZqc6EgCVd9Wr6503PdPck7TzPW6EkSdLFNwaXYGPiT8RmoIdvwhqbWEU9rlgYkG9Z7kAKrrB9YvQReMAfgSloFJ+YDbrlHOg2F9jLcBe+BVAV4jyHcWsfGeMF/QwMtiU1PB2+gbMyvppa3BiSyuqDSuk19q/jg+WxIebdHTSVJeKKA258pEHJsuxL3OFwuG6gFG7deFISNJS9wuEaZq3/4UYlHpXORRjcZ3OIBq4XJFHlkmsdrsQnsjB2DkMcCbwucE9wiu4qVkxVv4FTvQoN40/CRlXnbqY9Y3yR2axH0MPXV+LiPWLYDYZbUc/h2f7qtq8VRmmoFTpFn69ucw+2CgnFS20Q38za6DpIr2vZ4fl8gnccM9Y1z0g98gIpwq8NKbrrrY87hZi+gwQMyPHddj8hAppw0SNWl0D9nxPb+fkSVxs1OP+B+cQ4/yVl0phVVbVKu3VQ4jKJbmp/nzog1vAOEc1DLQznMvkBVU+fLC6ZyboAAAAASUVORK5CYII=",
>>>>>>> 16604231710f2420575b5054f0257c77574b8c97
      "text/latex": [
       "$\\displaystyle C_{2}$"
      ],
      "text/plain": [
       "C₂"
      ]
     },
     "execution_count": 55,
     "metadata": {},
     "output_type": "execute_result"
    }
   ],
   "source": [
    "dsol.args[1].diff(t).subs(t, 0)"
   ]
  },
  {
   "cell_type": "markdown",
   "metadata": {
    "slideshow": {
     "slide_type": "subslide"
    }
   },
   "source": [
    "Glede na začetne pogoje smo torej določili konstante:"
   ]
  },
  {
   "cell_type": "code",
   "execution_count": 56,
   "metadata": {},
   "outputs": [],
   "source": [
    "zacetni_pogoji = {'C1': 0, 'C2': v0}"
   ]
  },
  {
   "cell_type": "markdown",
   "metadata": {},
   "source": [
    "Sledi rešitev:"
   ]
  },
  {
   "cell_type": "code",
   "execution_count": 57,
   "metadata": {},
   "outputs": [
    {
     "data": {
<<<<<<< HEAD
      "image/png": "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",
=======
      "image/png": "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",
>>>>>>> 16604231710f2420575b5054f0257c77574b8c97
      "text/latex": [
       "$\\displaystyle \\frac{g t^{2} \\left(- \\mu \\cos{\\left(\\alpha \\right)} + \\sin{\\left(\\alpha \\right)}\\right)}{2} + t v_{0}$"
      ],
      "text/plain": [
       "   2                            \n",
       "g⋅t ⋅(-μ⋅cos(α) + sin(α))       \n",
       "───────────────────────── + t⋅v₀\n",
       "            2                   "
      ]
     },
     "execution_count": 57,
     "metadata": {},
     "output_type": "execute_result"
    }
   ],
   "source": [
    "resitev = dsol.args[1].subs(zacetni_pogoji)\n",
    "resitev"
   ]
  },
  {
   "cell_type": "markdown",
   "metadata": {
    "slideshow": {
     "slide_type": "subslide"
    }
   },
   "source": [
    "Pripravimo si funkciji za numerični klic:"
   ]
  },
  {
   "cell_type": "code",
   "execution_count": 58,
   "metadata": {},
   "outputs": [
    {
     "name": "stdout",
     "output_type": "stream",
     "text": [
      "Pomik pri 0s: 0m\n",
      "Hitrost pri 0s: 1m/s\n"
     ]
    }
   ],
   "source": [
    "podatki = {mu: 0.3, alpha: 15*np.pi/180, v0: 1., g: 9.81} #tukaj uporabimo np.pi, da imamo numerično vrednost\n",
    "\n",
    "pomik = sym.lambdify(t, resitev.subs(podatki), 'numpy')\n",
    "hitrost = sym.lambdify(t, resitev.diff(t).subs(podatki), 'numpy')\n",
    "\n",
    "print('Pomik pri 0s: {:g}m'.format(pomik(0)))\n",
    "print('Hitrost pri 0s: {:g}m/s'.format(hitrost(0)))"
   ]
  },
  {
   "cell_type": "markdown",
   "metadata": {
    "slideshow": {
     "slide_type": "subslide"
    }
   },
   "source": [
    "Pripravimo prikaz:"
   ]
  },
  {
   "cell_type": "code",
   "execution_count": 59,
   "metadata": {},
   "outputs": [],
   "source": [
    "cas = np.linspace(0, 4, 100)\n",
    "cas2 = np.linspace(0, 4, 5)"
   ]
  },
  {
   "cell_type": "code",
   "execution_count": 60,
   "metadata": {},
   "outputs": [],
   "source": [
    "def slika():\n",
    "    plt.plot(cas, pomik(cas), 'C0', label='Pomik [m]')\n",
    "    plt.plot(cas, hitrost(cas), 'C1', label='Hitrost [m/s]')\n",
    "    plt.plot(cas2, pomik(cas2), 'C0o', label='Pomik - velik korak[m]')\n",
    "    plt.plot(cas2, hitrost(cas2), 'C1o', label='Hitrost - velik korak [m/s]')\n",
    "    plt.xlabel('Čas [s]')\n",
    "    plt.ylabel('Pomik [m] / Hitrost [m/s]')\n",
    "    plt.legend(loc=(1.01, 0));\n",
    "    plt.show()"
   ]
  },
  {
   "cell_type": "code",
   "execution_count": 61,
   "metadata": {
    "slideshow": {
     "slide_type": "subslide"
    }
   },
   "outputs": [
    {
     "data": {
<<<<<<< HEAD
      "image/png": "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",
=======
      "image/png": "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",
>>>>>>> 16604231710f2420575b5054f0257c77574b8c97
      "text/plain": [
       "<Figure size 640x480 with 1 Axes>"
      ]
     },
     "metadata": {},
     "output_type": "display_data"
    }
   ],
   "source": [
    "slika()"
   ]
  },
  {
   "cell_type": "markdown",
   "metadata": {
    "slideshow": {
     "slide_type": "subslide"
    }
   },
   "source": [
    "#### Simbolno preoblikovanje diferencialne enačbe v sistem diferencialnih enačb prvega reda"
   ]
  },
  {
   "cell_type": "markdown",
   "metadata": {},
   "source": [
    "Spomnimo se izvorne diferencialne enačbe:"
   ]
  },
  {
   "cell_type": "code",
   "execution_count": 62,
   "metadata": {},
   "outputs": [
    {
     "data": {
<<<<<<< HEAD
      "image/png": "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",
=======
      "image/png": "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",
>>>>>>> 16604231710f2420575b5054f0257c77574b8c97
      "text/latex": [
       "$\\displaystyle m \\frac{d^{2}}{d t^{2}} y{\\left(t \\right)} = - g m \\mu \\cos{\\left(\\alpha \\right)} + g m \\sin{\\left(\\alpha \\right)}$"
      ],
      "text/plain": [
       "    2                                   \n",
       "   d                                    \n",
       "m⋅───(y(t)) = -g⋅m⋅μ⋅cos(α) + g⋅m⋅sin(α)\n",
       "    2                                   \n",
       "  dt                                    "
      ]
     },
     "execution_count": 62,
     "metadata": {},
     "output_type": "execute_result"
    }
   ],
   "source": [
    "eq"
   ]
  },
  {
   "cell_type": "markdown",
   "metadata": {
    "slideshow": {
     "slide_type": "subslide"
    }
   },
   "source": [
    "Definirajmo nove spremenljivke in pripravimo funkcijo $f$:"
   ]
  },
  {
   "cell_type": "code",
   "execution_count": 63,
   "metadata": {},
   "outputs": [
    {
     "data": {
<<<<<<< HEAD
      "image/png": "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",
=======
      "image/png": "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",
>>>>>>> 16604231710f2420575b5054f0257c77574b8c97
      "text/latex": [
       "$\\displaystyle g \\left(- \\mu \\cos{\\left(\\alpha \\right)} + \\sin{\\left(\\alpha \\right)}\\right)$"
      ],
      "text/plain": [
       "g⋅(-μ⋅cos(α) + sin(α))"
      ]
     },
     "execution_count": 63,
     "metadata": {},
     "output_type": "execute_result"
    }
   ],
   "source": [
    "y0 = sym.Function('y0')\n",
    "y1 = sym.Function('y1')\n",
    "f = sym.simplify(eq.args[1]/m)\n",
    "f"
   ]
  },
  {
   "cell_type": "markdown",
   "metadata": {
    "slideshow": {
     "slide_type": "subslide"
    }
   },
   "source": [
    "Povežimo sedaj nove spremenljivke.\n",
    "\n",
    "$d y_0/dt$ naj bo enako $y_1$:"
   ]
  },
  {
   "cell_type": "code",
   "execution_count": 64,
   "metadata": {},
   "outputs": [
    {
     "data": {
<<<<<<< HEAD
      "image/png": "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",
=======
      "image/png": "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",
>>>>>>> 16604231710f2420575b5054f0257c77574b8c97
      "text/latex": [
       "$\\displaystyle \\frac{d}{d t} y_{0}{\\left(t \\right)} = y_{1}{\\left(t \\right)}$"
      ],
      "text/plain": [
       "d                \n",
       "──(y₀(t)) = y₁(t)\n",
       "dt               "
      ]
     },
     "execution_count": 64,
     "metadata": {},
     "output_type": "execute_result"
    }
   ],
   "source": [
    "eq1 = sym.Eq(y0(t).diff(t), y1(t))\n",
    "eq1"
   ]
  },
  {
   "cell_type": "markdown",
   "metadata": {
    "slideshow": {
     "slide_type": "-"
    }
   },
   "source": [
    "Odvod $d y_1/dt$ (v bistvu je to $y''$) naj bo enak funkciji $f$:"
   ]
  },
  {
   "cell_type": "code",
   "execution_count": 65,
   "metadata": {},
   "outputs": [
    {
     "data": {
<<<<<<< HEAD
      "image/png": "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",
=======
      "image/png": "iVBORw0KGgoAAAANSUhEUgAAASkAAAArCAYAAAAkJn49AAAACXBIWXMAAA7EAAAOxAGVKw4bAAAMvUlEQVR4Ae2d7ZEcNRCG11cXwGEiwGRgIAJMBgYiADIwxS/735WdgbkI/JEBEIE/MjBEYHMZmPfRSjqNVjPS7Izudk13lU4zaqnVeiW1WprZuVsfP37ctNKjR4/uKu+Fwh2F57r/pbWs5TMEDAFDYB8ETucUklF6q/xfKcay/TGnrOU1BAwBQ2AfBE7mFpKBuufL/Dm3rOU3BAwBQ2AuArONlCr4TuFvGavLuZVZfkPAEDAE5iKwj5HCkzIvai7Slt8QMAT2QmDyTEreEgfkjxX+VnivgHHi8PxcwcgQMAQMge4IjBopf/b0QhpwUI6R2igOh+XmSXXvGqvAEDAEQKC43ZMxOhMPA/VrMFBkFmGs3irNzqMcHPbHEDAEeiNQNFKqlC3emYzR75kCdh6VAWK3hoAh0BeBMSP1g6odbOm8d8UZVdjy9dXMpBsChoAhIAR2jJQ3Rmz3cmOE4dqIPzBepBkZAoaAIdALgR0jlVTkDsuTe96P4o1zDNV9BbwqI0PAEDAEuiKwY6RkfDgUx1uKRgijpHtePXitAH2ntNyIbTnX+LfVULbmu0bVV6vqU27bGiAtxWdp+TXacCgy1sCiJqPE3zFSHpDvFX+jAg8UwntSeFK3SVP81Oe7scjrgeFsoTs+f0veo8kzE4Ojaddaiq6Ezyc5duZivBKWVFvDc4d/a85XEOY2rFd+AYZnhxH9tbUOD/Kl4vyJZauIg8q3DwYH1YDOyqyJz6GPHenHrueNAq8MrT6+18SSbpc8HJ3RuZjzj85IqQEc6v+l+CsanJPn02E7W1LxSP9W8VG/5+XbOIpBjsn/7b4HPoc8dqQbrwbxoOt3Xa/6+aQeWDIeJXdyLqb8se0ecg6V2H5ObTfpMFaWD4UGUI7yx041DI69fUv174HP4rGjiXdP4eeljcvLSyZnyJ8pXtVA+Xp6YInoGp6Rf4xG6gd1xpRLO/qVBl+O8nhjx0w1DI65bWvovjo+K40dxl2XsSf9eu0OVseSDq7hmfKPykhJcc6iak8V8aReAsQIUd698zXCP+jkRgwOug09leuMz1GPnbm4d8YSdWp4Ov7pXMVb86uBrBi4tl8qvNF99H4870IxTxHnEF7SzsukkoNhwtWlTrZ6d5XGbw9fKX6iOCXKIyfqkzKv+1r6uYcAqve9rxsDy7ZgTL8iBmvqrbrBkD77LJWre3AG2xzTmE08+oAtQrqy0w9x4UjyvPMFGSMvlB77Vtc8uaU+5CAT+lHpxbPILdv9bcJHctAxEO09V5p7DzAkFuIbGTtTWIiH7ox14j917+aUL3Ph058rpr2MNegbhdLccMzkT08sqaaGp+N3M1JS4DcBxdMGgAGsdNLhyQTAdNlMXysne9UBqQ4aQwchkwkOuGPExGDwV0lyqKspbyKMH2A3GV/lY+Cgr5t4ihloHCjyPlqKl24jFTGI3HUuMPilMz30RbciJfr/pGtnlBSDHwaIDyWCDcaHSTV4sKH0P+ApPFFwhk7xoB9133LmMomPZIAxh8y/6Jpxs1FMff8odl/8UEwedImGlXyi5rGzzb78r9ftseIiFkrH20Bvxk0k3WNwSUfn2wpxcVEafcAi9FKB8mPUE0vqrOHp+F2MlAfhlW854OYDnjQ3QHye1ojBlMtKyyKXzpkiyjMIq6R2tEyKqpxSBsnGoPIoNnorDBgF2sgkGqMaBmPl5qRjWAb94/VicJ9PCML40IZ0cqMvdLmNnIEqTQ5eJ2HiUC+T6mvqVAjlKL6zQJGYUQ0fJjNeU2wfdShgfNGBPqdvSotE89hR+bUIQ9GCxdi8wAixEMaFU9csFuhHP5faCQ/qiSXya3g6fhcjpcrdqokWIrymfGADTkwTYIBBPla3KXeewZsOWt0OCLnpBBkw/Q2dRn03TXiXTNbYHl1jBKCpNoxi4HH8S+XntO97lXvrar36gx6xf3wy2EJxcm9vt3993ZQbbAWVTltce3QNnwUiLGC63BI6KHDDlg4PnAH6r2Lqw2iD1UC20ko0hQ9GDsNXksO4wCBAnytP7JdtkvvbNHZUdswDR7eN+BjCnIoeuPKyQ9gXi1DH63CRxbVx0hNLVKnh6finAqD9f1plLcxvJesWaYpdBytmYANEtNZKY6CS5ga7vw8ToAaaipVJcijLBJjyQig8CjzM66AEg2dZfeDAqk7nzCaVu1ShKSNflSkZoS9yY4SXyuJDHSUK3mk4W5vKMyaDMowPiHb8poBXwzaTLc/S94BYCPN2KckROvG2M3XlBnqbo3HsSEbJCG2UTluoo2QkQx2luAcWpXrmpC3Fkrpqc9HxMVLOsMzRbkZeXExWiHRQhonoVm/xiMlDB9aIFeVsJJObXJITB6Gu8+0CRSmPnCqp/NiKOFW2uCJmBcKK7TBIeC3b4CkMElF7X44ZI/ANHlEJ12BYOQQfo5BnrA8phyHE4H1QzPbL/apA1zyEeUqfKOS4iRWpiI/KUCdhahGDz4HyZZQ2vICP/Gsj6bIEi6V69sQS3Wp4Ov7p0lZUygNwGJgha8tEDHnzGFlhxc55yI2DV52L0SN/TPMFsM65Tp41jCSjuCIOc+1/J/lRD13TIRiCWp1TGOyvzFVJdBhgJt3AnBAmOB6OMx6KHSkPHiDlggH2nMjnyxlhe0tfOYMXMolHvRDnWnhT1Bc9DvHxoiiH/IF+uk+piI/Kol+ar3RNnoFeWabmsZOVW3K7BIsl9VK2J5bIr+Hp+Cfk7EhxElKHBgADkRAGO8lziMHJ49MSxQarHiY8bnVpMOM6l9JLMnulPUew9GMiBrrwF44XEgvxFAaF7O1JHjcmBSGlYJCCl8NTlxLhOYP74K1q3bOFCph/q2teEMzrIA9P9oInzNNh+jEl7gM/TU+vp/Dh2AFDNyDVg77IdvUVdAv5b2rstGKR44XezIt9qSeW6FTD0/FP99W+sRyDm/ehGICcVYStQG2gjYl/JgYrbYmoi62AmyCK4yqcZcZI1ryVrMi6t9KNFZvJwjkLh8ifK3xQmDrzEdvRFAYhz75x8II4rAVndNvomgcaGCZwe6/rIrZKR/8vlId2sVUOxox+cQuWYrbDDD4Oxy8VQxhr7sO4IB2D8rPSFDkCI+QOFj7PS6NRfFSWdiCD8Rh0Y2LjpRE2nsdYDUY1lX0TY2cSC+mLscezdX2ne/rtJwUwJR0+4430cwXSw/jH+PFD/fjkT7yUemJJPTU8t3y+gnBd4eHDh48V3pTqU/p9hXclXppGHoW7aVrrtcrdaamjVd6a+aTXG4WnLTJpg8JeGEzJp36FYv9MlTs0Xg98JHPx2JEMxviDQ8NrSp8eWFJfDc+Uf5qazfxaFhYrzDYE6/tc98EC51l37pWX1eqeYlbNjWJWLLwcrPwSQi56NOuSVIa3RfkbI+EQVj5eeGSVBBvSCK3YLMGAKseIlWvqTGas3KGl98BnjbFDf7s+PzTAJvTpgSXV1fCM/JMJ5Zg8wTXHwAzOkcQ7U3ingAEr0X0lPksYGDtc6kWTQOXZBnDuMVZvUuXVpc9Pufg6xBX3Wq9wwTEGjqQP2IIN253SFmObMfnr2zAbg0TEzqXXA0wH/byT8QgS1sZH8sBl8diRHLbRNz3+ZvXg2lhSuWRO4pnzJz0pLzBMqHBeEBpJOpVxllIiLOFtVfhAMWdRnEvkMjZeIbwiJ0/3WO7Rcw/xIPbQ7LE512klzkj28b5a5bfmQw+I8xbOWTBS6XkMvBbaB4MpueE86vVUpiPirYnPoYydm4J/TSxpQw3PIX9qP+r3jpwj7ZwVKY3zi530mry1+H7P2rS/V94H5F+r7kORMweDms6SdaZwr5bvmPhr4CMZn+TYmduPa2BJnTU8S/zqlzm12vNbp9eKB16I7nk6wnsveExGhoAhYAh0QWCw3ZPBYfvGdovHvDyGZXvGge65wkZ8tmQYK7Yo5OWX1Wy7Wj77oGxGhoAhYAjMQyB6Ut4AYXDc5yoQozQOUTFMfJr0kjRI1xyK8/mNnj+pcXXZH0PAEPh/I3BC82Vs8IwwUBzgpi/Lcc0TvmigdA9xYN30JMrltj+GgCFgCOyJgDNSKssWj1cK8sejeFE7T+SUNpYulpEhYAgYAushEIzUzmcXvHfFudPgvZmx9PVUMkmGgCFgCFwhcOKNDtu9gTHSPYZrI37uSeFFDdK9DJKNDAFDwBBYFYHgSSE0PYviPp47yQjxmQ28KiimcwNPUeCRZGQIGAKGwGoI4ElxKI63FA2NNzy8ehDePk4/mn9b6c6gKR8eGD8XsEN0AWFkCBgC6yPgXkHwxuZC4l8p8FMNfnOH8eJAnTR+c+QMkWKMGa+t8zRwo/v8sJ1kI0PAEDAEVkHgPwWKoW9Tx76IAAAAAElFTkSuQmCC",
>>>>>>> 16604231710f2420575b5054f0257c77574b8c97
      "text/latex": [
       "$\\displaystyle \\frac{d}{d t} y_{1}{\\left(t \\right)} = g \\left(- \\mu \\cos{\\left(\\alpha \\right)} + \\sin{\\left(\\alpha \\right)}\\right)$"
      ],
      "text/plain": [
       "d                                 \n",
       "──(y₁(t)) = g⋅(-μ⋅cos(α) + sin(α))\n",
       "dt                                "
      ]
     },
     "execution_count": 65,
     "metadata": {},
     "output_type": "execute_result"
    }
   ],
   "source": [
    "eq2 = sym.Eq(y1(t).diff(t), f)\n",
    "eq2"
   ]
  },
  {
   "cell_type": "markdown",
   "metadata": {
    "slideshow": {
     "slide_type": "subslide"
    }
   },
   "source": [
    "Zgornje izraze zapišemo v vektorski obliki:\n",
    "$$\\mathbf{y}'=\\mathbf{f}(t, \\mathbf{y}).$$"
   ]
  },
  {
   "cell_type": "code",
   "execution_count": 66,
   "metadata": {},
   "outputs": [
    {
     "data": {
<<<<<<< HEAD
      "image/png": "iVBORw0KGgoAAAANSUhEUgAAALAAAAAzCAYAAAA3k4IoAAAACXBIWXMAAA7EAAAOxAGVKw4bAAAIEUlEQVR4Ae2c7XXUOBSGJ5wUsAc6yHYASwULHRDoADpYTn4l/3KgA0gFCXQAHQTSAXTAZjrYfR+P5MgaWZY/xnHIvedo9GHpSn79+vpK8njv+Pj4j1VCTk5O1oliKzIEbgUB8THJ0wcazXeF6yi8u5VRWqeGQDsCn3Qo5umnPVngHzrwRgz/2t7WjhgCy0JAfH2tER3uTzksKX0sfWcKBwoXyr+ZUr/p2iBgON8wYWoCX0n1EwH8n+IvN91YakoEhK/h7ADFB55UBO4zp9BckkmRbSoznDd4TE5gqX2u8FMA2ypGk3NT5wxnIboLAmOBzfpOTddtfYazMBnlA8vKMll7q4C1/aUAcZnInSqYTISA4dwO5GACOx+MtTkmbT/pQrGfuJkFbse81xHDOQ/XIBdCoLIrAnnfKl2R13VD+kpl5v86QMZEhnM3eoMILLXs1EHii6gL88siQEZmDecOAIcS+KX0fg0trbMW+MTejejo2g4XIGA4d4DUm8COqFhfFtNDAeyVjpv/G6IyMG04lwHXm8CB2ssgTfJQoSK1wH+hgDU2GY+A4ZzBsDeBRUwmaBC1JqjKeLGC/DcF5KnKwsndpnRBv6U3WGm9qU9N/f4WOINLKYal9UKsexPYNf5bMST9R4GJBsRlZ+ghZYrPFRYrboysV5fIgatfUnfqOncaZ8DYNdb37nVKAfpCuHLzsQFTJO4isD3+uaiBVaoQ2CXW0l29TjnUAt/JS6STZvJ5pDhJXo4r/FCo3SNOVPn3rh3tTQoQEGazYH2vCCzccXc+ZPBnHRuXIeW/0472JmUIzIL1fSPwS5HzYwZ//Ph4ebCq7trR3qxwBsDg0CxY3xsCi3hY15RlDTBfde0k0r5a7w4bWbqJwJxY7ze7vp2cThiHnL8fsTKwVjhVGX7nSjHvXDDxgjy8ezF0IsU69dYmi/RBWvrGsuL7PnZ9XiquxqAyL7THSuesuK+7uFjnMwfOnPdsWC+FwBDiowDmD6a8DFQTR+lDhe8KT0BmhPyltlv+r/RCSrbFuUmeKYagbcL4IPydFJ3bHDiDzWxYL4LAARuqiZKAZjUAS7xSnHy/WOV+QsV7yI+UT64sBLqxsP8G+TjZ6v8GFWmPnrsufXDmfHGb+Od6qRGZDetOAmvQ/EFzEpGuvQ5FWAiIyaPOW+FXMTmVp84vxd7NwHJ+UchZz4dqs1ZoEyxrl3uCG4ObsRPR+OfCuhRnjId/4vS5cWfDuoTAXaSb7GLqAq4VAPdI4b3SgIaFjQWCs0tVierhAkDgtiUwXzUZu34gZtebdF0XJqm/tFDjmAVr9VOEs+qxIoNLh3s1iUgX13QyrB9MMqpplWBdcSEADaJC6FpUzskDwrou3CTIYzHaBOtJu5Tgs62ku57kKZ2qS1nODUnpXmpZFueRg54N68URWMTh5CESVhjfFmKG4okVE4k8FrJNOA75U9Lwf9UnN09KF2WMb0taCL9VbykFBTiPGepOsQ4HtjgCu8ExycCanoeD7UhDLk/uVNUrFT5NHVAZxK6I6YjY5oowidlyM1yba8V8Z+4uyRCcS85vZ1jHnS+SwCICkyn8WoCIxVvk2EJC3qR1dAogHjdFSljBwG3BZWEHyU8g47rJiZ7qMyb6RkfuJor13WpeY83hPGZsO8M6HlTnJC5uEOYFAIQ4U8CCTfYtNKcX67AlOuY/mpIiSorwlQ6144ZYKbBR0ainPOTLrWDQjnMkTt4kKv9TYbLJTjXo4Ee6J8fa6UziHHTdOym9O8U6HNBYAkOE5LfQdBIQjEfqc6WTF90PxAHJOqP/GODW0pmv62ImdljDiohqV6W7+lF9Ji704ftRsliw0rTPCa9pdi3F5dq3HpPe0VhLBzdBH5xbx1NwYNdYV0MY7UIIFMiD1DP4TbYiWJsv6arU0Sul/H/qADn+G01dkYT6hExM8N4p8AI9W5f1sprSSVFdiM+YKmuarJQodPVp11gRCavqGDdsaskvrDYqrT7GYt0XZ84ZIh4pkP6gAN6dono7wzrsfD/MDEzz6PWP9VBFY2YfHkikT1WG/wg4a3fyiWo3RaoDiYcIZOf9iqzLECnmMUu7nOR851y7PsfGYt0LZ2HMk3MozpzXrrCuMZuCwFiF2PrSAeVFj1MBtVbdIY91+ukl9KXAY/S1QqtF9UqppzT1GWOrlOhqbVx+YBTW7hxmwZlToj+FybEO4er1lyINhkcvdyQXk8clxMXP5YWbzwoADEA8Tj3Y1E292aVikzYEDOs2ZDblwgfDUv6FdkdOHr1M2qpJmWK/JlpZYOWJmYEyG3+muM9jWk1MQEC4cfMb1gV0KJrECVAsKoCWfgutj/9bMMz7U8Ww7netiwgslcxEIfFFpN67CVFx7T7E5ZbvRsCw7saorlFKYJa4cA3wZytxluJAGe9GZMs3rey3AAHDugAkX6WTwI6oWN/G7pXyAL3S8XgFovTNLpqbBAgY1gEYhclOAgd6LoM0Sdb4/E5Y+C20hv+ri9L2ZlekzrIBAoZ1AEYu2UlgERC3AaLiLlSiMpYwyH/blDS+hUa5X6XAcrODk91KdjrufWRY96fAfmETtmnPBDA7ZY8UzhWwtH4rl7wX1onZcoTkK8Vtb3b5+hY3ETCsm3hkc702MrKa7KAhMCMCzkAedroQM47JujIEeiNgBO4NmTVYEgJG4CVdDRtLbwT8JI6VAlYMalGe1QcTQ2ARCMT81KAqvnoLzPuu10FgO9PEEFgSAryLs8XR/wGgj/LJKe53UgAAAABJRU5ErkJggg==",
=======
      "image/png": "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",
>>>>>>> 16604231710f2420575b5054f0257c77574b8c97
      "text/latex": [
       "$\\displaystyle \\left[ \\frac{d}{d t} y_{0}{\\left(t \\right)}, \\  \\frac{d}{d t} y_{1}{\\left(t \\right)}\\right]$"
      ],
      "text/plain": [
       "⎡d          d        ⎤\n",
       "⎢──(y₀(t)), ──(y₁(t))⎥\n",
       "⎣dt         dt       ⎦"
      ]
     },
     "execution_count": 66,
     "metadata": {},
     "output_type": "execute_result"
    }
   ],
   "source": [
    "y_odvod = [y0(t).diff(t), y1(t).diff(t)]\n",
    "y_odvod"
   ]
  },
  {
   "cell_type": "code",
   "execution_count": 67,
   "metadata": {},
   "outputs": [
    {
     "data": {
<<<<<<< HEAD
      "image/png": "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",
=======
      "image/png": "iVBORw0KGgoAAAANSUhEUgAAARIAAAAVCAYAAACKRWEvAAAACXBIWXMAAA7EAAAOxAGVKw4bAAAJsElEQVR4AeWc7XEUORCGF5cDABPBmQz4iOAgA8NFAGQAxS/4R5kMgAgMZAAXATYZmIsAzhlw7yOrB82svmZXWu/WdZUsjbrVar1qtTTagcXLly+fKZ37dPvXr1+L3kl9Hdb0UStXo2sTMrtm7yYwCftYF59124e27Hq5BRYlHTm+eKO4sbdYLG4qPX316tUtpW8qdyX18Uwd3K7s5NDLV4pfndjMcV2doVfUcyN8dsYfesLcCEtMLOGZ5MuGN0q3pOOT0gGBZGOkjo/U2U3ldF4kyX1BSPmTovAVCsi+WeO6QlOvpOtW+EjP1vuDbGTx/avUxWelt5mvSVcWzxI/dKaNBRIZdV0dv1D+PDTAyvCVzpUOrY5cz2+UcWKi/daRtys5rq0zeMMGtcZn2/1B8OK/+Oqd1lC3xhL7SniW+DbGjQUSdXis9NY6juT3Vcck/IzwaEf7baTSuLbR5k3a1AOftf1BC+S+UvNTg3Syy99Q/rQDyD2wxMwSniX+YpOB5JHAfZcB94F43yVzMZXx7Wi/jaeS0rimw/m/PTfHp5E/4Etd/Cnmw40mvTmW2FXCs8RHx0YCiQzhve47HWaIE0nu7oT2jzLtN86qHNfG7dqWDjvjs3X+0BP3zlhiegnPLH8/NngZTaTm2Met7Jmeh5OE571X/jDWNlHHacNd7IR86SB4cASkP15rbqvuo/KvyrkbCYn26BlsCZktyuqTgHdP6YfXR2DjCJzqMzou37ZJpr7BhTm4ESrUM9iB1xSnQUw8cOU4fDFUXmI7BOxA5tzLMOcfVT/Ml8r8ykZ/6EEn9JfqS/cAVfhIDzYaMd7Xqiv9gtjdH8ygMM9hIR6247/kX/Ts1ohv897Xf1DOePE1CH+L+btjBn96Ykk3JTyz/GggkVJ3eSgAGCwAhAuJU4GBoGIV3ZUU71kjkn6MA3D0sWABK0U4Os7chdQ3k4sNbnEoxxnOlE6VwvHrcaDouAZumwKBNnZvhL3YFqXA/scqu8ChHPwIErxCflMiQOD4D6gzRSp/hqfET3wuGCkfzY2ea+4AsvhIBxh/VuIyHV9YKKe/f5TfUcJOZLBlCH7Iibr6w2UX47+yIYsF9qoFduM3A+mZoEg9Nh8oDRuA6pgDNopPSsMcqG5KPbGkrxKeWf7e1Fo/sK++HueZOvEoMkqeX1ueKI3Am+hlAqZ6QhF0AnaOaI9TNSfZTiDj+5Y/TbnqmFTsxtFTVBpXqt2ceha/W2TWSLbRLw6Ys40AwUIMFyDtoIvLzAWRmAPzy9qx2tIHDnzX9+mbuWxpYwiZvlzCB595K93D+FTGNgKk/brH3Ax8lY26+YN1EMlrsUj5Oj7FZjXMicrm96VNsieWDLWEZ5a/HwHL7Va+ntPH64kMA3Z1AgFHMwAYaIoOxMBBUoSOAdyEkC3sBHutak5dLKjBRj82lObsSo5L7cHjb6UcLugP6aHamWNZPRjH5gB+bIEtfN+0G732qJ6xuPGoDJ/AbJuGipckHqcVHnh9ea6EE/FtBP0RvMBqpFt1McrhQyBiE4rpYa5ZtBDfHQ3zclnl/lb5g9rSj/lo0NydDBbix05WjH/p1V11nJ5XxcL6PrXCJC/5SU8sMaWEZ5a/PxnMQkC5SVMO+AxuONarDuejzjmwnnF6QGfXWInUFn04dG53RXcSSJirUjCmk4kOxn8hPgDOJrUDx9IdQlavdNgCmAYMTnAEfPqIkZ3cfsSYvs5kUjoQY74hxvFCiXnmlYrTyjul2CIUu4rYpKbjsobYxIdd9DUNoiZT5Q8pG1XPWOgjFsisj1jeA4tYP3Pq1sWSvkp4Zvl7GWuJyASJ0NFscU13zYwaxyKKX08IucWifganUjkmSx16WpPtfNMxjV7hEp3mxpVoMqs6FTDAzE4WMaws+HFxmiKTibW3NnZHsdCccDLhn1FcE5MA8kRlCzQmP82j+KgdfZJymwd8LiEvpkr9M/we/pDozt3fuOArm1bBIqm3ktETS0wo4Znl5wIJoJmz2VhrFpfJhjl63CSElb6Mzm9Wr0lyO4U9BzkRcWqPY3vHDETnF6Vj0O31sVhzjk4nuXHNN2K5BTYM2MCWbeBIMts4KYxIMiw+2lmQnPKPJAMfOfAfkXguuKuSexaCxejDLfE5pRLIovpVbxTFx9tnMqmc06ALlgmBpD8k5FtUr4PFuv33xBLbSnhm+XuZ0Q0LCxlNKs5Vs7hiKnFafuaK0WCg+iDqcdwcLR7fiCPlUr1vw/t77rI31q/VfaCg9mGge++ZjmeCkTw3roh4fZUfF45LCskuIe20wG16jDhRguU0CPC6YDhyucxHTtM+kOEXGzsl8isecxMSz8YP68NyDh+CUSyIYS+6XX8R20x/1B+M2TGvxWKKFybh66tSTyyxqYRnlr+fGRUOy/ciOBXv2nZMLjlPTOWJKtndYkQ/3Nw7h1eeemcliC29k0ve7jG4uCNdxDpJ1fn2ODTv/Vw83lT6qZS7gxDbUW5cJrNqbrs9F3xgh20LlfmplOABFj9UjuKleuz/QzKMiwtHCzhg7TYJ5by64iAc1Q03AirPNs/Us+h5lVHmCIzQO9psPC/MkvioLeNAB/5ltrH4uHshLTwP37PAF+qO+kMo0KGcxUL2EpA5Ibq50zPz9lgJTKmHj79Sz90P9ebTBKh7SkuXvJKBemKJ/hKeeb7+X4Fjpful/5/By53F5MQ7UjqP8awOvtJK/9+J2h1W6MeG69bfOrn0nCm9rdGBXUorjSunn/6Vonjn2m0brwc+0ln0hxIO0oG/PCvJbRO/B5aMr4Rnji+eix97hKIpKSqyUwyvCiqzU3BiIIquSuw8Fn3n6uDUQvscEc3ZMapJ8nwYxAdajM8RdSqQ2MVraJ1x5fSzA9ipICe37bwe+NT4QwkXfGWWv5QUboDfA0vMLuFZ4if/rc2RlJ8EwHBnwHFzdPmlZ/uJjmObK6uOD7uWSPUcj5HhOFdNXp52tI+SeAQCjsBzCbtZsI68HsbK0T52nPaSvzNv1+xx/dawXPJ2gJNdqC4L7UhNa3ykD1yy/lADjfTwypj0qRodm5ZpjSX2S2cWzxLfMNi3wiQnAh1ICUGBuxHeq5d2R9XxjoxsLfH+x/vh0iVbRgEng9JJhvf36F1BRi8sO3XQnvd+AlJ4P4BMDa0yrpxeux85zQntEK8lPjX+sEPQzDa1JZZ0XsKzxHcDuMY7jkqcQKDYl5WXnEZ/tWCJgPz8WFz4kiGQxT7hbmRNOzVzxlXqVboIaHyWvhS8S223ld8CH+nYGX/oOQ8tsMS+Ep45vuexwR8oPfwP7yBIWhhu708AAAAASUVORK5CYII=",
>>>>>>> 16604231710f2420575b5054f0257c77574b8c97
      "text/latex": [
       "$\\displaystyle \\left[ y_{1}{\\left(t \\right)}, \\  g \\left(- \\mu \\cos{\\left(\\alpha \\right)} + \\sin{\\left(\\alpha \\right)}\\right)\\right]$"
      ],
      "text/plain": [
       "[y₁(t), g⋅(-μ⋅cos(α) + sin(α))]"
      ]
     },
     "execution_count": 67,
     "metadata": {},
     "output_type": "execute_result"
    }
   ],
   "source": [
    "f_vec = [y1(t), f]\n",
    "f_vec"
   ]
  },
  {
   "cell_type": "markdown",
   "metadata": {
    "slideshow": {
     "slide_type": "subslide"
    }
   },
   "source": [
    "Spomnimo se sedaj ``f_vec``:"
   ]
  },
  {
   "cell_type": "code",
   "execution_count": 68,
   "metadata": {},
   "outputs": [
    {
     "data": {
<<<<<<< HEAD
      "image/png": "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",
=======
      "image/png": "iVBORw0KGgoAAAANSUhEUgAAARIAAAAVCAYAAACKRWEvAAAACXBIWXMAAA7EAAAOxAGVKw4bAAAJsElEQVR4AeWc7XEUORCGF5cDABPBmQz4iOAgA8NFAGQAxS/4R5kMgAgMZAAXATYZmIsAzhlw7yOrB82svmZXWu/WdZUsjbrVar1qtTTagcXLly+fKZ37dPvXr1+L3kl9Hdb0UStXo2sTMrtm7yYwCftYF59124e27Hq5BRYlHTm+eKO4sbdYLG4qPX316tUtpW8qdyX18Uwd3K7s5NDLV4pfndjMcV2doVfUcyN8dsYfesLcCEtMLOGZ5MuGN0q3pOOT0gGBZGOkjo/U2U3ldF4kyX1BSPmTovAVCsi+WeO6QlOvpOtW+EjP1vuDbGTx/avUxWelt5mvSVcWzxI/dKaNBRIZdV0dv1D+PDTAyvCVzpUOrY5cz2+UcWKi/daRtys5rq0zeMMGtcZn2/1B8OK/+Oqd1lC3xhL7SniW+DbGjQUSdXis9NY6juT3Vcck/IzwaEf7baTSuLbR5k3a1AOftf1BC+S+UvNTg3Syy99Q/rQDyD2wxMwSniX+YpOB5JHAfZcB94F43yVzMZXx7Wi/jaeS0rimw/m/PTfHp5E/4Etd/Cnmw40mvTmW2FXCs8RHx0YCiQzhve47HWaIE0nu7oT2jzLtN86qHNfG7dqWDjvjs3X+0BP3zlhiegnPLH8/NngZTaTm2Met7Jmeh5OE571X/jDWNlHHacNd7IR86SB4cASkP15rbqvuo/KvyrkbCYn26BlsCZktyuqTgHdP6YfXR2DjCJzqMzou37ZJpr7BhTm4ESrUM9iB1xSnQUw8cOU4fDFUXmI7BOxA5tzLMOcfVT/Ml8r8ykZ/6EEn9JfqS/cAVfhIDzYaMd7Xqiv9gtjdH8ygMM9hIR6247/kX/Ts1ohv897Xf1DOePE1CH+L+btjBn96Ykk3JTyz/GggkVJ3eSgAGCwAhAuJU4GBoGIV3ZUU71kjkn6MA3D0sWABK0U4Os7chdQ3k4sNbnEoxxnOlE6VwvHrcaDouAZumwKBNnZvhL3YFqXA/scqu8ChHPwIErxCflMiQOD4D6gzRSp/hqfET3wuGCkfzY2ea+4AsvhIBxh/VuIyHV9YKKe/f5TfUcJOZLBlCH7Iibr6w2UX47+yIYsF9qoFduM3A+mZoEg9Nh8oDRuA6pgDNopPSsMcqG5KPbGkrxKeWf7e1Fo/sK++HueZOvEoMkqeX1ueKI3Am+hlAqZ6QhF0AnaOaI9TNSfZTiDj+5Y/TbnqmFTsxtFTVBpXqt2ceha/W2TWSLbRLw6Ys40AwUIMFyDtoIvLzAWRmAPzy9qx2tIHDnzX9+mbuWxpYwiZvlzCB595K93D+FTGNgKk/brH3Ax8lY26+YN1EMlrsUj5Oj7FZjXMicrm96VNsieWDLWEZ5a/HwHL7Va+ntPH64kMA3Z1AgFHMwAYaIoOxMBBUoSOAdyEkC3sBHutak5dLKjBRj82lObsSo5L7cHjb6UcLugP6aHamWNZPRjH5gB+bIEtfN+0G732qJ6xuPGoDJ/AbJuGipckHqcVHnh9ea6EE/FtBP0RvMBqpFt1McrhQyBiE4rpYa5ZtBDfHQ3zclnl/lb5g9rSj/lo0NydDBbix05WjH/p1V11nJ5XxcL6PrXCJC/5SU8sMaWEZ5a/PxnMQkC5SVMO+AxuONarDuejzjmwnnF6QGfXWInUFn04dG53RXcSSJirUjCmk4kOxn8hPgDOJrUDx9IdQlavdNgCmAYMTnAEfPqIkZ3cfsSYvs5kUjoQY74hxvFCiXnmlYrTyjul2CIUu4rYpKbjsobYxIdd9DUNoiZT5Q8pG1XPWOgjFsisj1jeA4tYP3Pq1sWSvkp4Zvl7GWuJyASJ0NFscU13zYwaxyKKX08IucWifganUjkmSx16WpPtfNMxjV7hEp3mxpVoMqs6FTDAzE4WMaws+HFxmiKTibW3NnZHsdCccDLhn1FcE5MA8kRlCzQmP82j+KgdfZJymwd8LiEvpkr9M/we/pDozt3fuOArm1bBIqm3ktETS0wo4Znl5wIJoJmz2VhrFpfJhjl63CSElb6Mzm9Wr0lyO4U9BzkRcWqPY3vHDETnF6Vj0O31sVhzjk4nuXHNN2K5BTYM2MCWbeBIMts4KYxIMiw+2lmQnPKPJAMfOfAfkXguuKuSexaCxejDLfE5pRLIovpVbxTFx9tnMqmc06ALlgmBpD8k5FtUr4PFuv33xBLbSnhm+XuZ0Q0LCxlNKs5Vs7hiKnFafuaK0WCg+iDqcdwcLR7fiCPlUr1vw/t77rI31q/VfaCg9mGge++ZjmeCkTw3roh4fZUfF45LCskuIe20wG16jDhRguU0CPC6YDhyucxHTtM+kOEXGzsl8isecxMSz8YP68NyDh+CUSyIYS+6XX8R20x/1B+M2TGvxWKKFybh66tSTyyxqYRnlr+fGRUOy/ciOBXv2nZMLjlPTOWJKtndYkQ/3Nw7h1eeemcliC29k0ve7jG4uCNdxDpJ1fn2ODTv/Vw83lT6qZS7gxDbUW5cJrNqbrs9F3xgh20LlfmplOABFj9UjuKleuz/QzKMiwtHCzhg7TYJ5by64iAc1Q03AirPNs/Us+h5lVHmCIzQO9psPC/MkvioLeNAB/5ltrH4uHshLTwP37PAF+qO+kMo0KGcxUL2EpA5Ibq50zPz9lgJTKmHj79Sz90P9ebTBKh7SkuXvJKBemKJ/hKeeb7+X4Fjpful/5/By53F5MQ7UjqP8awOvtJK/9+J2h1W6MeG69bfOrn0nCm9rdGBXUorjSunn/6Vonjn2m0brwc+0ln0hxIO0oG/PCvJbRO/B5aMr4Rnji+eix97hKIpKSqyUwyvCiqzU3BiIIquSuw8Fn3n6uDUQvscEc3ZMapJ8nwYxAdajM8RdSqQ2MVraJ1x5fSzA9ipICe37bwe+NT4QwkXfGWWv5QUboDfA0vMLuFZ4if/rc2RlJ8EwHBnwHFzdPmlZ/uJjmObK6uOD7uWSPUcj5HhOFdNXp52tI+SeAQCjsBzCbtZsI68HsbK0T52nPaSvzNv1+xx/dawXPJ2gJNdqC4L7UhNa3ykD1yy/lADjfTwypj0qRodm5ZpjSX2S2cWzxLfMNi3wiQnAh1ICUGBuxHeq5d2R9XxjoxsLfH+x/vh0iVbRgEng9JJhvf36F1BRi8sO3XQnvd+AlJ4P4BMDa0yrpxeux85zQntEK8lPjX+sEPQzDa1JZZ0XsKzxHcDuMY7jkqcQKDYl5WXnEZ/tWCJgPz8WFz4kiGQxT7hbmRNOzVzxlXqVboIaHyWvhS8S223ld8CH+nYGX/oOQ8tsMS+Ep45vuexwR8oPfwP7yBIWhhu708AAAAASUVORK5CYII=",
>>>>>>> 16604231710f2420575b5054f0257c77574b8c97
      "text/latex": [
       "$\\displaystyle \\left[ y_{1}{\\left(t \\right)}, \\  g \\left(- \\mu \\cos{\\left(\\alpha \\right)} + \\sin{\\left(\\alpha \\right)}\\right)\\right]$"
      ],
      "text/plain": [
       "[y₁(t), g⋅(-μ⋅cos(α) + sin(α))]"
      ]
     },
     "execution_count": 68,
     "metadata": {},
     "output_type": "execute_result"
    }
   ],
   "source": [
    "f_vec"
   ]
  },
  {
   "cell_type": "markdown",
   "metadata": {},
   "source": [
    "Če rešujemo numerično, potem funkcijo $\\mathbf{f}(t, \\mathbf{y})$ zapišemo:"
   ]
  },
  {
   "cell_type": "code",
   "execution_count": 69,
   "metadata": {},
   "outputs": [
    {
     "data": {
<<<<<<< HEAD
      "image/png": "iVBORw0KGgoAAAANSUhEUgAAAMMAAAAPCAYAAABZVXtlAAAACXBIWXMAAA7EAAAOxAGVKw4bAAAHK0lEQVRoBeWa23EVORCGB5cDMN4IgAwAZ+DNwOxGAGTAFm9+c0EGQARcMoCNgEsGsBFgTgbe/9NRix7NjKblcx7Y2q6SpWm1/r6MukczPjeurq6G/yOdn5/flt+nam803vyqMfiv2Pmrxq/Hrhv7SgbdtGdZ8Xf1d9SeifctYky+4Y+z7JF6NirrP9TrI3oieJI5E/bbGt9dbyRz010Puu72UWvuCuOxevOvQIqHr0/ViNlvaly/Fb/4rXG3ncJIpLUt3cTYbGrGHLCMRbzuabyB50k88P7KvPvqL7kW/0vmjTrxXzjGscYPF3BDcmBFMbMssRn5c8jEriQjPgvjQv07sNQT3M/qf1drJkSWJWh2YwaNH2n9e/UP1BJmxl3VI3l0R/BOJMeNwj5unCeeGHZjE1+4q7o9gBsT8NkNIT4JX/xmja5JhiM187vLTjAczeoGXzKrMcpyryRLfNjgbPgJSc6K1wObFI/CYXvAJ3faG5p7IZnnyKtnY/6jnkRL+0V9SC6vD8lmzEV/DgDbhaSAjetv3iDeRjxups/qJTWsf6Q1VECjN3lA1UzUoSeEJ1BsJvgkXKrc9OJzEz9obJtx0PhaPmrdk2T8zJ+MSYLV9FCM4rfGYTs9UEu35EIxEsZGLcVHa157/GpMzLC7kNZRTNgHJKQnNuOx5lMiMKExxeKTmi9AUTkgQrLS0/Rn52SQIVSDucr3UfxTGUDWtoi1BI2WCKNt7Pqonijee4fth5Nqrcmo7oIjH6h2I7/K5HbAUbJU0mrOX/bYmdYFdEdj5O1ojXmS/pi51zwRSGaeHEYUvbnTAjaRpEZROeR7ZA1/0u/jmEQgXk6Qf25u5kuVreUUKAJWn83tKeGfLCE9UTzJTWwSjwp3Uduo65Duat2fwhsdRap5NvkTydBTfa0AYEPxW/weO01FU7cwozE3vLUevLvOh1r+CIbmU6/hZS2g6+/wJEMRsWRpykn2SxQTWfBbtNOTwRnS0nHcmqznhMnGY0NwdElJtoueObxaJ9eSo3pxQ0dB07XdwLllxhv5qDUcj8qGNiHfS4YNxEbHX6oqicEa3pXmioumlu1Mk9v5Vd0ma730TWJuc5Fe60lmnnQ1sbEHzaWYqreEH8UrL+IDAsQRKiSHcI8s8i06bE0G5swpM94vsayObCacInDclBM1gvdJzahbzwqe4fqeBKTV1KVbekkqzqZW3Wq8ci0ZNhE62cD0+D1ng9iFmJ+V6dENmuRbMS8KrzPI2MTCvwcAZQWghsUWiDVQVK5XNoHP/TmYY+6ZZxnfhFXweOQ9V+Mc/VqNLxF2XGquzZMjPT14kuUGnKmnWl+HvO7yRFsDcv5RVdNRQ/1X8SkKEwrYGdYNuPB2jfnERsfgxfmldJQX5TyXXrTFLz5qTCJYQbUiGpUDtkc2mzHtDmUIlftvtVAFzxBUNKqYGZ7Zo84qajoLjmZWLoT9To3g8JmR94md9NR4GdtbwVck/JmjsG7h8gLYPB6ZgizL1yz7tMpnaJKfTYTft9Rsg9iyRTslG9ZtYL7X+lHMZ3R78eZYa4kBX+TMtyIPrtotMfhQQRJQSPjYQisvwlE5rRl6ZJFfIpKBgN9bEmjxsxGIzCWS8ZrHBWGkx6P6ejNyTKJ6nGqOG6Xhup4InnB4BHsqN8EzGQuPm8fQ/GFsZLxvkuHpwpeTpr+2UD1HHTZFIa3FT54SX9XwPWRnr27Jr8Z8RrdY6yTs9EVI/SQRbLXmNhqP5sWzIlLiF5UDt0fW7Kj7w5pxjWse72yEmuzJsHj0kANspvStXeOb2aEax65X9XTiJdy8BvvrZDS99Ku6JXNf7UR4VHZPbLzbmU/S8IUJv0kcNsWIxEOGJLD4pfm8ZslO+D26ozEf2bZ2IRspKnfUl42ucdob6ssmX8AhfjxNJjGp5KNyLOuRHfaRDNz8uRc6njacSRedYy7PzwUBRyBLppCeDrwt+jZgjFvHoYhu7DRbDXuQPT/gqy//U8DG3EiSuU1CstRYFo+JncLo1p1tqu+N6ah1F3+WBrKBpCch6xfmM/HL1zHNc/1KrRwDxSNhWF9OKFE5rRl6ZJFfooOliShfhuDoZTYoLdOYm/mHWvmvJDy1K7VUlZLg9g/BG/1jSTIEDAxeCNMNUx/SozUhPMkZoQdKerbD8d8O3eOF2yvwTYefJznSTy88U7o4ZvB5tU4Sw1i00+Pk8ZLu3hjNQP9kyVY2MwWDe8zPLKzBK/cwr0C2TmiOSMj5p3NUDtgeWeRnaS8/1JMTBP2pmr0s83n0onJu0DVn4cmLlficj0vl1BjnJj/Uk1xUTwhPOrAJXSQoPxSrz+iIJIrqdvLcYCotFQ+i2rLJy9cVjZkjbn5zkCCTyixeyE5hDZKN6A7FSFhpkwsWX4g/Scqm/ai55It64md+ajgiTgel4jOja3+SAHPJ55BcJ+aiP/8C+Rx18Olf2fUAAAAASUVORK5CYII=",
=======
      "image/png": "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",
>>>>>>> 16604231710f2420575b5054f0257c77574b8c97
      "text/latex": [
       "$\\displaystyle -0.303704874312999$"
      ],
      "text/plain": [
       "-0.3037048743129991"
      ]
     },
     "execution_count": 69,
     "metadata": {},
     "output_type": "execute_result"
    }
   ],
   "source": [
    "pospesek = float((eq.args[1]/m).simplify().subs(podatki))\n",
    "pospesek #raziščite zakaj smo tukaj tako definirali! namig: type(pospesek)"
   ]
  },
  {
   "cell_type": "code",
   "execution_count": 70,
   "metadata": {
    "slideshow": {
     "slide_type": "subslide"
    }
   },
   "outputs": [],
   "source": [
    "def F_klada(t, y):\n",
    "    return np.array([y[1], pospesek],dtype=float)"
   ]
  },
  {
   "cell_type": "markdown",
   "metadata": {},
   "source": [
    "Preverimo funkcijo pri začetnem času $t=0\\,$s in pri začetnih pogojih $[y_0, y_1]=[0, v_0]$:"
   ]
  },
  {
   "cell_type": "code",
   "execution_count": 71,
   "metadata": {},
   "outputs": [
    {
     "data": {
      "text/plain": [
       "array([0., 1.])"
      ]
     },
     "execution_count": 71,
     "metadata": {},
     "output_type": "execute_result"
    }
   ],
   "source": [
    "y_zacetni_pogoji = np.array([0, podatki[v0]])\n",
    "y_zacetni_pogoji"
   ]
  },
  {
   "cell_type": "code",
   "execution_count": 72,
   "metadata": {},
   "outputs": [
    {
     "data": {
      "text/plain": [
       "array([ 1.        , -0.30370487])"
      ]
     },
     "execution_count": 72,
     "metadata": {},
     "output_type": "execute_result"
    }
   ],
   "source": [
    "F_klada(0., y_zacetni_pogoji)"
   ]
  },
  {
   "cell_type": "markdown",
   "metadata": {
    "slideshow": {
     "slide_type": "subslide"
    }
   },
   "source": [
    "Uporabimo sedaj Eulerjevo metodo:"
   ]
  },
  {
   "cell_type": "code",
   "execution_count": 73,
   "metadata": {},
   "outputs": [
    {
     "data": {
      "text/plain": [
       "array([[ 0.        ,  1.        ],\n",
       "       [ 1.        ,  0.69629513],\n",
       "       [ 1.69629513,  0.39259025],\n",
       "       [ 2.08888538,  0.08888538],\n",
       "       [ 2.17777075, -0.2148195 ]])"
      ]
     },
     "execution_count": 73,
     "metadata": {},
     "output_type": "execute_result"
    }
   ],
   "source": [
    "#%%timeit\n",
    "x_Eu = np.linspace(0, 4, 5)\n",
    "y_Eu = euler_sistem(F_klada, x_Eu, np.array([0, 1.]))\n",
    "y_Eu"
   ]
  },
  {
   "cell_type": "markdown",
   "metadata": {
    "slideshow": {
     "slide_type": "subslide"
    }
   },
   "source": [
    "Prikažemo in primerjamo z analitično rešitvijo:"
   ]
  },
  {
   "cell_type": "code",
   "execution_count": 74,
   "metadata": {},
   "outputs": [],
   "source": [
    "def narisi_euler(n=5):\n",
    "    x_Eu = np.linspace(0, 4, n)\n",
    "    y_Eu = euler_sistem(F_klada, x_Eu, np.array([0, 1.]))\n",
    "    plt.title('Eulerjeva metoda s korakom $h={:g}$'.format(x_Eu[1]-x_Eu[0]))\n",
    "    plt.plot(cas, pomik(cas), 'C0', label='Pomik - analitično [m]')\n",
    "    plt.plot(cas, hitrost(cas), 'C1', label='Hitrost - analitično [m/s]')\n",
    "    plt.plot(x_Eu, y_Eu[:, 0], 'C0.', label='Pomik - Euler [m]')\n",
    "    plt.plot(x_Eu, y_Eu[:, 1], 'C1.', label='Hitrost - Euler [m/s]')\n",
    "    plt.xlabel('Čas [s]')\n",
    "    plt.ylabel('Pomik [m] / Hitrost [m/s]')\n",
    "    plt.ylim(-0.5, 2.5)\n",
    "    plt.legend(loc=(1.01, 0))\n",
    "    plt.show();"
   ]
  },
  {
   "cell_type": "code",
   "execution_count": 75,
   "metadata": {
    "slideshow": {
     "slide_type": "subslide"
    }
   },
   "outputs": [
    {
     "data": {
      "application/vnd.jupyter.widget-view+json": {
<<<<<<< HEAD
       "model_id": "8dfa0d8f5a3140f6804b2531dd240360",
=======
       "model_id": "8fe7da0613d44bf295bf7fe97308a68f",
>>>>>>> 16604231710f2420575b5054f0257c77574b8c97
       "version_major": 2,
       "version_minor": 0
      },
      "text/plain": [
       "interactive(children=(IntSlider(value=5, description='n', max=10, min=3), Output()), _dom_classes=('widget-int…"
      ]
     },
     "metadata": {},
     "output_type": "display_data"
    }
   ],
   "source": [
    "interact(narisi_euler, n=(3, 10, 1));"
   ]
  }
 ],
 "metadata": {
  "anaconda-cloud": {},
  "celltoolbar": "Slideshow",
  "kernelspec": {
   "display_name": "Python 3 (ipykernel)",
   "language": "python",
   "name": "python3"
  },
  "language_info": {
   "codemirror_mode": {
    "name": "ipython",
    "version": 3
   },
   "file_extension": ".py",
   "mimetype": "text/x-python",
   "name": "python",
   "nbconvert_exporter": "python",
   "pygments_lexer": "ipython3",
<<<<<<< HEAD
   "version": "3.10.10"
=======
   "version": "3.11.6"
>>>>>>> 16604231710f2420575b5054f0257c77574b8c97
  },
  "latex_envs": {
   "bibliofile": "biblio.bib",
   "cite_by": "apalike",
   "current_citInitial": 1,
   "eqLabelWithNumbers": true,
   "eqNumInitial": 0
  },
  "livereveal": {
   "theme": "sky",
   "transition": "default",
   "width": 1200
  },
  "nav_menu": {},
  "toc": {
   "base_numbering": 1,
   "nav_menu": {
    "height": "371px",
    "width": "252px"
   },
   "number_sections": true,
   "sideBar": true,
   "skip_h1_title": false,
   "title_cell": "Kazalo",
   "title_sidebar": "Kazalo",
   "toc_cell": false,
   "toc_position": {
    "height": "500px",
    "left": "0px",
    "right": "20px",
    "top": "106px",
    "width": "212px"
   },
   "toc_section_display": false,
   "toc_window_display": false
  }
 },
 "nbformat": 4,
 "nbformat_minor": 4
}
